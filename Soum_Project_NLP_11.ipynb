{
  "nbformat": 4,
  "nbformat_minor": 0,
  "metadata": {
    "colab": {
      "name": "My Project-NLP 11.ipynb",
      "provenance": [],
      "collapsed_sections": []
    },
    "kernelspec": {
      "name": "python3",
      "display_name": "Python 3"
    },
    "accelerator": "TPU"
  },
  "cells": [
    {
      "cell_type": "markdown",
      "metadata": {
        "id": "Bf57-WXMy7cf",
        "colab_type": "text"
      },
      "source": [
        "# Sarcasm Detection\n",
        " **Acknowledgement**\n",
        "\n",
        "Misra, Rishabh, and Prahal Arora. \"Sarcasm Detection using Hybrid Neural Network.\" arXiv preprint arXiv:1908.07414 (2019).\n",
        "\n",
        "**Required Files given in below link.**\n",
        "\n",
        "https://drive.google.com/drive/folders/1xUnF35naPGU63xwRDVGc-DkZ3M8V5mMk"
      ]
    },
    {
      "cell_type": "markdown",
      "metadata": {
        "id": "45ny9pvAy9ry",
        "colab_type": "text"
      },
      "source": [
        "# Get Required Files from Drive"
      ]
    },
    {
      "cell_type": "code",
      "metadata": {
        "id": "Q2_oegfq34jN",
        "colab_type": "code",
        "colab": {
          "base_uri": "https://localhost:8080/",
          "height": 121
        },
        "outputId": "8d4ebe72-8f36-4fc4-9a06-91aaca85a0f6"
      },
      "source": [
        "# Mount Colab\n",
        "from google.colab import drive\n",
        "drive.mount('/content/drive/')"
      ],
      "execution_count": null,
      "outputs": [
        {
          "output_type": "stream",
          "text": [
            "Go to this URL in a browser: https://accounts.google.com/o/oauth2/auth?client_id=947318989803-6bn6qk8qdgf4n4g3pfee6491hc0brc4i.apps.googleusercontent.com&redirect_uri=urn%3aietf%3awg%3aoauth%3a2.0%3aoob&response_type=code&scope=email%20https%3a%2f%2fwww.googleapis.com%2fauth%2fdocs.test%20https%3a%2f%2fwww.googleapis.com%2fauth%2fdrive%20https%3a%2f%2fwww.googleapis.com%2fauth%2fdrive.photos.readonly%20https%3a%2f%2fwww.googleapis.com%2fauth%2fpeopleapi.readonly\n",
            "\n",
            "Enter your authorization code:\n",
            "··········\n",
            "Mounted at /content/drive/\n"
          ],
          "name": "stdout"
        }
      ]
    },
    {
      "cell_type": "code",
      "metadata": {
        "id": "yspxbNDP6lmY",
        "colab_type": "code",
        "colab": {}
      },
      "source": [
        "#Set your project path \n",
        "project_path =  '/content/drive/My Drive/Colab/Great Lakes Projects/Project 11 - NLP/GL Data'"
      ],
      "execution_count": null,
      "outputs": []
    },
    {
      "cell_type": "code",
      "metadata": {
        "id": "SHGE68uq69mG",
        "colab_type": "code",
        "colab": {
          "base_uri": "https://localhost:8080/",
          "height": 34
        },
        "outputId": "a8467b7f-95cf-483d-e969-779f8f6bbfb6"
      },
      "source": [
        "!ls"
      ],
      "execution_count": null,
      "outputs": [
        {
          "output_type": "stream",
          "text": [
            "drive  sample_data\n"
          ],
          "name": "stdout"
        }
      ]
    },
    {
      "cell_type": "markdown",
      "metadata": {
        "id": "_synQVhnXU5s",
        "colab_type": "text"
      },
      "source": [
        "# Step 1 : Import the Dependencies/ neccesary Libraries"
      ]
    },
    {
      "cell_type": "code",
      "metadata": {
        "id": "A0v1V2-yoxUD",
        "colab_type": "code",
        "colab": {
          "base_uri": "https://localhost:8080/",
          "height": 87
        },
        "outputId": "43e193cd-044a-4fdf-cb96-6e7048828090"
      },
      "source": [
        "# Import Dependencies\n",
        "import numpy as np \n",
        "import pandas as pd \n",
        "\n",
        "import os\n",
        "import re\n",
        "\n",
        "import tensorflow as tf\n",
        "import pandas as pd\n",
        "import seaborn as sns\n",
        "import matplotlib.pyplot as plt\n",
        "\n",
        "from tensorflow.python.keras.preprocessing.text import Tokenizer\n",
        "from tensorflow.python.keras.preprocessing.sequence import pad_sequences\n",
        "\n",
        "# For Embedding Layer\n",
        "from keras.layers.embeddings import Embedding\n",
        "\n",
        "# For RNN Layer\n",
        "from keras.models import Sequential\n",
        "from keras.layers import Embedding, GRU, LSTM, Bidirectional\n",
        "from keras.layers import Dense, Dropout, Activation\n",
        "\n",
        "# For CNN Layer\n",
        "from keras.layers import Conv1D, MaxPooling1D\n",
        "\n",
        "# For Text Summarization\n",
        "from gensim.summarization import summarize"
      ],
      "execution_count": null,
      "outputs": [
        {
          "output_type": "stream",
          "text": [
            "/usr/local/lib/python3.6/dist-packages/statsmodels/tools/_testing.py:19: FutureWarning: pandas.util.testing is deprecated. Use the functions in the public API at pandas.testing instead.\n",
            "  import pandas.util.testing as tm\n",
            "Using TensorFlow backend.\n"
          ],
          "name": "stderr"
        }
      ]
    },
    {
      "cell_type": "markdown",
      "metadata": {
        "id": "DSB93sbKJlXd",
        "colab_type": "text"
      },
      "source": [
        "# Step 2. Import JSON Data and create Dataframe"
      ]
    },
    {
      "cell_type": "code",
      "metadata": {
        "id": "Iw7NR1UUp3XI",
        "colab_type": "code",
        "colab": {}
      },
      "source": [
        "# Import Files\n",
        "twitter_df = pd.read_json('/content/drive/My Drive/Colab/Great Lakes Projects/Project 11 - NLP/GL Data/Sarcasm_Headlines_Dataset.json', lines = True)"
      ],
      "execution_count": null,
      "outputs": []
    },
    {
      "cell_type": "code",
      "metadata": {
        "id": "yubjGylyGXgS",
        "colab_type": "code",
        "colab": {
          "base_uri": "https://localhost:8080/",
          "height": 343
        },
        "outputId": "17da9ebb-a9d9-49f6-dcae-356f881df52e"
      },
      "source": [
        "twitter_df.head(10)"
      ],
      "execution_count": null,
      "outputs": [
        {
          "output_type": "execute_result",
          "data": {
            "text/html": [
              "<div>\n",
              "<style scoped>\n",
              "    .dataframe tbody tr th:only-of-type {\n",
              "        vertical-align: middle;\n",
              "    }\n",
              "\n",
              "    .dataframe tbody tr th {\n",
              "        vertical-align: top;\n",
              "    }\n",
              "\n",
              "    .dataframe thead th {\n",
              "        text-align: right;\n",
              "    }\n",
              "</style>\n",
              "<table border=\"1\" class=\"dataframe\">\n",
              "  <thead>\n",
              "    <tr style=\"text-align: right;\">\n",
              "      <th></th>\n",
              "      <th>article_link</th>\n",
              "      <th>headline</th>\n",
              "      <th>is_sarcastic</th>\n",
              "    </tr>\n",
              "  </thead>\n",
              "  <tbody>\n",
              "    <tr>\n",
              "      <th>0</th>\n",
              "      <td>https://www.huffingtonpost.com/entry/versace-b...</td>\n",
              "      <td>former versace store clerk sues over secret 'b...</td>\n",
              "      <td>0</td>\n",
              "    </tr>\n",
              "    <tr>\n",
              "      <th>1</th>\n",
              "      <td>https://www.huffingtonpost.com/entry/roseanne-...</td>\n",
              "      <td>the 'roseanne' revival catches up to our thorn...</td>\n",
              "      <td>0</td>\n",
              "    </tr>\n",
              "    <tr>\n",
              "      <th>2</th>\n",
              "      <td>https://local.theonion.com/mom-starting-to-fea...</td>\n",
              "      <td>mom starting to fear son's web series closest ...</td>\n",
              "      <td>1</td>\n",
              "    </tr>\n",
              "    <tr>\n",
              "      <th>3</th>\n",
              "      <td>https://politics.theonion.com/boehner-just-wan...</td>\n",
              "      <td>boehner just wants wife to listen, not come up...</td>\n",
              "      <td>1</td>\n",
              "    </tr>\n",
              "    <tr>\n",
              "      <th>4</th>\n",
              "      <td>https://www.huffingtonpost.com/entry/jk-rowlin...</td>\n",
              "      <td>j.k. rowling wishes snape happy birthday in th...</td>\n",
              "      <td>0</td>\n",
              "    </tr>\n",
              "    <tr>\n",
              "      <th>5</th>\n",
              "      <td>https://www.huffingtonpost.com/entry/advancing...</td>\n",
              "      <td>advancing the world's women</td>\n",
              "      <td>0</td>\n",
              "    </tr>\n",
              "    <tr>\n",
              "      <th>6</th>\n",
              "      <td>https://www.huffingtonpost.com/entry/how-meat-...</td>\n",
              "      <td>the fascinating case for eating lab-grown meat</td>\n",
              "      <td>0</td>\n",
              "    </tr>\n",
              "    <tr>\n",
              "      <th>7</th>\n",
              "      <td>https://www.huffingtonpost.com/entry/boxed-col...</td>\n",
              "      <td>this ceo will send your kids to school, if you...</td>\n",
              "      <td>0</td>\n",
              "    </tr>\n",
              "    <tr>\n",
              "      <th>8</th>\n",
              "      <td>https://politics.theonion.com/top-snake-handle...</td>\n",
              "      <td>top snake handler leaves sinking huckabee camp...</td>\n",
              "      <td>1</td>\n",
              "    </tr>\n",
              "    <tr>\n",
              "      <th>9</th>\n",
              "      <td>https://www.huffingtonpost.com/entry/fridays-m...</td>\n",
              "      <td>friday's morning email: inside trump's presser...</td>\n",
              "      <td>0</td>\n",
              "    </tr>\n",
              "  </tbody>\n",
              "</table>\n",
              "</div>"
            ],
            "text/plain": [
              "                                        article_link  ... is_sarcastic\n",
              "0  https://www.huffingtonpost.com/entry/versace-b...  ...            0\n",
              "1  https://www.huffingtonpost.com/entry/roseanne-...  ...            0\n",
              "2  https://local.theonion.com/mom-starting-to-fea...  ...            1\n",
              "3  https://politics.theonion.com/boehner-just-wan...  ...            1\n",
              "4  https://www.huffingtonpost.com/entry/jk-rowlin...  ...            0\n",
              "5  https://www.huffingtonpost.com/entry/advancing...  ...            0\n",
              "6  https://www.huffingtonpost.com/entry/how-meat-...  ...            0\n",
              "7  https://www.huffingtonpost.com/entry/boxed-col...  ...            0\n",
              "8  https://politics.theonion.com/top-snake-handle...  ...            1\n",
              "9  https://www.huffingtonpost.com/entry/fridays-m...  ...            0\n",
              "\n",
              "[10 rows x 3 columns]"
            ]
          },
          "metadata": {
            "tags": []
          },
          "execution_count": 7
        }
      ]
    },
    {
      "cell_type": "markdown",
      "metadata": {
        "id": "R8DHQuzrcjL5",
        "colab_type": "text"
      },
      "source": [
        "# Step 3 : Basic EDA about headline length"
      ]
    },
    {
      "cell_type": "code",
      "metadata": {
        "id": "NF7OUJQBJt6k",
        "colab_type": "code",
        "colab": {
          "base_uri": "https://localhost:8080/",
          "height": 67
        },
        "outputId": "3f345b06-97b4-41d6-e9bc-8c03ed217074"
      },
      "source": [
        "print(\"----\"*20)\n",
        "print(\"Total number of headlines given in Data is \",len(twitter_df))\n",
        "print(\"----\"*20)"
      ],
      "execution_count": null,
      "outputs": [
        {
          "output_type": "stream",
          "text": [
            "--------------------------------------------------------------------------------\n",
            "Total number of headlines given in Data is  26709\n",
            "--------------------------------------------------------------------------------\n"
          ],
          "name": "stdout"
        }
      ]
    },
    {
      "cell_type": "code",
      "metadata": {
        "id": "FI8m0du_NlSW",
        "colab_type": "code",
        "colab": {
          "base_uri": "https://localhost:8080/",
          "height": 67
        },
        "outputId": "b137a8f7-bc77-4524-8be0-d2a1955c85de"
      },
      "source": [
        "# Check for any null values\n",
        "print(\"----\"*20)\n",
        "print(\"Total number of missing values in headlines is \", twitter_df['headline'].isnull().sum())\n",
        "print(\"----\"*20)"
      ],
      "execution_count": null,
      "outputs": [
        {
          "output_type": "stream",
          "text": [
            "--------------------------------------------------------------------------------\n",
            "Total number of missing values in headlines is  0\n",
            "--------------------------------------------------------------------------------\n"
          ],
          "name": "stdout"
        }
      ]
    },
    {
      "cell_type": "code",
      "metadata": {
        "id": "Rs3q7_v1Z5xk",
        "colab_type": "code",
        "colab": {}
      },
      "source": [
        "# Creating a feature that will contain respective length of  headlines\n",
        "\n",
        "twitter_df['headline_length'] = twitter_df['headline'].str.len() # or the below code\n",
        "#twitter_df['headline_length'] = twitter_tf['headline'].apply(len)"
      ],
      "execution_count": null,
      "outputs": []
    },
    {
      "cell_type": "code",
      "metadata": {
        "id": "M66Qm_xIaxRE",
        "colab_type": "code",
        "colab": {
          "base_uri": "https://localhost:8080/",
          "height": 67
        },
        "outputId": "666285df-630b-4016-d729-13c180e94426"
      },
      "source": [
        "print(\"----\"*20)\n",
        "print(\"The Mean of Headline Length in Given Data is \", twitter_df['headline_length'].mean())\n",
        "print(\"----\"*20)"
      ],
      "execution_count": null,
      "outputs": [
        {
          "output_type": "stream",
          "text": [
            "--------------------------------------------------------------------------------\n",
            "The Mean of Headline Length in Given Data is  60.910591935302705\n",
            "--------------------------------------------------------------------------------\n"
          ],
          "name": "stdout"
        }
      ]
    },
    {
      "cell_type": "code",
      "metadata": {
        "id": "MoJ_6dovQCC6",
        "colab_type": "code",
        "colab": {
          "base_uri": "https://localhost:8080/",
          "height": 168
        },
        "outputId": "3bce829b-7f2a-494e-c044-b215711ed7a6"
      },
      "source": [
        "# Mean and Max Values of Comments\n",
        "twitter_df['headline_length'].describe()"
      ],
      "execution_count": null,
      "outputs": [
        {
          "output_type": "execute_result",
          "data": {
            "text/plain": [
              "count    26709.000000\n",
              "mean        60.910592\n",
              "std         19.184470\n",
              "min          7.000000\n",
              "25%         48.000000\n",
              "50%         61.000000\n",
              "75%         73.000000\n",
              "max        254.000000\n",
              "Name: headline_length, dtype: float64"
            ]
          },
          "metadata": {
            "tags": []
          },
          "execution_count": 12
        }
      ]
    },
    {
      "cell_type": "markdown",
      "metadata": {
        "id": "QQ9nPg_q0MEe",
        "colab_type": "text"
      },
      "source": [
        "## ======================== NOTE ===========================\n",
        "### Hence, the Max Length Headline has 254 characters and minimum length headline has 7 Characters\n",
        "\n",
        "### They are as follows :\n",
        "## =========================================================="
      ]
    },
    {
      "cell_type": "code",
      "metadata": {
        "id": "IvDQ6Q7tgZPt",
        "colab_type": "code",
        "colab": {
          "base_uri": "https://localhost:8080/",
          "height": 171
        },
        "outputId": "f7da0965-4128-4e8b-d1e9-98887fe76e33"
      },
      "source": [
        "# Headline with \n",
        "headline_length = twitter_df.headline.astype(str).map(len)\n",
        "\n",
        "print(\"----\"*20)\n",
        "print(\"########################## This is the longest headline #############################\")\n",
        "print (twitter_df.loc[headline_length.idxmax(), 'headline'])\n",
        "\n",
        "print(\"\\n\", \"----\"*20)\n",
        "print(\"########################## This is the shortest headline ###########################\")\n",
        "print (twitter_df.loc[headline_length.idxmin(), 'headline'])\n",
        "print(\"----\"*20)"
      ],
      "execution_count": null,
      "outputs": [
        {
          "output_type": "stream",
          "text": [
            "--------------------------------------------------------------------------------\n",
            "########################## This is the longest headline #############################\n",
            "maya angelou, poet, author, civil rights activist, and—holy cow—tony award–nominated actress, college professor, magazine editor, streetcar conductor—really? streetcar conductor? wow—calypso singer, nightclub performer, and foreign journalist, dead at 86\n",
            "\n",
            " --------------------------------------------------------------------------------\n",
            "########################## This is the shortest headline ###########################\n",
            "bye bye\n",
            "--------------------------------------------------------------------------------\n"
          ],
          "name": "stdout"
        }
      ]
    },
    {
      "cell_type": "markdown",
      "metadata": {
        "id": "6fmbXPnl1WbZ",
        "colab_type": "text"
      },
      "source": [
        "## Headline_length EDA"
      ]
    },
    {
      "cell_type": "code",
      "metadata": {
        "id": "rgzZhh_gPZKk",
        "colab_type": "code",
        "colab": {
          "base_uri": "https://localhost:8080/",
          "height": 353
        },
        "outputId": "c74e3984-9028-4773-82f0-04ee627b3cf8"
      },
      "source": [
        "# Distribution of Headline_Length\n",
        "plt.figure(figsize=(20,5))\n",
        "sns.countplot(x=\"headline_length\", data=twitter_df)"
      ],
      "execution_count": null,
      "outputs": [
        {
          "output_type": "execute_result",
          "data": {
            "text/plain": [
              "<matplotlib.axes._subplots.AxesSubplot at 0x7ffb72febe10>"
            ]
          },
          "metadata": {
            "tags": []
          },
          "execution_count": 14
        },
        {
          "output_type": "display_data",
          "data": {
            "image/png": "[encoded data removed]",
            "text/plain": [
              "<Figure size 1440x360 with 1 Axes>"
            ]
          },
          "metadata": {
            "tags": [],
            "needs_background": "light"
          }
        }
      ]
    },
    {
      "cell_type": "code",
      "metadata": {
        "id": "WbUeETxmQbIg",
        "colab_type": "code",
        "colab": {
          "base_uri": "https://localhost:8080/",
          "height": 406
        },
        "outputId": "c801344f-b997-4920-8f61-7f03f9950dd8"
      },
      "source": [
        "# Distribution of Comments w.r.t. is_sarcastic values \n",
        "plt.figure(figsize=(3,6))\n",
        "sns.boxplot(x='is_sarcastic', y = twitter_df['headline_length'], data=twitter_df)"
      ],
      "execution_count": null,
      "outputs": [
        {
          "output_type": "execute_result",
          "data": {
            "text/plain": [
              "<matplotlib.axes._subplots.AxesSubplot at 0x7ffbbf4e6da0>"
            ]
          },
          "metadata": {
            "tags": []
          },
          "execution_count": 15
        },
        {
          "output_type": "display_data",
          "data": {
            "image/png": "[encoded data removed]",
            "text/plain": [
              "<Figure size 216x432 with 1 Axes>"
            ]
          },
          "metadata": {
            "tags": [],
            "needs_background": "light"
          }
        }
      ]
    },
    {
      "cell_type": "markdown",
      "metadata": {
        "id": "JTRWACp8c7TW",
        "colab_type": "text"
      },
      "source": [
        "# Step 4 : Dropping article_link and headline_length feature after EDA"
      ]
    },
    {
      "cell_type": "code",
      "metadata": {
        "id": "Ul6pc56tGgPu",
        "colab_type": "code",
        "colab": {}
      },
      "source": [
        "# Now we will drop the article_link and headline_length column from twitter_df as it dont add relevance in model creation\n",
        "twitter_df = twitter_df.drop(['article_link',  'headline_length'], axis = 1)"
      ],
      "execution_count": null,
      "outputs": []
    },
    {
      "cell_type": "markdown",
      "metadata": {
        "id": "z2sG2mfM0SIy",
        "colab_type": "text"
      },
      "source": [
        "# Step 5 : Clean the Data"
      ]
    },
    {
      "cell_type": "code",
      "metadata": {
        "id": "liuy2oNafdFI",
        "colab_type": "code",
        "colab": {}
      },
      "source": [
        "import requests\n",
        "from bs4 import BeautifulSoup \n",
        "'''\n",
        "def preprocess_text(text):\n",
        "    \"\"\" Apply any preprocessing methods\"\"\"\n",
        "    text = BeautifulSoup(text).get_text()\n",
        "    text = text.lower()\n",
        "    text = text.replace('[^\\w\\s]','')\n",
        "    return text\n",
        "    '''\n",
        "def preprocess_text(ReviewText):\n",
        "    ReviewText = ReviewText.str.replace(\"(<br/>)\", \"\")\n",
        "    ReviewText = ReviewText.str.replace('(<a).*(>).*(</a>)', '')\n",
        "    ReviewText = ReviewText.str.replace('(&amp)', '')\n",
        "    ReviewText = ReviewText.str.replace('(&gt)', '')\n",
        "    ReviewText = ReviewText.str.replace('(&lt)', '')\n",
        "    ReviewText = ReviewText.str.replace('(\\xa0)', ' ')  \n",
        "    return ReviewText\n",
        "\n",
        "twitter_df['headline'] = preprocess_text(twitter_df['headline'])\n",
        "\n",
        "# twitter_df[\"headline\"] = twitter_df.headline.apply(preprocess_text)"
      ],
      "execution_count": null,
      "outputs": []
    },
    {
      "cell_type": "code",
      "metadata": {
        "id": "RcM3fEMpgNdH",
        "colab_type": "code",
        "colab": {
          "base_uri": "https://localhost:8080/",
          "height": 50
        },
        "outputId": "dd533d05-0431-45ca-f73b-61b28c9885df"
      },
      "source": [
        "import nltk\n",
        "from nltk import word_tokenize\n",
        "from nltk.corpus import stopwords\n",
        "nltk.download('stopwords')\n",
        "\n",
        "stop = set(stopwords.words('english'))\n",
        "#not is in the stopword list. W/O adding whitelist, the summary would change from \"do not recommend\" to \"recommend\". This solution was borrowed from bertcarremans https://github.com/bertcarremans/TwitterUSAirlineSentiment\n",
        "\n",
        "whitelist = [\"n't\", \"not\", \"no\"]\n",
        "\n",
        "twitter_df['headline_after_removed_stopwords'] = twitter_df['headline'].apply(lambda x: ' '.join([word for word in x.split() if word in whitelist or word not in (stop)]))"
      ],
      "execution_count": null,
      "outputs": [
        {
          "output_type": "stream",
          "text": [
            "[nltk_data] Downloading package stopwords to /root/nltk_data...\n",
            "[nltk_data]   Unzipping corpora/stopwords.zip.\n"
          ],
          "name": "stdout"
        }
      ]
    },
    {
      "cell_type": "code",
      "metadata": {
        "id": "EE_ZWc2Ks1ns",
        "colab_type": "code",
        "colab": {
          "base_uri": "https://localhost:8080/",
          "height": 118
        },
        "outputId": "32c902b8-e063-47c8-8cb0-d6355974533c"
      },
      "source": [
        "print(\"----\"*20)\n",
        "print('### Sample Headline after removed stopwords###'+'\\n'+twitter_df['headline_after_removed_stopwords'][1])\n",
        "print(\"----\"*20)\n",
        "print('### Sample Headline before removed stopwords###'+'\\n'+ twitter_df['headline'][1])"
      ],
      "execution_count": null,
      "outputs": [
        {
          "output_type": "stream",
          "text": [
            "--------------------------------------------------------------------------------\n",
            "### Sample Headline after removed stopwords###\n",
            "'roseanne' revival catches thorny political mood, better worse\n",
            "--------------------------------------------------------------------------------\n",
            "### Sample Headline before removed stopwords###\n",
            "the 'roseanne' revival catches up to our thorny political mood, for better and worse\n"
          ],
          "name": "stdout"
        }
      ]
    },
    {
      "cell_type": "code",
      "metadata": {
        "id": "K5iemiJctPAP",
        "colab_type": "code",
        "colab": {
          "base_uri": "https://localhost:8080/",
          "height": 54
        },
        "outputId": "7970d55e-6537-458f-fe74-59982b0fe378"
      },
      "source": [
        "# This Block of code adds contractions to the headline\n",
        "\n",
        "# We are commenting it out as it dosen't leads to any accuracy improvement\n",
        "\n",
        "'''\n",
        "# A list of contractions from http://stackoverflow.com/questions/19790188/expanding-english-language-contractions-in-python\n",
        "contractions = { \n",
        "\"ain't\": \"am not\",\n",
        "\"aren't\": \"are not\",\n",
        "\"can't\": \"cannot\",\n",
        "\"can't've\": \"cannot have\",\n",
        "\"'cause\": \"because\",\n",
        "\"could've\": \"could have\",\n",
        "\"couldn't\": \"could not\",\n",
        "\"couldn't've\": \"could not have\",\n",
        "\"didn't\": \"did not\",\n",
        "\"doesn't\": \"does not\",\n",
        "\"don't\": \"do not\",\n",
        "\"hadn't\": \"had not\",\n",
        "\"hadn't've\": \"had not have\",\n",
        "\"hasn't\": \"has not\",\n",
        "\"haven't\": \"have not\",\n",
        "\"he'd\": \"he would\",\n",
        "\"he'd've\": \"he would have\",\n",
        "\"he'll\": \"he will\",\n",
        "\"he's\": \"he is\",\n",
        "\"how'd\": \"how did\",\n",
        "\"how'll\": \"how will\",\n",
        "\"how's\": \"how is\",\n",
        "\"i'd\": \"i would\",\n",
        "\"i'll\": \"i will\",\n",
        "\"i'm\": \"i am\",\n",
        "\"i've\": \"i have\",\n",
        "\"isn't\": \"is not\",\n",
        "\"it'd\": \"it would\",\n",
        "\"it'll\": \"it will\",\n",
        "\"it's\": \"it is\",\n",
        "\"let's\": \"let us\",\n",
        "\"ma'am\": \"madam\",\n",
        "\"mayn't\": \"may not\",\n",
        "\"might've\": \"might have\",\n",
        "\"mightn't\": \"might not\",\n",
        "\"must've\": \"must have\",\n",
        "\"mustn't\": \"must not\",\n",
        "\"needn't\": \"need not\",\n",
        "\"oughtn't\": \"ought not\",\n",
        "\"shan't\": \"shall not\",\n",
        "\"sha'n't\": \"shall not\",\n",
        "\"she'd\": \"she would\",\n",
        "\"she'll\": \"she will\",\n",
        "\"she's\": \"she is\",\n",
        "\"should've\": \"should have\",\n",
        "\"shouldn't\": \"should not\",\n",
        "\"that'd\": \"that would\",\n",
        "\"that's\": \"that is\",\n",
        "\"there'd\": \"there had\",\n",
        "\"there's\": \"there is\",\n",
        "\"they'd\": \"they would\",\n",
        "\"they'll\": \"they will\",\n",
        "\"they're\": \"they are\",\n",
        "\"they've\": \"they have\",\n",
        "\"wasn't\": \"was not\",\n",
        "\"we'd\": \"we would\",\n",
        "\"we'll\": \"we will\",\n",
        "\"we're\": \"we are\",\n",
        "\"we've\": \"we have\",\n",
        "\"weren't\": \"were not\",\n",
        "\"what'll\": \"what will\",\n",
        "\"what're\": \"what are\",\n",
        "\"what's\": \"what is\",\n",
        "\"what've\": \"what have\",\n",
        "\"where'd\": \"where did\",\n",
        "\"where's\": \"where is\",\n",
        "\"who'll\": \"who will\",\n",
        "\"who's\": \"who is\",\n",
        "\"won't\": \"will not\",\n",
        "\"wouldn't\": \"would not\",\n",
        "\"you'd\": \"you would\",\n",
        "\"you'll\": \"you will\",\n",
        "\"you're\": \"you are\"\n",
        "}\n",
        "'''"
      ],
      "execution_count": null,
      "outputs": [
        {
          "output_type": "execute_result",
          "data": {
            "text/plain": [
              "'\\n# A list of contractions from http://stackoverflow.com/questions/19790188/expanding-english-language-contractions-in-python\\ncontractions = { \\n\"ain\\'t\": \"am not\",\\n\"aren\\'t\": \"are not\",\\n\"can\\'t\": \"cannot\",\\n\"can\\'t\\'ve\": \"cannot have\",\\n\"\\'cause\": \"because\",\\n\"could\\'ve\": \"could have\",\\n\"couldn\\'t\": \"could not\",\\n\"couldn\\'t\\'ve\": \"could not have\",\\n\"didn\\'t\": \"did not\",\\n\"doesn\\'t\": \"does not\",\\n\"don\\'t\": \"do not\",\\n\"hadn\\'t\": \"had not\",\\n\"hadn\\'t\\'ve\": \"had not have\",\\n\"hasn\\'t\": \"has not\",\\n\"haven\\'t\": \"have not\",\\n\"he\\'d\": \"he would\",\\n\"he\\'d\\'ve\": \"he would have\",\\n\"he\\'ll\": \"he will\",\\n\"he\\'s\": \"he is\",\\n\"how\\'d\": \"how did\",\\n\"how\\'ll\": \"how will\",\\n\"how\\'s\": \"how is\",\\n\"i\\'d\": \"i would\",\\n\"i\\'ll\": \"i will\",\\n\"i\\'m\": \"i am\",\\n\"i\\'ve\": \"i have\",\\n\"isn\\'t\": \"is not\",\\n\"it\\'d\": \"it would\",\\n\"it\\'ll\": \"it will\",\\n\"it\\'s\": \"it is\",\\n\"let\\'s\": \"let us\",\\n\"ma\\'am\": \"madam\",\\n\"mayn\\'t\": \"may not\",\\n\"might\\'ve\": \"might have\",\\n\"mightn\\'t\": \"might not\",\\n\"must\\'ve\": \"must have\",\\n\"mustn\\'t\": \"must not\",\\n\"needn\\'t\": \"need not\",\\n\"oughtn\\'t\": \"ought not\",\\n\"shan\\'t\": \"shall not\",\\n\"sha\\'n\\'t\": \"shall not\",\\n\"she\\'d\": \"she would\",\\n\"she\\'ll\": \"she will\",\\n\"she\\'s\": \"she is\",\\n\"should\\'ve\": \"should have\",\\n\"shouldn\\'t\": \"should not\",\\n\"that\\'d\": \"that would\",\\n\"that\\'s\": \"that is\",\\n\"there\\'d\": \"there had\",\\n\"there\\'s\": \"there is\",\\n\"they\\'d\": \"they would\",\\n\"they\\'ll\": \"they will\",\\n\"they\\'re\": \"they are\",\\n\"they\\'ve\": \"they have\",\\n\"wasn\\'t\": \"was not\",\\n\"we\\'d\": \"we would\",\\n\"we\\'ll\": \"we will\",\\n\"we\\'re\": \"we are\",\\n\"we\\'ve\": \"we have\",\\n\"weren\\'t\": \"were not\",\\n\"what\\'ll\": \"what will\",\\n\"what\\'re\": \"what are\",\\n\"what\\'s\": \"what is\",\\n\"what\\'ve\": \"what have\",\\n\"where\\'d\": \"where did\",\\n\"where\\'s\": \"where is\",\\n\"who\\'ll\": \"who will\",\\n\"who\\'s\": \"who is\",\\n\"won\\'t\": \"will not\",\\n\"wouldn\\'t\": \"would not\",\\n\"you\\'d\": \"you would\",\\n\"you\\'ll\": \"you will\",\\n\"you\\'re\": \"you are\"\\n}\\n'"
            ]
          },
          "metadata": {
            "tags": []
          },
          "execution_count": 21
        }
      ]
    },
    {
      "cell_type": "code",
      "metadata": {
        "id": "ONBynHI-tP9p",
        "colab_type": "code",
        "colab": {
          "base_uri": "https://localhost:8080/",
          "height": 54
        },
        "outputId": "c5d10249-b3ae-4ce1-86ba-de31cd9bdb4b"
      },
      "source": [
        "# We are commenting it out as it dosen't leads to any accuracy improvement\n",
        "'''\n",
        "#This two blocks of code was refered from https://www.kaggle.com/currie32/summarizing-text-with-amazon-reviews\n",
        "def clean_text(text):\n",
        "\n",
        "    # Replace contractions with longer forms in the above list\n",
        "    if True:\n",
        "        text = text.split()\n",
        "        new_text = []\n",
        "        for word in text:\n",
        "            if word in contractions:\n",
        "                new_text.append(contractions[word])\n",
        "            else:\n",
        "                new_text.append(word)\n",
        "'''"
      ],
      "execution_count": null,
      "outputs": [
        {
          "output_type": "execute_result",
          "data": {
            "text/plain": [
              "'\\n#This two blocks of code was refered from https://www.kaggle.com/currie32/summarizing-text-with-amazon-reviews\\ndef clean_text(text):\\n\\n    # Replace contractions with longer forms in the above list\\n    if True:\\n        text = text.split()\\n        new_text = []\\n        for word in text:\\n            if word in contractions:\\n                new_text.append(contractions[word])\\n            else:\\n                new_text.append(word)\\n'"
            ]
          },
          "metadata": {
            "tags": []
          },
          "execution_count": 22
        }
      ]
    },
    {
      "cell_type": "code",
      "metadata": {
        "id": "LLhilwUmZkee",
        "colab_type": "code",
        "colab": {}
      },
      "source": [
        "\n",
        "def clean_text(text):\n",
        "    text = text.lower()\n",
        "    \n",
        "    pattern = re.compile('http[s]?://(?:[a-zA-Z]|[0-9]|[$-_@.&+]|[!*\\(\\),]|(?:%[0-9a-fA-F][0-9a-fA-F]))+')\n",
        "    text = pattern.sub('', text)\n",
        "    text = \" \".join(filter(lambda x:x[0]!='@', text.split()))\n",
        "    emoji = re.compile(\"[\"\n",
        "                           u\"\\U0001F600-\\U0001FFFF\"  # emoticons\n",
        "                           u\"\\U0001F300-\\U0001F5FF\"  # symbols & pictographs\n",
        "                           u\"\\U0001F680-\\U0001F6FF\"  # transport & map symbols\n",
        "                           u\"\\U0001F1E0-\\U0001F1FF\"  # flags (iOS)\n",
        "                           u\"\\U00002702-\\U000027B0\"\n",
        "                           u\"\\U000024C2-\\U0001F251\"\n",
        "                           \"]+\", flags=re.UNICODE)\n",
        "    \n",
        "    text = emoji.sub(r'', text)\n",
        "    text = text.lower()\n",
        "    text = re.sub(r\"i'm\", \"i am\", text)\n",
        "    text = re.sub(r\"he's\", \"he is\", text)\n",
        "    text = re.sub(r\"she's\", \"she is\", text)\n",
        "    text = re.sub(r\"that's\", \"that is\", text)        \n",
        "    text = re.sub(r\"what's\", \"what is\", text)\n",
        "    text = re.sub(r\"where's\", \"where is\", text) \n",
        "    text = re.sub(r\"\\'ll\", \" will\", text)  \n",
        "    text = re.sub(r\"\\'ve\", \" have\", text)  \n",
        "    text = re.sub(r\"\\'re\", \" are\", text)\n",
        "    text = re.sub(r\"\\'d\", \" would\", text)\n",
        "    text = re.sub(r\"\\'ve\", \" have\", text)\n",
        "    text = re.sub(r\"won't\", \"will not\", text)\n",
        "    text = re.sub(r\"don't\", \"do not\", text)\n",
        "    text = re.sub(r\"did't\", \"did not\", text)\n",
        "    text = re.sub(r\"can't\", \"can not\", text)\n",
        "    text = re.sub(r\"it's\", \"it is\", text)\n",
        "    text = re.sub(r\"couldn't\", \"could not\", text)\n",
        "    text = re.sub(r\"have't\", \"have not\", text)\n",
        "    text = re.sub(r\"[,.\\\"\\'!@#$%^&*(){}?/;`~:<>+=-]\", \"\", text)\n",
        "    return text\n"
      ],
      "execution_count": null,
      "outputs": []
    },
    {
      "cell_type": "code",
      "metadata": {
        "id": "H0HEyKEUvkNt",
        "colab_type": "code",
        "colab": {
          "base_uri": "https://localhost:8080/",
          "height": 195
        },
        "outputId": "d3a796cd-0ea1-4f8c-d61c-07e27c58e84c"
      },
      "source": [
        "twitter_df.head()"
      ],
      "execution_count": null,
      "outputs": [
        {
          "output_type": "execute_result",
          "data": {
            "text/html": [
              "<div>\n",
              "<style scoped>\n",
              "    .dataframe tbody tr th:only-of-type {\n",
              "        vertical-align: middle;\n",
              "    }\n",
              "\n",
              "    .dataframe tbody tr th {\n",
              "        vertical-align: top;\n",
              "    }\n",
              "\n",
              "    .dataframe thead th {\n",
              "        text-align: right;\n",
              "    }\n",
              "</style>\n",
              "<table border=\"1\" class=\"dataframe\">\n",
              "  <thead>\n",
              "    <tr style=\"text-align: right;\">\n",
              "      <th></th>\n",
              "      <th>headline</th>\n",
              "      <th>is_sarcastic</th>\n",
              "      <th>headline_after_removed_stopwords</th>\n",
              "    </tr>\n",
              "  </thead>\n",
              "  <tbody>\n",
              "    <tr>\n",
              "      <th>0</th>\n",
              "      <td>former versace store clerk sues over secret 'b...</td>\n",
              "      <td>0</td>\n",
              "      <td>former versace store clerk sues secret 'black ...</td>\n",
              "    </tr>\n",
              "    <tr>\n",
              "      <th>1</th>\n",
              "      <td>the 'roseanne' revival catches up to our thorn...</td>\n",
              "      <td>0</td>\n",
              "      <td>'roseanne' revival catches thorny political mo...</td>\n",
              "    </tr>\n",
              "    <tr>\n",
              "      <th>2</th>\n",
              "      <td>mom starting to fear son's web series closest ...</td>\n",
              "      <td>1</td>\n",
              "      <td>mom starting fear son's web series closest thi...</td>\n",
              "    </tr>\n",
              "    <tr>\n",
              "      <th>3</th>\n",
              "      <td>boehner just wants wife to listen, not come up...</td>\n",
              "      <td>1</td>\n",
              "      <td>boehner wants wife listen, not come alternativ...</td>\n",
              "    </tr>\n",
              "    <tr>\n",
              "      <th>4</th>\n",
              "      <td>j.k. rowling wishes snape happy birthday in th...</td>\n",
              "      <td>0</td>\n",
              "      <td>j.k. rowling wishes snape happy birthday magic...</td>\n",
              "    </tr>\n",
              "  </tbody>\n",
              "</table>\n",
              "</div>"
            ],
            "text/plain": [
              "                                            headline  ...                   headline_after_removed_stopwords\n",
              "0  former versace store clerk sues over secret 'b...  ...  former versace store clerk sues secret 'black ...\n",
              "1  the 'roseanne' revival catches up to our thorn...  ...  'roseanne' revival catches thorny political mo...\n",
              "2  mom starting to fear son's web series closest ...  ...  mom starting fear son's web series closest thi...\n",
              "3  boehner just wants wife to listen, not come up...  ...  boehner wants wife listen, not come alternativ...\n",
              "4  j.k. rowling wishes snape happy birthday in th...  ...  j.k. rowling wishes snape happy birthday magic...\n",
              "\n",
              "[5 rows x 3 columns]"
            ]
          },
          "metadata": {
            "tags": []
          },
          "execution_count": 24
        }
      ]
    },
    {
      "cell_type": "code",
      "metadata": {
        "id": "rW3gQm5wvexW",
        "colab_type": "code",
        "colab": {
          "base_uri": "https://localhost:8080/",
          "height": 50
        },
        "outputId": "fb5d11ac-3c3c-4cd6-d6a8-c485b9809ef5"
      },
      "source": [
        "clean_summaries = []\n",
        "for summary in twitter_df.headline_after_removed_stopwords:\n",
        "    clean_summaries.append(clean_text(summary))\n",
        "    pass\n",
        "print(\"Summaries are complete.\")\n",
        "\n",
        "print(len(clean_summaries))"
      ],
      "execution_count": null,
      "outputs": [
        {
          "output_type": "stream",
          "text": [
            "Summaries are complete.\n",
            "26709\n"
          ],
          "name": "stdout"
        }
      ]
    },
    {
      "cell_type": "code",
      "metadata": {
        "id": "KqpSNU1afTwe",
        "colab_type": "code",
        "colab": {
          "base_uri": "https://localhost:8080/",
          "height": 195
        },
        "outputId": "7521ba8e-1fd1-49e6-ca3f-0c54d3d37c54"
      },
      "source": [
        "twitter_df.head()"
      ],
      "execution_count": null,
      "outputs": [
        {
          "output_type": "execute_result",
          "data": {
            "text/html": [
              "<div>\n",
              "<style scoped>\n",
              "    .dataframe tbody tr th:only-of-type {\n",
              "        vertical-align: middle;\n",
              "    }\n",
              "\n",
              "    .dataframe tbody tr th {\n",
              "        vertical-align: top;\n",
              "    }\n",
              "\n",
              "    .dataframe thead th {\n",
              "        text-align: right;\n",
              "    }\n",
              "</style>\n",
              "<table border=\"1\" class=\"dataframe\">\n",
              "  <thead>\n",
              "    <tr style=\"text-align: right;\">\n",
              "      <th></th>\n",
              "      <th>headline</th>\n",
              "      <th>is_sarcastic</th>\n",
              "      <th>headline_after_removed_stopwords</th>\n",
              "    </tr>\n",
              "  </thead>\n",
              "  <tbody>\n",
              "    <tr>\n",
              "      <th>0</th>\n",
              "      <td>former versace store clerk sues over secret 'b...</td>\n",
              "      <td>0</td>\n",
              "      <td>former versace store clerk sues secret 'black ...</td>\n",
              "    </tr>\n",
              "    <tr>\n",
              "      <th>1</th>\n",
              "      <td>the 'roseanne' revival catches up to our thorn...</td>\n",
              "      <td>0</td>\n",
              "      <td>'roseanne' revival catches thorny political mo...</td>\n",
              "    </tr>\n",
              "    <tr>\n",
              "      <th>2</th>\n",
              "      <td>mom starting to fear son's web series closest ...</td>\n",
              "      <td>1</td>\n",
              "      <td>mom starting fear son's web series closest thi...</td>\n",
              "    </tr>\n",
              "    <tr>\n",
              "      <th>3</th>\n",
              "      <td>boehner just wants wife to listen, not come up...</td>\n",
              "      <td>1</td>\n",
              "      <td>boehner wants wife listen, not come alternativ...</td>\n",
              "    </tr>\n",
              "    <tr>\n",
              "      <th>4</th>\n",
              "      <td>j.k. rowling wishes snape happy birthday in th...</td>\n",
              "      <td>0</td>\n",
              "      <td>j.k. rowling wishes snape happy birthday magic...</td>\n",
              "    </tr>\n",
              "  </tbody>\n",
              "</table>\n",
              "</div>"
            ],
            "text/plain": [
              "                                            headline  ...                   headline_after_removed_stopwords\n",
              "0  former versace store clerk sues over secret 'b...  ...  former versace store clerk sues secret 'black ...\n",
              "1  the 'roseanne' revival catches up to our thorn...  ...  'roseanne' revival catches thorny political mo...\n",
              "2  mom starting to fear son's web series closest ...  ...  mom starting fear son's web series closest thi...\n",
              "3  boehner just wants wife to listen, not come up...  ...  boehner wants wife listen, not come alternativ...\n",
              "4  j.k. rowling wishes snape happy birthday in th...  ...  j.k. rowling wishes snape happy birthday magic...\n",
              "\n",
              "[5 rows x 3 columns]"
            ]
          },
          "metadata": {
            "tags": []
          },
          "execution_count": 26
        }
      ]
    },
    {
      "cell_type": "code",
      "metadata": {
        "id": "w9RYxXGAaGRN",
        "colab_type": "code",
        "colab": {
          "base_uri": "https://localhost:8080/",
          "height": 773
        },
        "outputId": "1bfa88e2-fd5a-471e-f9e3-0bc4167c264c"
      },
      "source": [
        "import string\n",
        "import nltk\n",
        "nltk.download('punkt')\n",
        "nltk.download('stopwords')\n",
        "\n",
        "from nltk.tokenize import word_tokenize\n",
        "from nltk.corpus import stopwords\n",
        "import re\n",
        "\n",
        "def CleanTokenize(df):\n",
        "    head_lines = list()\n",
        "    lines = df[\"headline\"].values.tolist()\n",
        "\n",
        "    for line in lines:\n",
        "        line = clean_text(line)\n",
        "        # tokenize the text\n",
        "        tokens = word_tokenize(line)\n",
        "        # remove puntuations\n",
        "        table = str.maketrans('', '', string.punctuation)\n",
        "        stripped = [w.translate(table) for w in tokens]\n",
        "        # remove non alphabetic characters\n",
        "        words = [word for word in stripped if word.isalpha()]\n",
        "        stop_words = set(stopwords.words(\"english\"))\n",
        "        # remove stop words\n",
        "        words = [w for w in words if not w in stop_words]\n",
        "        head_lines.append(words)\n",
        "    return head_lines\n",
        "\n",
        "head_lines = CleanTokenize(twitter_df)\n",
        "head_lines[0:10]"
      ],
      "execution_count": null,
      "outputs": [
        {
          "output_type": "stream",
          "text": [
            "[nltk_data] Downloading package punkt to /root/nltk_data...\n",
            "[nltk_data]   Unzipping tokenizers/punkt.zip.\n",
            "[nltk_data] Downloading package stopwords to /root/nltk_data...\n",
            "[nltk_data]   Package stopwords is already up-to-date!\n"
          ],
          "name": "stdout"
        },
        {
          "output_type": "execute_result",
          "data": {
            "text/plain": [
              "[['former',\n",
              "  'versace',\n",
              "  'store',\n",
              "  'clerk',\n",
              "  'sues',\n",
              "  'secret',\n",
              "  'black',\n",
              "  'code',\n",
              "  'minority',\n",
              "  'shoppers'],\n",
              " ['roseanne',\n",
              "  'revival',\n",
              "  'catches',\n",
              "  'thorny',\n",
              "  'political',\n",
              "  'mood',\n",
              "  'better',\n",
              "  'worse'],\n",
              " ['mom',\n",
              "  'starting',\n",
              "  'fear',\n",
              "  'sons',\n",
              "  'web',\n",
              "  'series',\n",
              "  'closest',\n",
              "  'thing',\n",
              "  'grandchild'],\n",
              " ['boehner',\n",
              "  'wants',\n",
              "  'wife',\n",
              "  'listen',\n",
              "  'come',\n",
              "  'alternative',\n",
              "  'debtreduction',\n",
              "  'ideas'],\n",
              " ['jk', 'rowling', 'wishes', 'snape', 'happy', 'birthday', 'magical', 'way'],\n",
              " ['advancing', 'worlds', 'women'],\n",
              " ['fascinating', 'case', 'eating', 'labgrown', 'meat'],\n",
              " ['ceo', 'send', 'kids', 'school', 'work', 'company'],\n",
              " ['top', 'snake', 'handler', 'leaves', 'sinking', 'huckabee', 'campaign'],\n",
              " ['fridays', 'morning', 'email', 'inside', 'trumps', 'presser', 'ages']]"
            ]
          },
          "metadata": {
            "tags": []
          },
          "execution_count": 27
        }
      ]
    },
    {
      "cell_type": "markdown",
      "metadata": {
        "id": "QdvHNBV22oC9",
        "colab_type": "text"
      },
      "source": [
        "# Step 6 : Visualize the most occuring words"
      ]
    },
    {
      "cell_type": "code",
      "metadata": {
        "id": "6kCmnF4Bq9X5",
        "colab_type": "code",
        "colab": {
          "base_uri": "https://localhost:8080/",
          "height": 466
        },
        "outputId": "a4463b94-74f3-45eb-fab0-6ce7f975e598"
      },
      "source": [
        "from collections import Counter\n",
        "from wordcloud import WordCloud, ImageColorGenerator\n",
        "pos_data = twitter_df.loc[twitter_df['is_sarcastic'] == 1]\n",
        "pos_head_lines = CleanTokenize(pos_data)\n",
        "pos_lines = [j for sub in pos_head_lines for j in sub] \n",
        "word_could_dict=Counter(pos_lines)\n",
        "\n",
        "wordcloud = WordCloud(width = 1000, height = 500).generate_from_frequencies(word_could_dict)\n",
        "plt.figure(figsize=(15,8))\n",
        "plt.imshow(wordcloud)\n",
        "plt.axis(\"off\")\n"
      ],
      "execution_count": null,
      "outputs": [
        {
          "output_type": "execute_result",
          "data": {
            "text/plain": [
              "(-0.5, 999.5, 499.5, -0.5)"
            ]
          },
          "metadata": {
            "tags": []
          },
          "execution_count": 28
        },
        {
          "output_type": "display_data",
          "data": {
            "image/png": "[encoded data removed]",
            "text/plain": [
              "<Figure size 1080x576 with 1 Axes>"
            ]
          },
          "metadata": {
            "tags": [],
            "needs_background": "light"
          }
        }
      ]
    },
    {
      "cell_type": "markdown",
      "metadata": {
        "id": "M4mDa1mI3Gbg",
        "colab_type": "text"
      },
      "source": [
        "# Step 7  :Creating the Train and Test split"
      ]
    },
    {
      "cell_type": "code",
      "metadata": {
        "id": "nfRzYf8xrA8w",
        "colab_type": "code",
        "colab": {
          "base_uri": "https://localhost:8080/",
          "height": 50
        },
        "outputId": "027cfc56-cef3-4f53-f8af-c0300a5c7110"
      },
      "source": [
        "validation_split = 0.3\n",
        "max_length = 30\n",
        "\n",
        "\n",
        "tokenizer_obj = Tokenizer()\n",
        "tokenizer_obj.fit_on_texts(head_lines)\n",
        "sequences = tokenizer_obj.texts_to_sequences(head_lines)\n",
        "\n",
        "word_index = tokenizer_obj.word_index\n",
        "print(\"unique tokens - \",len(word_index))\n",
        "vocab_size = len(tokenizer_obj.word_index) + 1\n",
        "print('vocab size -', vocab_size)\n",
        "\n",
        "lines_pad = pad_sequences(sequences, maxlen=max_length, padding='post')\n",
        "sentiment =  twitter_df['is_sarcastic'].values\n",
        "\n",
        "indices = np.arange(lines_pad.shape[0])\n",
        "np.random.shuffle(indices)\n",
        "lines_pad = lines_pad[indices]\n",
        "sentiment = sentiment[indices]\n",
        "\n",
        "num_validation_samples = int(validation_split * lines_pad.shape[0])\n",
        "\n",
        "X_train_pad = lines_pad[:-num_validation_samples]\n",
        "y_train = sentiment[:-num_validation_samples]\n",
        "X_test_pad = lines_pad[-num_validation_samples:]\n",
        "y_test = sentiment[-num_validation_samples:]"
      ],
      "execution_count": null,
      "outputs": [
        {
          "output_type": "stream",
          "text": [
            "unique tokens -  27483\n",
            "vocab size - 27484\n"
          ],
          "name": "stdout"
        }
      ]
    },
    {
      "cell_type": "code",
      "metadata": {
        "id": "Qwz39tUirFgp",
        "colab_type": "code",
        "colab": {
          "base_uri": "https://localhost:8080/",
          "height": 84
        },
        "outputId": "238abf31-35da-49fd-acb0-133eb15f1fa4"
      },
      "source": [
        "print('Shape of X_train_pad:', X_train_pad.shape)\n",
        "print('Shape of y_train:', y_train.shape)\n",
        "\n",
        "print('Shape of X_test_pad:', X_test_pad.shape)\n",
        "print('Shape of y_test:', y_test.shape)"
      ],
      "execution_count": null,
      "outputs": [
        {
          "output_type": "stream",
          "text": [
            "Shape of X_train_pad: (18697, 30)\n",
            "Shape of y_train: (18697,)\n",
            "Shape of X_test_pad: (8012, 30)\n",
            "Shape of y_test: (8012,)\n"
          ],
          "name": "stdout"
        }
      ]
    },
    {
      "cell_type": "markdown",
      "metadata": {
        "id": "RKVdmkR34G4v",
        "colab_type": "text"
      },
      "source": [
        "# Step 7 : Importing Pre-trained GloVe Model"
      ]
    },
    {
      "cell_type": "code",
      "metadata": {
        "id": "EE0iFwvh35hX",
        "colab_type": "code",
        "colab": {
          "base_uri": "https://localhost:8080/",
          "height": 34
        },
        "outputId": "355a8a7e-79e1-46a2-e17a-b3fbecb0202e"
      },
      "source": [
        "embeddings_index = {}\n",
        "embedding_dim = 100\n",
        "\n",
        "GLOVE_DIR = \"/content/drive/My Drive/Colab/Great Lakes Projects/Project 11 - NLP/GL Data\"\n",
        "\n",
        "f = open(os.path.join(GLOVE_DIR, 'glove.6B.100d.txt'), encoding = \"utf-8\")\n",
        "for line in f:\n",
        "    values = line.split()\n",
        "    word = values[0]\n",
        "    coefs = np.asarray(values[1:], dtype='float32')\n",
        "    embeddings_index[word] = coefs\n",
        "f.close()\n",
        "\n",
        "print('Found %s word vectors.' % len(embeddings_index))"
      ],
      "execution_count": null,
      "outputs": [
        {
          "output_type": "stream",
          "text": [
            "Found 400000 word vectors.\n"
          ],
          "name": "stdout"
        }
      ]
    },
    {
      "cell_type": "markdown",
      "metadata": {
        "id": "YtmQ3if652vy",
        "colab_type": "text"
      },
      "source": [
        "# Step 8 : Importing GloVe and Building the Embedding Layer/Matrix"
      ]
    },
    {
      "cell_type": "code",
      "metadata": {
        "id": "_XqCfteY5MD8",
        "colab_type": "code",
        "colab": {
          "base_uri": "https://localhost:8080/",
          "height": 34
        },
        "outputId": "acafa8f5-9261-48a7-bb5e-988682cf56f4"
      },
      "source": [
        "embedding_matrix = np.zeros((len(word_index) + 1, embedding_dim))\n",
        "c = 0\n",
        "for word, i in word_index.items():\n",
        "    embedding_vector = embeddings_index.get(word)\n",
        "    if embedding_vector is not None:\n",
        "        c+=1\n",
        "        embedding_matrix[i] = embedding_vector\n",
        "print(c)"
      ],
      "execution_count": null,
      "outputs": [
        {
          "output_type": "stream",
          "text": [
            "24011\n"
          ],
          "name": "stdout"
        }
      ]
    },
    {
      "cell_type": "code",
      "metadata": {
        "id": "lXafKivwLCYi",
        "colab_type": "code",
        "colab": {}
      },
      "source": [
        "embedding_layer = Embedding(len(word_index) + 1,\n",
        "                            embedding_dim,\n",
        "                            weights=[embedding_matrix],\n",
        "                            input_length=max_length,\n",
        "                            trainable=False)"
      ],
      "execution_count": null,
      "outputs": []
    },
    {
      "cell_type": "markdown",
      "metadata": {
        "id": "lRZXYOYYLv28",
        "colab_type": "text"
      },
      "source": [
        "# Step 9 : Building and Training the RNN"
      ]
    },
    {
      "cell_type": "code",
      "metadata": {
        "id": "O9SRVuZDu8dR",
        "colab_type": "code",
        "colab": {}
      },
      "source": [
        "# Convolution Params\n",
        "kernel_size = 5\n",
        "filters = 64\n",
        "pool_size = 4\n",
        "activation_func = 'sigmoid'\n",
        "\n",
        "\n",
        "# LSTM/GRU/Bi-directional LSTM Params\n",
        "seq_output_size = 128\n",
        "\n",
        "# Training Params\n",
        "batch_size = 32\n",
        "epochs = 25"
      ],
      "execution_count": null,
      "outputs": []
    },
    {
      "cell_type": "markdown",
      "metadata": {
        "id": "IJsm_kxQqHc-",
        "colab_type": "text"
      },
      "source": [
        "### 9(a). Model with (( GloVe + Single LSTM )) Layer"
      ]
    },
    {
      "cell_type": "code",
      "metadata": {
        "id": "ybunqt8SLhqF",
        "colab_type": "code",
        "colab": {
          "base_uri": "https://localhost:8080/",
          "height": 286
        },
        "outputId": "082044d5-52db-4730-d1aa-506295346690"
      },
      "source": [
        "model = Sequential()\n",
        "model.add(embedding_layer)\n",
        "model.add(LSTM(seq_output_size, dropout=0.2, recurrent_dropout=0.25))\n",
        "model.add(Dense(1, activation='sigmoid'))\n",
        "\n",
        "model.compile(loss='binary_crossentropy', optimizer='adam', metrics=['acc'])\n",
        "\n",
        "print('Summary of the built model...')\n",
        "print(model.summary())"
      ],
      "execution_count": null,
      "outputs": [
        {
          "output_type": "stream",
          "text": [
            "Summary of the built model...\n",
            "Model: \"sequential_1\"\n",
            "_________________________________________________________________\n",
            "Layer (type)                 Output Shape              Param #   \n",
            "=================================================================\n",
            "embedding_1 (Embedding)      (None, 30, 100)           2748400   \n",
            "_________________________________________________________________\n",
            "lstm_1 (LSTM)                (None, 128)               117248    \n",
            "_________________________________________________________________\n",
            "dense_1 (Dense)              (None, 1)                 129       \n",
            "=================================================================\n",
            "Total params: 2,865,777\n",
            "Trainable params: 117,377\n",
            "Non-trainable params: 2,748,400\n",
            "_________________________________________________________________\n",
            "None\n"
          ],
          "name": "stdout"
        }
      ]
    },
    {
      "cell_type": "code",
      "metadata": {
        "id": "n4XRiWpPMjf6",
        "colab_type": "code",
        "colab": {
          "base_uri": "https://localhost:8080/",
          "height": 874
        },
        "outputId": "ba0e990b-4bd8-4e78-ae95-a112840fdc7d"
      },
      "source": [
        "history_single_lstm = model.fit(X_train_pad, y_train, \n",
        "                                batch_size=batch_size, \n",
        "                                epochs=epochs, \n",
        "                                validation_data=(X_test_pad, y_test), \n",
        "                                verbose=2)"
      ],
      "execution_count": null,
      "outputs": [
        {
          "output_type": "stream",
          "text": [
            "Train on 18697 samples, validate on 8012 samples\n",
            "Epoch 1/25\n",
            " - 25s - loss: 0.6034 - acc: 0.6805 - val_loss: 0.5285 - val_acc: 0.7456\n",
            "Epoch 2/25\n",
            " - 24s - loss: 0.5533 - acc: 0.7286 - val_loss: 0.5079 - val_acc: 0.7580\n",
            "Epoch 3/25\n",
            " - 24s - loss: 0.5232 - acc: 0.7473 - val_loss: 0.4735 - val_acc: 0.7827\n",
            "Epoch 4/25\n",
            " - 24s - loss: 0.5015 - acc: 0.7604 - val_loss: 0.4665 - val_acc: 0.7793\n",
            "Epoch 5/25\n",
            " - 24s - loss: 0.4806 - acc: 0.7762 - val_loss: 0.4711 - val_acc: 0.7831\n",
            "Epoch 6/25\n",
            " - 24s - loss: 0.4636 - acc: 0.7826 - val_loss: 0.4311 - val_acc: 0.8022\n",
            "Epoch 7/25\n",
            " - 24s - loss: 0.4469 - acc: 0.7914 - val_loss: 0.4285 - val_acc: 0.8009\n",
            "Epoch 8/25\n",
            " - 24s - loss: 0.4379 - acc: 0.8019 - val_loss: 0.4172 - val_acc: 0.8084\n",
            "Epoch 9/25\n",
            " - 24s - loss: 0.4236 - acc: 0.8049 - val_loss: 0.4087 - val_acc: 0.8130\n",
            "Epoch 10/25\n",
            " - 24s - loss: 0.4094 - acc: 0.8170 - val_loss: 0.4068 - val_acc: 0.8127\n",
            "Epoch 11/25\n",
            " - 24s - loss: 0.3975 - acc: 0.8223 - val_loss: 0.3964 - val_acc: 0.8176\n",
            "Epoch 12/25\n",
            " - 24s - loss: 0.3883 - acc: 0.8267 - val_loss: 0.3888 - val_acc: 0.8216\n",
            "Epoch 13/25\n",
            " - 24s - loss: 0.3778 - acc: 0.8302 - val_loss: 0.3905 - val_acc: 0.8209\n",
            "Epoch 14/25\n",
            " - 24s - loss: 0.3677 - acc: 0.8359 - val_loss: 0.3832 - val_acc: 0.8258\n",
            "Epoch 15/25\n",
            " - 24s - loss: 0.3562 - acc: 0.8423 - val_loss: 0.3863 - val_acc: 0.8246\n",
            "Epoch 16/25\n",
            " - 24s - loss: 0.3472 - acc: 0.8480 - val_loss: 0.3859 - val_acc: 0.8259\n",
            "Epoch 17/25\n",
            " - 24s - loss: 0.3390 - acc: 0.8507 - val_loss: 0.3776 - val_acc: 0.8288\n",
            "Epoch 18/25\n",
            " - 24s - loss: 0.3299 - acc: 0.8567 - val_loss: 0.3802 - val_acc: 0.8249\n",
            "Epoch 19/25\n",
            " - 24s - loss: 0.3251 - acc: 0.8598 - val_loss: 0.3839 - val_acc: 0.8278\n",
            "Epoch 20/25\n",
            " - 24s - loss: 0.3077 - acc: 0.8675 - val_loss: 0.3835 - val_acc: 0.8301\n",
            "Epoch 21/25\n",
            " - 24s - loss: 0.3128 - acc: 0.8638 - val_loss: 0.3824 - val_acc: 0.8331\n",
            "Epoch 22/25\n",
            " - 24s - loss: 0.3043 - acc: 0.8692 - val_loss: 0.3780 - val_acc: 0.8303\n",
            "Epoch 23/25\n",
            " - 27s - loss: 0.2905 - acc: 0.8765 - val_loss: 0.3822 - val_acc: 0.8288\n",
            "Epoch 24/25\n",
            " - 24s - loss: 0.2853 - acc: 0.8743 - val_loss: 0.3728 - val_acc: 0.8351\n",
            "Epoch 25/25\n",
            " - 24s - loss: 0.2731 - acc: 0.8846 - val_loss: 0.3794 - val_acc: 0.8355\n"
          ],
          "name": "stdout"
        }
      ]
    },
    {
      "cell_type": "code",
      "metadata": {
        "id": "6rq4DPPjyV9s",
        "colab_type": "code",
        "colab": {
          "base_uri": "https://localhost:8080/",
          "height": 84
        },
        "outputId": "8cf83bc4-067b-4977-9337-994e040f49d3"
      },
      "source": [
        "single_lstm_score, single_lstm_acc = model.evaluate(X_test_pad, y_test, batch_size=batch_size)\n",
        "print(\"---\"*20)\n",
        "print('Single LSTM Test score:', single_lstm_score)\n",
        "print('Single LSTM Test accuracy:', single_lstm_acc)"
      ],
      "execution_count": null,
      "outputs": [
        {
          "output_type": "stream",
          "text": [
            "8012/8012 [==============================] - 3s 345us/step\n",
            "------------------------------------------------------------\n",
            "Single LSTM Test score: 0.3794403298610577\n",
            "Single LSTM Test accuracy: 0.8354967832565308\n"
          ],
          "name": "stdout"
        }
      ]
    },
    {
      "cell_type": "markdown",
      "metadata": {
        "id": "_Ip7DIDhrPGT",
        "colab_type": "text"
      },
      "source": [
        "### 6(b). Model with (( GloVe + LSTM + Conv1D + Maxpool )) Unit Layers"
      ]
    },
    {
      "cell_type": "code",
      "metadata": {
        "id": "vgn44NxEuwdD",
        "colab_type": "code",
        "colab": {}
      },
      "source": [
        ""
      ],
      "execution_count": null,
      "outputs": []
    },
    {
      "cell_type": "code",
      "metadata": {
        "id": "YIaIy_RLNHmA",
        "colab_type": "code",
        "colab": {
          "base_uri": "https://localhost:8080/",
          "height": 34
        },
        "outputId": "84fee7c0-db63-4c74-957d-0ccf128562de"
      },
      "source": [
        "print('Build model...')\n",
        "\n",
        "# Adding Embedding Layer\n",
        "lstm_model = Sequential()\n",
        "lstm_model.add(embedding_layer)\n",
        "lstm_model.add(Dropout(0.2))\n",
        "lstm_model.add(Conv1D(filters,\n",
        "                 kernel_size,\n",
        "                 padding='valid',\n",
        "                 activation='relu',\n",
        "                 strides=1))\n",
        "\n",
        "# Adding LSTM Layer\n",
        "lstm_model.add(MaxPooling1D(pool_size=pool_size))\n",
        "lstm_model.add(LSTM(seq_output_size, dropout=0.2, recurrent_dropout=0.2))\n",
        "lstm_model.add(Dense(1))\n",
        "lstm_model.add(Activation('sigmoid'))\n",
        "\n",
        "\n",
        "# Creating Layer\n",
        "lstm_model.compile(loss='binary_crossentropy',\n",
        "              optimizer='adam',\n",
        "              metrics=['accuracy'])\n",
        "\n"
      ],
      "execution_count": null,
      "outputs": [
        {
          "output_type": "stream",
          "text": [
            "Build model...\n"
          ],
          "name": "stdout"
        }
      ]
    },
    {
      "cell_type": "code",
      "metadata": {
        "id": "B7NSA9WOs0sP",
        "colab_type": "code",
        "colab": {
          "base_uri": "https://localhost:8080/",
          "height": 907
        },
        "outputId": "ca03007c-64d3-48c2-f0ce-2cbf24f36fa0"
      },
      "source": [
        "print('Train...')\n",
        "lstm_model.fit(X_train_pad, y_train,\n",
        "          batch_size=batch_size,\n",
        "          epochs=epochs,\n",
        "          validation_data=(X_test_pad, y_test),\n",
        "          verbose=2)"
      ],
      "execution_count": null,
      "outputs": [
        {
          "output_type": "stream",
          "text": [
            "Train...\n",
            "Train on 18697 samples, validate on 8012 samples\n",
            "Epoch 1/25\n",
            " - 11s - loss: 0.5867 - accuracy: 0.6894 - val_loss: 0.5477 - val_accuracy: 0.7239\n",
            "Epoch 2/25\n",
            " - 10s - loss: 0.5206 - accuracy: 0.7428 - val_loss: 0.4796 - val_accuracy: 0.7683\n",
            "Epoch 3/25\n",
            " - 10s - loss: 0.4841 - accuracy: 0.7704 - val_loss: 0.4704 - val_accuracy: 0.7721\n",
            "Epoch 4/25\n",
            " - 10s - loss: 0.4559 - accuracy: 0.7851 - val_loss: 0.4522 - val_accuracy: 0.7863\n",
            "Epoch 5/25\n",
            " - 10s - loss: 0.4319 - accuracy: 0.8022 - val_loss: 0.4569 - val_accuracy: 0.7795\n",
            "Epoch 6/25\n",
            " - 10s - loss: 0.4086 - accuracy: 0.8159 - val_loss: 0.4537 - val_accuracy: 0.7821\n",
            "Epoch 7/25\n",
            " - 10s - loss: 0.3948 - accuracy: 0.8199 - val_loss: 0.4475 - val_accuracy: 0.7844\n",
            "Epoch 8/25\n",
            " - 10s - loss: 0.3775 - accuracy: 0.8328 - val_loss: 0.4552 - val_accuracy: 0.7822\n",
            "Epoch 9/25\n",
            " - 10s - loss: 0.3608 - accuracy: 0.8423 - val_loss: 0.4600 - val_accuracy: 0.7826\n",
            "Epoch 10/25\n",
            " - 10s - loss: 0.3523 - accuracy: 0.8412 - val_loss: 0.4545 - val_accuracy: 0.7871\n",
            "Epoch 11/25\n",
            " - 10s - loss: 0.3417 - accuracy: 0.8504 - val_loss: 0.4788 - val_accuracy: 0.7793\n",
            "Epoch 12/25\n",
            " - 10s - loss: 0.3387 - accuracy: 0.8527 - val_loss: 0.4717 - val_accuracy: 0.7815\n",
            "Epoch 13/25\n",
            " - 10s - loss: 0.3289 - accuracy: 0.8558 - val_loss: 0.4680 - val_accuracy: 0.7854\n",
            "Epoch 14/25\n",
            " - 10s - loss: 0.3184 - accuracy: 0.8646 - val_loss: 0.4546 - val_accuracy: 0.7884\n",
            "Epoch 15/25\n",
            " - 10s - loss: 0.3129 - accuracy: 0.8676 - val_loss: 0.4706 - val_accuracy: 0.7857\n",
            "Epoch 16/25\n",
            " - 11s - loss: 0.3120 - accuracy: 0.8643 - val_loss: 0.4687 - val_accuracy: 0.7869\n",
            "Epoch 17/25\n",
            " - 11s - loss: 0.3041 - accuracy: 0.8704 - val_loss: 0.4684 - val_accuracy: 0.7864\n",
            "Epoch 18/25\n",
            " - 10s - loss: 0.3032 - accuracy: 0.8708 - val_loss: 0.4570 - val_accuracy: 0.7816\n",
            "Epoch 19/25\n",
            " - 10s - loss: 0.2908 - accuracy: 0.8767 - val_loss: 0.4803 - val_accuracy: 0.7864\n",
            "Epoch 20/25\n",
            " - 10s - loss: 0.2890 - accuracy: 0.8769 - val_loss: 0.4873 - val_accuracy: 0.7826\n",
            "Epoch 21/25\n",
            " - 10s - loss: 0.2872 - accuracy: 0.8771 - val_loss: 0.4768 - val_accuracy: 0.7847\n",
            "Epoch 22/25\n",
            " - 10s - loss: 0.2804 - accuracy: 0.8804 - val_loss: 0.4917 - val_accuracy: 0.7893\n",
            "Epoch 23/25\n",
            " - 10s - loss: 0.2813 - accuracy: 0.8811 - val_loss: 0.4846 - val_accuracy: 0.7903\n",
            "Epoch 24/25\n",
            " - 10s - loss: 0.2665 - accuracy: 0.8852 - val_loss: 0.4831 - val_accuracy: 0.7883\n",
            "Epoch 25/25\n",
            " - 10s - loss: 0.2679 - accuracy: 0.8861 - val_loss: 0.4738 - val_accuracy: 0.7859\n"
          ],
          "name": "stdout"
        },
        {
          "output_type": "execute_result",
          "data": {
            "text/plain": [
              "<keras.callbacks.callbacks.History at 0x7ffb63515e48>"
            ]
          },
          "metadata": {
            "tags": []
          },
          "execution_count": 39
        }
      ]
    },
    {
      "cell_type": "code",
      "metadata": {
        "id": "aJd_OwKLyHrB",
        "colab_type": "code",
        "colab": {
          "base_uri": "https://localhost:8080/",
          "height": 84
        },
        "outputId": "a232b8c8-4e7b-4e8b-e8d7-296275be1a11"
      },
      "source": [
        "lstm_score, lstm_acc = lstm_model.evaluate(X_test_pad, y_test, batch_size=batch_size)\n",
        "print(\"---\"*20)\n",
        "print('LSTM Test score:', lstm_score)\n",
        "print('LSTM Test accuracy:', lstm_acc)"
      ],
      "execution_count": null,
      "outputs": [
        {
          "output_type": "stream",
          "text": [
            "8012/8012 [==============================] - 1s 144us/step\n",
            "------------------------------------------------------------\n",
            "LSTM Test score: 0.4738268490231638\n",
            "LSTM Test accuracy: 0.7859460711479187\n"
          ],
          "name": "stdout"
        }
      ]
    },
    {
      "cell_type": "markdown",
      "metadata": {
        "id": "dyuWG96YtJx7",
        "colab_type": "text"
      },
      "source": [
        "### 6(c). Model with (( GloVe + GRU + Conv1D + Maxpool )) Unit Layers"
      ]
    },
    {
      "cell_type": "code",
      "metadata": {
        "id": "1itUeey6tJb1",
        "colab_type": "code",
        "colab": {
          "base_uri": "https://localhost:8080/",
          "height": 34
        },
        "outputId": "485fa4e1-2747-4289-8316-41dc1617ce35"
      },
      "source": [
        "print('Build GRU based model...')\n",
        "\n",
        "# Adding Embedding Layer\n",
        "gru_model = Sequential()\n",
        "gru_model.add(embedding_layer)\n",
        "gru_model.add(Dropout(0.2))\n",
        "gru_model.add(Conv1D(filters,\n",
        "                 kernel_size,\n",
        "                 padding='valid',\n",
        "                 activation='relu',\n",
        "                 strides=1))\n",
        "\n",
        "# Adding GRU Layer\n",
        "gru_model.add(MaxPooling1D(pool_size=pool_size))\n",
        "gru_model.add(GRU(seq_output_size, dropout=0.2, recurrent_dropout=0.2))\n",
        "gru_model.add(Dense(1))\n",
        "gru_model.add(Activation('sigmoid'))\n",
        "\n",
        "\n",
        "# Creating Layer\n",
        "gru_model.compile(loss='binary_crossentropy',\n",
        "              optimizer='adam',\n",
        "              metrics=['accuracy'])"
      ],
      "execution_count": null,
      "outputs": [
        {
          "output_type": "stream",
          "text": [
            "Build GRU based model...\n"
          ],
          "name": "stdout"
        }
      ]
    },
    {
      "cell_type": "code",
      "metadata": {
        "id": "F0wMWaEYtU8f",
        "colab_type": "code",
        "colab": {
          "base_uri": "https://localhost:8080/",
          "height": 907
        },
        "outputId": "82c4da5a-bde8-4e02-d31f-a0f64ae9239b"
      },
      "source": [
        "print('Train...')\n",
        "gru_model.fit(X_train_pad, y_train,\n",
        "          batch_size=batch_size,\n",
        "          epochs=epochs,\n",
        "          validation_data=(X_test_pad, y_test))"
      ],
      "execution_count": null,
      "outputs": [
        {
          "output_type": "stream",
          "text": [
            "Train...\n",
            "Train on 18697 samples, validate on 8012 samples\n",
            "Epoch 1/25\n",
            "18697/18697 [==============================] - 13s 694us/step - loss: 0.5958 - accuracy: 0.6832 - val_loss: 0.5683 - val_accuracy: 0.7124\n",
            "Epoch 2/25\n",
            "18697/18697 [==============================] - 12s 660us/step - loss: 0.5246 - accuracy: 0.7461 - val_loss: 0.5171 - val_accuracy: 0.7435\n",
            "Epoch 3/25\n",
            "18697/18697 [==============================] - 12s 654us/step - loss: 0.4829 - accuracy: 0.7672 - val_loss: 0.5566 - val_accuracy: 0.6923\n",
            "Epoch 4/25\n",
            "18697/18697 [==============================] - 12s 651us/step - loss: 0.4515 - accuracy: 0.7875 - val_loss: 0.5091 - val_accuracy: 0.7459\n",
            "Epoch 5/25\n",
            "18697/18697 [==============================] - 12s 649us/step - loss: 0.4295 - accuracy: 0.8023 - val_loss: 0.5173 - val_accuracy: 0.7363\n",
            "Epoch 6/25\n",
            "18697/18697 [==============================] - 12s 655us/step - loss: 0.4102 - accuracy: 0.8120 - val_loss: 0.5232 - val_accuracy: 0.7475\n",
            "Epoch 7/25\n",
            "18697/18697 [==============================] - 12s 659us/step - loss: 0.3938 - accuracy: 0.8209 - val_loss: 0.4819 - val_accuracy: 0.7703\n",
            "Epoch 8/25\n",
            "18697/18697 [==============================] - 12s 661us/step - loss: 0.3715 - accuracy: 0.8318 - val_loss: 0.4934 - val_accuracy: 0.7546\n",
            "Epoch 9/25\n",
            "18697/18697 [==============================] - 13s 669us/step - loss: 0.3625 - accuracy: 0.8416 - val_loss: 0.4835 - val_accuracy: 0.7671\n",
            "Epoch 10/25\n",
            "18697/18697 [==============================] - 12s 653us/step - loss: 0.3572 - accuracy: 0.8442 - val_loss: 0.4754 - val_accuracy: 0.7827\n",
            "Epoch 11/25\n",
            "18697/18697 [==============================] - 12s 656us/step - loss: 0.3432 - accuracy: 0.8496 - val_loss: 0.4752 - val_accuracy: 0.7800\n",
            "Epoch 12/25\n",
            "18697/18697 [==============================] - 12s 657us/step - loss: 0.3322 - accuracy: 0.8559 - val_loss: 0.4802 - val_accuracy: 0.7696\n",
            "Epoch 13/25\n",
            "18697/18697 [==============================] - 12s 661us/step - loss: 0.3237 - accuracy: 0.8578 - val_loss: 0.4841 - val_accuracy: 0.7690\n",
            "Epoch 14/25\n",
            "18697/18697 [==============================] - 12s 654us/step - loss: 0.3153 - accuracy: 0.8630 - val_loss: 0.4885 - val_accuracy: 0.7609\n",
            "Epoch 15/25\n",
            "18697/18697 [==============================] - 12s 654us/step - loss: 0.3138 - accuracy: 0.8660 - val_loss: 0.4707 - val_accuracy: 0.7745\n",
            "Epoch 16/25\n",
            "18697/18697 [==============================] - 12s 647us/step - loss: 0.3052 - accuracy: 0.8681 - val_loss: 0.4833 - val_accuracy: 0.7651\n",
            "Epoch 17/25\n",
            "18697/18697 [==============================] - 12s 653us/step - loss: 0.2987 - accuracy: 0.8725 - val_loss: 0.4664 - val_accuracy: 0.7797\n",
            "Epoch 18/25\n",
            "18697/18697 [==============================] - 12s 660us/step - loss: 0.3005 - accuracy: 0.8727 - val_loss: 0.4754 - val_accuracy: 0.7720\n",
            "Epoch 19/25\n",
            "18697/18697 [==============================] - 12s 649us/step - loss: 0.2898 - accuracy: 0.8756 - val_loss: 0.4736 - val_accuracy: 0.7758\n",
            "Epoch 20/25\n",
            "18697/18697 [==============================] - 12s 638us/step - loss: 0.2912 - accuracy: 0.8755 - val_loss: 0.4861 - val_accuracy: 0.7671\n",
            "Epoch 21/25\n",
            "18697/18697 [==============================] - 12s 637us/step - loss: 0.2861 - accuracy: 0.8783 - val_loss: 0.4697 - val_accuracy: 0.7780\n",
            "Epoch 22/25\n",
            "18697/18697 [==============================] - 12s 637us/step - loss: 0.2794 - accuracy: 0.8820 - val_loss: 0.4626 - val_accuracy: 0.7830\n",
            "Epoch 23/25\n",
            "18697/18697 [==============================] - 16s 866us/step - loss: 0.2793 - accuracy: 0.8828 - val_loss: 0.4797 - val_accuracy: 0.7702\n",
            "Epoch 24/25\n",
            "18697/18697 [==============================] - 13s 679us/step - loss: 0.2725 - accuracy: 0.8843 - val_loss: 0.4830 - val_accuracy: 0.7681\n",
            "Epoch 25/25\n",
            "18697/18697 [==============================] - 12s 640us/step - loss: 0.2706 - accuracy: 0.8850 - val_loss: 0.4770 - val_accuracy: 0.7766\n"
          ],
          "name": "stdout"
        },
        {
          "output_type": "execute_result",
          "data": {
            "text/plain": [
              "<keras.callbacks.callbacks.History at 0x7ffb59686668>"
            ]
          },
          "metadata": {
            "tags": []
          },
          "execution_count": 42
        }
      ]
    },
    {
      "cell_type": "code",
      "metadata": {
        "id": "82jTT1VVyM7Q",
        "colab_type": "code",
        "colab": {
          "base_uri": "https://localhost:8080/",
          "height": 84
        },
        "outputId": "6d5fbfb7-35ca-428d-b851-032b01ab10ef"
      },
      "source": [
        "gru_score, gru_acc = gru_model.evaluate(X_test_pad, y_test, batch_size=batch_size)\n",
        "print(\"---\"*20)\n",
        "print('GRU Test score:', gru_score)\n",
        "print('GRU Test accuracy:', gru_acc)"
      ],
      "execution_count": null,
      "outputs": [
        {
          "output_type": "stream",
          "text": [
            "8012/8012 [==============================] - 1s 127us/step\n",
            "------------------------------------------------------------\n",
            "GRU Test score: 0.4770043606735502\n",
            "GRU Test accuracy: 0.7765851020812988\n"
          ],
          "name": "stdout"
        }
      ]
    },
    {
      "cell_type": "markdown",
      "metadata": {
        "id": "SslxEjM_tjCZ",
        "colab_type": "text"
      },
      "source": [
        "### 6(d). Model with (( GloVe + Bi-Directional LSTM + Conv1D + Maxpool )) Unit Layers"
      ]
    },
    {
      "cell_type": "code",
      "metadata": {
        "id": "rdwsN-HNtijS",
        "colab_type": "code",
        "colab": {
          "base_uri": "https://localhost:8080/",
          "height": 34
        },
        "outputId": "e9780e38-2be7-467d-d6a7-257ab4a9b4d9"
      },
      "source": [
        "print('Build Bi Directional LSTM model...')\n",
        "\n",
        "# Adding Embedding Layer\n",
        "bi_model = Sequential()\n",
        "bi_model.add(embedding_layer)\n",
        "bi_model.add(Dropout(0.4))\n",
        "bi_model.add(Conv1D(filters,\n",
        "                 kernel_size,\n",
        "                 padding='valid',\n",
        "                 activation='relu',\n",
        "                 strides=1))\n",
        "\n",
        "# Adding GRU Layer\n",
        "bi_model.add(MaxPooling1D(pool_size=pool_size))\n",
        "bi_model.add(Bidirectional(LSTM(seq_output_size, dropout=0.2, recurrent_dropout=0.2)))\n",
        "bi_model.add(Dense(1))\n",
        "bi_model.add(Activation('sigmoid'))\n",
        "\n",
        "\n",
        "# Creating Layer\n",
        "bi_model.compile(loss='binary_crossentropy',\n",
        "              optimizer='adam',\n",
        "              metrics=['accuracy'])"
      ],
      "execution_count": null,
      "outputs": [
        {
          "output_type": "stream",
          "text": [
            "Build Bi Directional LSTM model...\n"
          ],
          "name": "stdout"
        }
      ]
    },
    {
      "cell_type": "code",
      "metadata": {
        "id": "qz5wfZRPt9RM",
        "colab_type": "code",
        "colab": {
          "base_uri": "https://localhost:8080/",
          "height": 907
        },
        "outputId": "4b624154-cd07-46d7-c715-377037960904"
      },
      "source": [
        "print('Train...')\n",
        "bi_model.fit(X_train_pad, y_train,\n",
        "          batch_size=batch_size,\n",
        "          epochs=epochs,\n",
        "          validation_data=(X_test_pad, y_test))"
      ],
      "execution_count": null,
      "outputs": [
        {
          "output_type": "stream",
          "text": [
            "Train...\n",
            "Train on 18697 samples, validate on 8012 samples\n",
            "Epoch 1/25\n",
            "18697/18697 [==============================] - 16s 881us/step - loss: 0.6007 - accuracy: 0.6782 - val_loss: 0.5418 - val_accuracy: 0.7384\n",
            "Epoch 2/25\n",
            "18697/18697 [==============================] - 15s 811us/step - loss: 0.5457 - accuracy: 0.7262 - val_loss: 0.5010 - val_accuracy: 0.7532\n",
            "Epoch 3/25\n",
            "18697/18697 [==============================] - 15s 814us/step - loss: 0.5175 - accuracy: 0.7456 - val_loss: 0.4933 - val_accuracy: 0.7555\n",
            "Epoch 4/25\n",
            "18697/18697 [==============================] - 15s 816us/step - loss: 0.4926 - accuracy: 0.7603 - val_loss: 0.4598 - val_accuracy: 0.7802\n",
            "Epoch 5/25\n",
            "18697/18697 [==============================] - 15s 821us/step - loss: 0.4798 - accuracy: 0.7709 - val_loss: 0.4633 - val_accuracy: 0.7807\n",
            "Epoch 6/25\n",
            "18697/18697 [==============================] - 15s 818us/step - loss: 0.4627 - accuracy: 0.7788 - val_loss: 0.4482 - val_accuracy: 0.7884\n",
            "Epoch 7/25\n",
            "18697/18697 [==============================] - 16s 831us/step - loss: 0.4458 - accuracy: 0.7902 - val_loss: 0.4433 - val_accuracy: 0.7908\n",
            "Epoch 8/25\n",
            "18697/18697 [==============================] - 15s 828us/step - loss: 0.4412 - accuracy: 0.7928 - val_loss: 0.4420 - val_accuracy: 0.7937\n",
            "Epoch 9/25\n",
            "18697/18697 [==============================] - 15s 819us/step - loss: 0.4276 - accuracy: 0.8009 - val_loss: 0.4389 - val_accuracy: 0.7916\n",
            "Epoch 10/25\n",
            "18697/18697 [==============================] - 15s 809us/step - loss: 0.4205 - accuracy: 0.8073 - val_loss: 0.4464 - val_accuracy: 0.7912\n",
            "Epoch 11/25\n",
            "18697/18697 [==============================] - 15s 813us/step - loss: 0.4142 - accuracy: 0.8073 - val_loss: 0.4397 - val_accuracy: 0.7904\n",
            "Epoch 12/25\n",
            "18697/18697 [==============================] - 15s 814us/step - loss: 0.4049 - accuracy: 0.8131 - val_loss: 0.4376 - val_accuracy: 0.7948\n",
            "Epoch 13/25\n",
            "18697/18697 [==============================] - 15s 821us/step - loss: 0.4005 - accuracy: 0.8154 - val_loss: 0.4400 - val_accuracy: 0.7886\n",
            "Epoch 14/25\n",
            "18697/18697 [==============================] - 15s 825us/step - loss: 0.4011 - accuracy: 0.8151 - val_loss: 0.4472 - val_accuracy: 0.7873\n",
            "Epoch 15/25\n",
            "18697/18697 [==============================] - 16s 830us/step - loss: 0.3930 - accuracy: 0.8210 - val_loss: 0.4359 - val_accuracy: 0.7981\n",
            "Epoch 16/25\n",
            "18697/18697 [==============================] - 15s 820us/step - loss: 0.3891 - accuracy: 0.8240 - val_loss: 0.4504 - val_accuracy: 0.7879\n",
            "Epoch 17/25\n",
            "18697/18697 [==============================] - 15s 813us/step - loss: 0.3883 - accuracy: 0.8252 - val_loss: 0.4379 - val_accuracy: 0.7941\n",
            "Epoch 18/25\n",
            "18697/18697 [==============================] - 15s 817us/step - loss: 0.3803 - accuracy: 0.8285 - val_loss: 0.4436 - val_accuracy: 0.7902\n",
            "Epoch 19/25\n",
            "18697/18697 [==============================] - 15s 818us/step - loss: 0.3743 - accuracy: 0.8292 - val_loss: 0.4396 - val_accuracy: 0.7894\n",
            "Epoch 20/25\n",
            "18697/18697 [==============================] - 15s 819us/step - loss: 0.3763 - accuracy: 0.8290 - val_loss: 0.4373 - val_accuracy: 0.7962\n",
            "Epoch 21/25\n",
            "18697/18697 [==============================] - 15s 819us/step - loss: 0.3654 - accuracy: 0.8351 - val_loss: 0.4510 - val_accuracy: 0.7904\n",
            "Epoch 22/25\n",
            "18697/18697 [==============================] - 15s 822us/step - loss: 0.3636 - accuracy: 0.8349 - val_loss: 0.4393 - val_accuracy: 0.7923\n",
            "Epoch 23/25\n",
            "18697/18697 [==============================] - 15s 813us/step - loss: 0.3674 - accuracy: 0.8354 - val_loss: 0.4435 - val_accuracy: 0.7929\n",
            "Epoch 24/25\n",
            "18697/18697 [==============================] - 15s 813us/step - loss: 0.3580 - accuracy: 0.8384 - val_loss: 0.4391 - val_accuracy: 0.7946\n",
            "Epoch 25/25\n",
            "18697/18697 [==============================] - 15s 816us/step - loss: 0.3605 - accuracy: 0.8405 - val_loss: 0.4484 - val_accuracy: 0.7878\n"
          ],
          "name": "stdout"
        },
        {
          "output_type": "execute_result",
          "data": {
            "text/plain": [
              "<keras.callbacks.callbacks.History at 0x7ffb592aefd0>"
            ]
          },
          "metadata": {
            "tags": []
          },
          "execution_count": 45
        }
      ]
    },
    {
      "cell_type": "code",
      "metadata": {
        "id": "VqN6c7tTzCy7",
        "colab_type": "code",
        "colab": {
          "base_uri": "https://localhost:8080/",
          "height": 84
        },
        "outputId": "8c734996-b09f-44c4-ca20-3ba52cbdb3da"
      },
      "source": [
        "bi_score, bi_acc = bi_model.evaluate(X_test_pad, y_test, batch_size=batch_size)\n",
        "print(\"---\"*20)\n",
        "print('Bi-Directional LSTM Test score:', bi_score)\n",
        "print('Bi-Directional LSTM Test accuracy:', bi_acc)"
      ],
      "execution_count": null,
      "outputs": [
        {
          "output_type": "stream",
          "text": [
            "8012/8012 [==============================] - 1s 161us/step\n",
            "------------------------------------------------------------\n",
            "Bi-Directional LSTM Test score: 0.44844290243644924\n",
            "Bi-Directional LSTM Test accuracy: 0.7878182530403137\n"
          ],
          "name": "stdout"
        }
      ]
    },
    {
      "cell_type": "markdown",
      "metadata": {
        "id": "iCJbC5tJbeYN",
        "colab_type": "text"
      },
      "source": [
        "# Checking Clasas Level Accuracy with Confusion Matrix"
      ]
    },
    {
      "cell_type": "code",
      "metadata": {
        "id": "Ywqj3sZAbmYu",
        "colab_type": "code",
        "colab": {}
      },
      "source": [
        "pred = model.predict_classes(X_test_pad)"
      ],
      "execution_count": null,
      "outputs": []
    },
    {
      "cell_type": "code",
      "metadata": {
        "id": "ZjFMqhPqbvxz",
        "colab_type": "code",
        "colab": {}
      },
      "source": [
        "from sklearn.metrics import confusion_matrix\n",
        "\n",
        "cm = confusion_matrix(y_test,pred)"
      ],
      "execution_count": null,
      "outputs": []
    },
    {
      "cell_type": "code",
      "metadata": {
        "id": "8kJWrsYYcJef",
        "colab_type": "code",
        "colab": {
          "base_uri": "https://localhost:8080/",
          "height": 445
        },
        "outputId": "36a97e7b-d7a8-4217-f7e1-7d42a2b80402"
      },
      "source": [
        "cm = pd.DataFrame(cm , index = ['Not Sarcastic','Sarcastic'] , columns = ['Not Sarcastic','Sarcastic'])\n",
        "plt.figure(figsize = (7,7))\n",
        "sns.heatmap(cm,cmap= \"Blues\", \n",
        "            linecolor = 'black' , \n",
        "            linewidth = 1 , \n",
        "            annot = True, \n",
        "            fmt='' , \n",
        "            xticklabels = ['Not Sarcastic','Sarcastic'] , \n",
        "            yticklabels = ['Not Sarcastic','Sarcastic'])"
      ],
      "execution_count": null,
      "outputs": [
        {
          "output_type": "execute_result",
          "data": {
            "text/plain": [
              "<matplotlib.axes._subplots.AxesSubplot at 0x7ffb58b2af28>"
            ]
          },
          "metadata": {
            "tags": []
          },
          "execution_count": 66
        },
        {
          "output_type": "display_data",
          "data": {
            "image/png": "[encoded data removed]",
            "text/plain": [
              "<Figure size 504x504 with 2 Axes>"
            ]
          },
          "metadata": {
            "tags": [],
            "needs_background": "light"
          }
        }
      ]
    },
    {
      "cell_type": "markdown",
      "metadata": {
        "id": "lz7THJO4d3Vh",
        "colab_type": "text"
      },
      "source": [
        ""
      ]
    },
    {
      "cell_type": "markdown",
      "metadata": {
        "id": "UMBUVKVNbFqT",
        "colab_type": "text"
      },
      "source": [
        "-----------------\n",
        "# Can this model detect sarcasms?\n",
        "-----------------"
      ]
    },
    {
      "cell_type": "code",
      "metadata": {
        "id": "niJjmQh9aGLl",
        "colab_type": "code",
        "colab": {}
      },
      "source": [
        "def predict_sarcasm(s):\n",
        "    x_final = pd.DataFrame({\"headline\":[s]})\n",
        "    test_lines = CleanTokenize(x_final)\n",
        "    test_sequences = tokenizer_obj.texts_to_sequences(test_lines)\n",
        "    test_review_pad = pad_sequences(test_sequences, maxlen=max_length, padding='post')\n",
        "    pred = model.predict(test_review_pad)\n",
        "    pred*=100\n",
        "    if pred[0][0]>=50: return \"It's a sarcasm!\" \n",
        "    else: return \"It's not a sarcasm.\""
      ],
      "execution_count": null,
      "outputs": []
    },
    {
      "cell_type": "markdown",
      "metadata": {
        "id": "m6DpI-Goalii",
        "colab_type": "text"
      },
      "source": [
        "### Correct Predictions"
      ]
    },
    {
      "cell_type": "code",
      "metadata": {
        "id": "_yU9iREWaG3A",
        "colab_type": "code",
        "colab": {
          "base_uri": "https://localhost:8080/",
          "height": 34
        },
        "outputId": "a00ed2fd-a250-48d3-a158-430a9b8e811f"
      },
      "source": [
        "predict_sarcasm(\"I was depressed. He asked me to be happy. I am not depressed anymore.\")"
      ],
      "execution_count": null,
      "outputs": [
        {
          "output_type": "execute_result",
          "data": {
            "text/plain": [
              "\"It's a sarcasm!\""
            ]
          },
          "metadata": {
            "tags": []
          },
          "execution_count": 48
        }
      ]
    },
    {
      "cell_type": "code",
      "metadata": {
        "id": "n41R42dgaKIH",
        "colab_type": "code",
        "colab": {
          "base_uri": "https://localhost:8080/",
          "height": 34
        },
        "outputId": "72adcb74-ffd2-46c0-e844-a34e1c43dad3"
      },
      "source": [
        "predict_sarcasm(\"You just broke my car window. Great job.\")"
      ],
      "execution_count": null,
      "outputs": [
        {
          "output_type": "execute_result",
          "data": {
            "text/plain": [
              "\"It's a sarcasm!\""
            ]
          },
          "metadata": {
            "tags": []
          },
          "execution_count": 49
        }
      ]
    },
    {
      "cell_type": "code",
      "metadata": {
        "id": "TWdd2MtoaPpu",
        "colab_type": "code",
        "colab": {
          "base_uri": "https://localhost:8080/",
          "height": 34
        },
        "outputId": "1787b392-3f03-48c8-ca63-439ae4d3814b"
      },
      "source": [
        "predict_sarcasm(\"You just saved my dog's life. Thanks a million.\")"
      ],
      "execution_count": null,
      "outputs": [
        {
          "output_type": "execute_result",
          "data": {
            "text/plain": [
              "\"It's not a sarcasm.\""
            ]
          },
          "metadata": {
            "tags": []
          },
          "execution_count": 50
        }
      ]
    },
    {
      "cell_type": "code",
      "metadata": {
        "id": "7SOS7YOJaTK0",
        "colab_type": "code",
        "colab": {
          "base_uri": "https://localhost:8080/",
          "height": 34
        },
        "outputId": "575537cf-e1ac-4d8c-c41e-4288d1ef9f32"
      },
      "source": [
        "predict_sarcasm(\"I want a million dollars!\")"
      ],
      "execution_count": null,
      "outputs": [
        {
          "output_type": "execute_result",
          "data": {
            "text/plain": [
              "\"It's not a sarcasm.\""
            ]
          },
          "metadata": {
            "tags": []
          },
          "execution_count": 51
        }
      ]
    },
    {
      "cell_type": "code",
      "metadata": {
        "id": "-5lw4I39aWNk",
        "colab_type": "code",
        "colab": {
          "base_uri": "https://localhost:8080/",
          "height": 34
        },
        "outputId": "36cafbb1-a329-4057-82da-fab670642d86"
      },
      "source": [
        "predict_sarcasm(\"I just won a million dollars!\")"
      ],
      "execution_count": null,
      "outputs": [
        {
          "output_type": "execute_result",
          "data": {
            "text/plain": [
              "\"It's a sarcasm!\""
            ]
          },
          "metadata": {
            "tags": []
          },
          "execution_count": 55
        }
      ]
    },
    {
      "cell_type": "markdown",
      "metadata": {
        "id": "Z9nbjv62aiB_",
        "colab_type": "text"
      },
      "source": [
        "### Incorrect Predictions"
      ]
    },
    {
      "cell_type": "code",
      "metadata": {
        "id": "k1r7BkmSaY93",
        "colab_type": "code",
        "colab": {
          "base_uri": "https://localhost:8080/",
          "height": 34
        },
        "outputId": "88348bf5-7ab5-46b5-80a9-d051bbdd83e8"
      },
      "source": [
        "predict_sarcasm(\"His name is Bob. He is a nice person.\")"
      ],
      "execution_count": null,
      "outputs": [
        {
          "output_type": "execute_result",
          "data": {
            "text/plain": [
              "\"It's a sarcasm!\""
            ]
          },
          "metadata": {
            "tags": []
          },
          "execution_count": 53
        }
      ]
    },
    {
      "cell_type": "code",
      "metadata": {
        "id": "3AMimFsFadw_",
        "colab_type": "code",
        "colab": {
          "base_uri": "https://localhost:8080/",
          "height": 34
        },
        "outputId": "92713110-f40d-4de5-9a37-db578d9702a9"
      },
      "source": [
        "predict_sarcasm(\"Sarcasm is very easy to detect.\")"
      ],
      "execution_count": null,
      "outputs": [
        {
          "output_type": "execute_result",
          "data": {
            "text/plain": [
              "\"It's not a sarcasm.\""
            ]
          },
          "metadata": {
            "tags": []
          },
          "execution_count": 54
        }
      ]
    },
    {
      "cell_type": "code",
      "metadata": {
        "id": "A0MeLxMbag1v",
        "colab_type": "code",
        "colab": {
          "base_uri": "https://localhost:8080/",
          "height": 34
        },
        "outputId": "5f5eb7b0-cbe1-4cb3-96a3-dddeed5b6628"
      },
      "source": [
        "predict_sarcasm(\"It was so easy that no one was able do it\")"
      ],
      "execution_count": null,
      "outputs": [
        {
          "output_type": "execute_result",
          "data": {
            "text/plain": [
              "\"It's not a sarcasm.\""
            ]
          },
          "metadata": {
            "tags": []
          },
          "execution_count": 59
        }
      ]
    },
    {
      "cell_type": "markdown",
      "metadata": {
        "id": "4NaZrCD_bM2C",
        "colab_type": "text"
      },
      "source": [
        "# =======================CONCLUSION =========================\n",
        "\n",
        "# 1. We implemented the GloVe Embedding(with 300d) with only LSTM as they are best performing. \n",
        "\n",
        "# 2. The Simple LSTM model are better performing because in all the rest models the numbers of trainable params are huge which is causing the Models to overfit and perform poor on validation/test data. \n",
        "\n",
        "# 3. Sarcastic Class level accuracy is 79.62 % i.e. 598 Non-sarcastic headlines were misclassified as Sarcastic.\n",
        "\n",
        "# 4. Non-sarcastic Class level accuracy is 86.67 % i.e.  720 sarcastic headlines were misclassified as Non-sarcastic.\n",
        "\n",
        "# 3. The above observation can be verified by great training accuracy but poor respective validation accuracy in all models except GloVe+LSTM Model.\n",
        "\n",
        "# ============================================================"
      ]
    },
    {
      "cell_type": "code",
      "metadata": {
        "id": "wA57orJSbNWu",
        "colab_type": "code",
        "colab": {}
      },
      "source": [
        ""
      ],
      "execution_count": null,
      "outputs": []
    }
  ]
}