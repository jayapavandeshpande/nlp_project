{
  "nbformat": 4,
  "nbformat_minor": 0,
  "metadata": {
    "colab": {
      "name": "NLP_Jul_25GBRAM.ipynb",
      "provenance": [],
      "collapsed_sections": [],
      "machine_shape": "hm"
    },
    "kernelspec": {
      "name": "python3",
      "display_name": "Python 3"
    },
    "accelerator": "TPU"
  },
  "cells": [
    {
      "cell_type": "code",
      "metadata": {
        "id": "6cYXEzcQJNSx",
        "colab_type": "code",
        "colab": {
          "base_uri": "https://localhost:8080/",
          "height": 122
        },
        "outputId": "d3f6f1a7-106a-48a2-d3ca-8b4be7cd54dc"
      },
      "source": [
        "from google.colab import drive\n",
        "drive.mount('/content/drive')"
      ],
      "execution_count": 1,
      "outputs": [
        {
          "output_type": "stream",
          "text": [
            "Go to this URL in a browser: https://accounts.google.com/o/oauth2/auth?client_id=947318989803-6bn6qk8qdgf4n4g3pfee6491hc0brc4i.apps.googleusercontent.com&redirect_uri=urn%3aietf%3awg%3aoauth%3a2.0%3aoob&response_type=code&scope=email%20https%3a%2f%2fwww.googleapis.com%2fauth%2fdocs.test%20https%3a%2f%2fwww.googleapis.com%2fauth%2fdrive%20https%3a%2f%2fwww.googleapis.com%2fauth%2fdrive.photos.readonly%20https%3a%2f%2fwww.googleapis.com%2fauth%2fpeopleapi.readonly\n",
            "\n",
            "Enter your authorization code:\n",
            "··········\n",
            "Mounted at /content/drive\n"
          ],
          "name": "stdout"
        }
      ]
    },
    {
      "cell_type": "code",
      "metadata": {
        "id": "Gd_tR1MJJZvn",
        "colab_type": "code",
        "colab": {}
      },
      "source": [
        "%%capture\n",
        "!pip install ftfy translate langdetect imbalanced-learn collections-extended rake_nltk googletrans\n"
      ],
      "execution_count": 2,
      "outputs": []
    },
    {
      "cell_type": "code",
      "metadata": {
        "id": "JlAvBCkRLA9G",
        "colab_type": "code",
        "colab": {}
      },
      "source": [
        "import sys\n",
        "sys.path.insert(0,'/content/drive/My Drive/MyColabProjects/Capstone/NLP2/nlp_project')"
      ],
      "execution_count": 3,
      "outputs": []
    },
    {
      "cell_type": "code",
      "metadata": {
        "id": "xdyrhVsTJcpQ",
        "colab_type": "code",
        "colab": {
          "base_uri": "https://localhost:8080/",
          "height": 173
        },
        "outputId": "5b1bee7f-577a-49bb-9eb0-a9fc2c3ea583"
      },
      "source": [
        "# !pip install chart_studio\n",
        "# !pip install wordcloud\n",
        "# !pip install ftfy\n",
        "# !pip install rake_nltk\n",
        "# !pip install gensim \n",
        "# !pip install missingno\n",
        "# !pip install googletrans\n",
        "# !pip install langdetect\n",
        "# !pip install imblearn\n",
        "# !pip install collections2\n",
        "\n",
        "# Standard Library\n",
        "import pandas as pd\n",
        "import numpy as np\n",
        "\n",
        "from ftfy import *\n",
        "import nltk\n",
        "from rake_nltk import Rake\n",
        "\n",
        "from utils.visualization import *\n",
        "from utils.datapreprocessing import *\n",
        "\n",
        "import missingno as msno\n",
        "import matplotlib.pyplot as plt \n",
        "from wordcloud import WordCloud, STOPWORDS\n",
        "import seaborn as sns \n",
        "\n",
        "# For Translation\n",
        "from googletrans import Translator\n",
        "from langdetect import detect\n",
        "\n",
        "#For Upsampling\n",
        "import imblearn\n",
        "from collections import Counter\n",
        "from matplotlib import pyplot\n",
        "from numpy import where\n",
        "# from imblearn.over_sampling import SMOTE\n",
        "from imblearn.over_sampling import RandomOverSampler\n",
        "\n",
        "# Import label encoder \n",
        "from sklearn import preprocessing \n",
        "\n",
        "from sklearn.feature_extraction.text import TfidfVectorizer\n",
        "from sklearn.model_selection import train_test_split\n",
        "from sklearn.metrics import accuracy_score,f1_score,recall_score,precision_score, confusion_matrix, classification_report\n",
        "from sklearn.feature_extraction.text import CountVectorizer\n",
        "\n",
        "# Import Dependencies\n",
        "\n",
        "import os\n",
        "import re\n",
        "\n",
        "import tensorflow as tf\n",
        "from tensorflow.python.keras.preprocessing.text import Tokenizer\n",
        "from tensorflow.python.keras.preprocessing.sequence import pad_sequences\n",
        "\n",
        "import keras\n",
        "\n",
        "from keras import layers\n",
        "# For Embedding Layer\n",
        "from keras.layers.embeddings import Embedding\n",
        "\n",
        "# For RNN Layer\n",
        "from keras.models import Sequential\n",
        "from keras.layers import Embedding, GRU, LSTM, Bidirectional\n",
        "from keras.layers import Dense, Dropout, Activation, Input,  Flatten\n",
        "\n",
        "# import numpy as np\n",
        "# from tensorflow import keras\n",
        "# from tensorflow.keras import layers\n",
        "\n",
        "# For CNN Layer\n",
        "from keras.layers import Conv1D, MaxPooling1D\n",
        "\n",
        "# For Text Summarization\n",
        "from gensim.summarization import summarize\n",
        "\n",
        "%tensorflow_version 1.x"
      ],
      "execution_count": 4,
      "outputs": [
        {
          "output_type": "stream",
          "text": [
            "/usr/local/lib/python3.6/dist-packages/statsmodels/tools/_testing.py:19: FutureWarning: pandas.util.testing is deprecated. Use the functions in the public API at pandas.testing instead.\n",
            "  import pandas.util.testing as tm\n",
            "/usr/local/lib/python3.6/dist-packages/sklearn/externals/six.py:31: FutureWarning: The module is deprecated in version 0.21 and will be removed in version 0.23 since we've dropped support for Python 2.7. Please rely on the official version of six (https://pypi.org/project/six/).\n",
            "  \"(https://pypi.org/project/six/).\", FutureWarning)\n",
            "/usr/local/lib/python3.6/dist-packages/sklearn/utils/deprecation.py:144: FutureWarning: The sklearn.neighbors.base module is  deprecated in version 0.22 and will be removed in version 0.24. The corresponding classes / functions should instead be imported from sklearn.neighbors. Anything that cannot be imported from sklearn.neighbors is now part of the private API.\n",
            "  warnings.warn(message, FutureWarning)\n",
            "Using TensorFlow backend.\n"
          ],
          "name": "stderr"
        },
        {
          "output_type": "stream",
          "text": [
            "TensorFlow is already loaded. Please restart the runtime to change versions.\n"
          ],
          "name": "stdout"
        }
      ]
    },
    {
      "cell_type": "code",
      "metadata": {
        "id": "kmnYFw_0Tmyp",
        "colab_type": "code",
        "colab": {
          "base_uri": "https://localhost:8080/",
          "height": 34
        },
        "outputId": "34fdf58f-7461-42eb-a486-43260d7fe944"
      },
      "source": [
        "print(tf.version)"
      ],
      "execution_count": 5,
      "outputs": [
        {
          "output_type": "stream",
          "text": [
            "<module 'tensorflow._api.v2.version' from '/usr/local/lib/python3.6/dist-packages/tensorflow/_api/v2/version/__init__.py'>\n"
          ],
          "name": "stdout"
        }
      ]
    },
    {
      "cell_type": "code",
      "metadata": {
        "id": "JhUHdymDLCCI",
        "colab_type": "code",
        "colab": {}
      },
      "source": [
        "filename= \"/content/drive/My Drive/MyColabProjects/Capstone/NLP2/nlp_project/dataset/HarshaCharan_output.csv\"\n",
        "df = pd.read_csv(filename)"
      ],
      "execution_count": 6,
      "outputs": []
    },
    {
      "cell_type": "code",
      "metadata": {
        "id": "WQ_6n89NLPEN",
        "colab_type": "code",
        "colab": {
          "base_uri": "https://localhost:8080/",
          "height": 442
        },
        "outputId": "a769759e-1028-440d-915a-168ccb1e5472"
      },
      "source": [
        "df.info()"
      ],
      "execution_count": 7,
      "outputs": [
        {
          "output_type": "stream",
          "text": [
            "<class 'pandas.core.frame.DataFrame'>\n",
            "RangeIndex: 8500 entries, 0 to 8499\n",
            "Data columns (total 18 columns):\n",
            " #   Column                                                       Non-Null Count  Dtype \n",
            "---  ------                                                       --------------  ----- \n",
            " 0   Short description                                            8500 non-null   object\n",
            " 1   Description                                                  8500 non-null   object\n",
            " 2   Caller                                                       8500 non-null   object\n",
            " 3   Assignment group                                             8500 non-null   object\n",
            " 4   Raked Short description                                      8500 non-null   object\n",
            " 5   Raked Description                                            8500 non-null   object\n",
            " 6   Iso_Description                                              8500 non-null   object\n",
            " 7   Language_Description                                         8500 non-null   object\n",
            " 8   Translated_Description                                       8500 non-null   object\n",
            " 9   Iso_Short description                                        8500 non-null   object\n",
            " 10  Language_Short description                                   8500 non-null   object\n",
            " 11  Translated_Short description                                 8500 non-null   object\n",
            " 12  Length of Translated_Description Before Summarization        8500 non-null   int64 \n",
            " 13  Length of Translated_Short description Before Summarization  8500 non-null   int64 \n",
            " 14  pred_group                                                   303 non-null    object\n",
            " 15  AssignmentGroup                                              8500 non-null   object\n",
            " 16  ShortDescription                                             8500 non-null   object\n",
            " 17  PredictedGroup                                               316 non-null    object\n",
            "dtypes: int64(2), object(16)\n",
            "memory usage: 1.2+ MB\n"
          ],
          "name": "stdout"
        }
      ]
    },
    {
      "cell_type": "code",
      "metadata": {
        "id": "K3caKBHNLPmP",
        "colab_type": "code",
        "colab": {}
      },
      "source": [
        "df2 = df[(df['PredictedGroup'].isna())]"
      ],
      "execution_count": 8,
      "outputs": []
    },
    {
      "cell_type": "code",
      "metadata": {
        "id": "m372XdJCLXm7",
        "colab_type": "code",
        "colab": {
          "base_uri": "https://localhost:8080/",
          "height": 442
        },
        "outputId": "d7fc8e2c-ddf6-42fb-aff0-8f430fe2664c"
      },
      "source": [
        "df2.info()"
      ],
      "execution_count": 9,
      "outputs": [
        {
          "output_type": "stream",
          "text": [
            "<class 'pandas.core.frame.DataFrame'>\n",
            "Int64Index: 8184 entries, 0 to 8499\n",
            "Data columns (total 18 columns):\n",
            " #   Column                                                       Non-Null Count  Dtype \n",
            "---  ------                                                       --------------  ----- \n",
            " 0   Short description                                            8184 non-null   object\n",
            " 1   Description                                                  8184 non-null   object\n",
            " 2   Caller                                                       8184 non-null   object\n",
            " 3   Assignment group                                             8184 non-null   object\n",
            " 4   Raked Short description                                      8184 non-null   object\n",
            " 5   Raked Description                                            8184 non-null   object\n",
            " 6   Iso_Description                                              8184 non-null   object\n",
            " 7   Language_Description                                         8184 non-null   object\n",
            " 8   Translated_Description                                       8184 non-null   object\n",
            " 9   Iso_Short description                                        8184 non-null   object\n",
            " 10  Language_Short description                                   8184 non-null   object\n",
            " 11  Translated_Short description                                 8184 non-null   object\n",
            " 12  Length of Translated_Description Before Summarization        8184 non-null   int64 \n",
            " 13  Length of Translated_Short description Before Summarization  8184 non-null   int64 \n",
            " 14  pred_group                                                   0 non-null      object\n",
            " 15  AssignmentGroup                                              8184 non-null   object\n",
            " 16  ShortDescription                                             8184 non-null   object\n",
            " 17  PredictedGroup                                               0 non-null      object\n",
            "dtypes: int64(2), object(16)\n",
            "memory usage: 1.2+ MB\n"
          ],
          "name": "stdout"
        }
      ]
    },
    {
      "cell_type": "code",
      "metadata": {
        "id": "4XeQQGZVLamM",
        "colab_type": "code",
        "colab": {}
      },
      "source": [
        "df3 = pd.DataFrame()\n",
        "df3['Translated_Description'] = df2['Translated_Description']\n",
        "df3['Translated_Short description'] = df2['Translated_Short description']\n",
        "df3['Assignment group'] = df2['Assignment group']"
      ],
      "execution_count": 10,
      "outputs": []
    },
    {
      "cell_type": "code",
      "metadata": {
        "id": "BKgXSc6gMarr",
        "colab_type": "code",
        "colab": {
          "base_uri": "https://localhost:8080/",
          "height": 34
        },
        "outputId": "2414df03-c025-4a16-e1bf-44f9bf6f0017"
      },
      "source": [
        "for des in df3['Translated_Description']:\n",
        "    des = clean_text(des)\n",
        "print(\"'Description' Cleaning is complete.\")"
      ],
      "execution_count": 11,
      "outputs": [
        {
          "output_type": "stream",
          "text": [
            "'Description' Cleaning is complete.\n"
          ],
          "name": "stdout"
        }
      ]
    },
    {
      "cell_type": "code",
      "metadata": {
        "id": "pBXhN6gZMhch",
        "colab_type": "code",
        "colab": {
          "base_uri": "https://localhost:8080/",
          "height": 34
        },
        "outputId": "b06ce96f-aae2-429a-8018-bd60431c40c0"
      },
      "source": [
        "for short_des in df3['Translated_Short description']:\n",
        "    short_des = clean_text(short_des)\n",
        "print(\"'Short description' cleaning is complete.\")"
      ],
      "execution_count": 12,
      "outputs": [
        {
          "output_type": "stream",
          "text": [
            "'Short description' cleaning is complete.\n"
          ],
          "name": "stdout"
        }
      ]
    },
    {
      "cell_type": "code",
      "metadata": {
        "id": "tGglEx3UMjcz",
        "colab_type": "code",
        "colab": {
          "base_uri": "https://localhost:8080/",
          "height": 34
        },
        "outputId": "3d72f0b3-348f-475a-fbac-f4f526541173"
      },
      "source": [
        "df3.loc[ df3['Translated_Description'].apply(lambda x : len(x) > 150) ].shape"
      ],
      "execution_count": 13,
      "outputs": [
        {
          "output_type": "execute_result",
          "data": {
            "text/plain": [
              "(2534, 3)"
            ]
          },
          "metadata": {
            "tags": []
          },
          "execution_count": 13
        }
      ]
    },
    {
      "cell_type": "code",
      "metadata": {
        "id": "g2qZADdKNB0t",
        "colab_type": "code",
        "colab": {}
      },
      "source": [
        "df3['Length of Translated_Description Before Summarization'] = df3['Translated_Description'].apply(lambda x: len(str(x).split()))\n",
        "\n",
        "df3['Length of Translated_Short description Before Summarization'] = df3['Translated_Short description'].apply(lambda x: len(str(x).split()))"
      ],
      "execution_count": 14,
      "outputs": []
    },
    {
      "cell_type": "code",
      "metadata": {
        "id": "0m_pubn8NTSO",
        "colab_type": "code",
        "colab": {
          "base_uri": "https://localhost:8080/",
          "height": 282
        },
        "outputId": "d3f92b33-afdf-41ec-af60-9cd542e503b8"
      },
      "source": [
        "df3['Length of Translated_Description Before Summarization'].plot()"
      ],
      "execution_count": 15,
      "outputs": [
        {
          "output_type": "execute_result",
          "data": {
            "text/plain": [
              "<matplotlib.axes._subplots.AxesSubplot at 0x7f4c8fbbc160>"
            ]
          },
          "metadata": {
            "tags": []
          },
          "execution_count": 15
        },
        {
          "output_type": "display_data",
          "data": {
            "image/png": "[encoded data removed]",
            "text/plain": [
              "<Figure size 432x288 with 1 Axes>"
            ]
          },
          "metadata": {
            "tags": [],
            "needs_background": "light"
          }
        }
      ]
    },
    {
      "cell_type": "code",
      "metadata": {
        "id": "83y6UfaYNYZT",
        "colab_type": "code",
        "colab": {
          "base_uri": "https://localhost:8080/",
          "height": 282
        },
        "outputId": "7ca1c153-8f67-45ae-9ba3-3e2f5f2dea8e"
      },
      "source": [
        "df3['Length of Translated_Short description Before Summarization'].plot()"
      ],
      "execution_count": 16,
      "outputs": [
        {
          "output_type": "execute_result",
          "data": {
            "text/plain": [
              "<matplotlib.axes._subplots.AxesSubplot at 0x7f4c8fafae80>"
            ]
          },
          "metadata": {
            "tags": []
          },
          "execution_count": 16
        },
        {
          "output_type": "display_data",
          "data": {
            "image/png": "[encoded data removed]",
            "text/plain": [
              "<Figure size 432x288 with 1 Axes>"
            ]
          },
          "metadata": {
            "tags": [],
            "needs_background": "light"
          }
        }
      ]
    },
    {
      "cell_type": "code",
      "metadata": {
        "id": "PXB-cZxqNaJ6",
        "colab_type": "code",
        "colab": {
          "base_uri": "https://localhost:8080/",
          "height": 102
        },
        "outputId": "cab4079e-bfa9-4e2b-8053-03d8296f62d1"
      },
      "source": [
        "df3['Summarized_Translated_Description'] = df3['Translated_Description'].apply(create_summarized_feature)"
      ],
      "execution_count": 17,
      "outputs": [
        {
          "output_type": "stream",
          "text": [
            "Can't Summarize this sentence as input has only one sentence. Hence, replacing with (Rake + Summarized Value)\n",
            "Can't Summarize this sentence as input has only one sentence. Hence, replacing with (Rake + Summarized Value)\n",
            "Can't Summarize this sentence as input has only one sentence. Hence, replacing with (Rake + Summarized Value)\n",
            "Can't Summarize this sentence as input has only one sentence. Hence, replacing with (Rake + Summarized Value)\n",
            "Can't Summarize this sentence as input has only one sentence. Hence, replacing with (Rake + Summarized Value)\n"
          ],
          "name": "stdout"
        }
      ]
    },
    {
      "cell_type": "code",
      "metadata": {
        "id": "zfUjMKqNNkfc",
        "colab_type": "code",
        "colab": {}
      },
      "source": [
        "df3['Length of Translated_Description After Summarization'] = df3['Summarized_Translated_Description'].apply(lambda x: len(str(x).split()))"
      ],
      "execution_count": 18,
      "outputs": []
    },
    {
      "cell_type": "code",
      "metadata": {
        "id": "zkZhiXrWNlN3",
        "colab_type": "code",
        "colab": {
          "base_uri": "https://localhost:8080/",
          "height": 287
        },
        "outputId": "af83778f-d749-42e5-8e6d-b1a65102599c"
      },
      "source": [
        "plt.figure(figsize=(30, 6), dpi=200)\n",
        "plt.subplot(1, 2, 1)\n",
        "df3['Length of Translated_Description Before Summarization'].plot()\n",
        "plt.title('Length of Translated_Description Before Summarization')\n",
        "\n",
        "plt.subplot(1, 2, 2)\n",
        "df3['Length of Translated_Description After Summarization'].plot()\n",
        "plt.title('Length of Translated_Description After Summarization')\n",
        "plt.show()"
      ],
      "execution_count": 19,
      "outputs": [
        {
          "output_type": "display_data",
          "data": {
            "image/png": "[encoded data removed]",
            "text/plain": [
              "<Figure size 6000x1200 with 2 Axes>"
            ]
          },
          "metadata": {
            "tags": [],
            "needs_background": "light"
          }
        }
      ]
    },
    {
      "cell_type": "code",
      "metadata": {
        "id": "HUkMe9ZuNpNf",
        "colab_type": "code",
        "colab": {
          "base_uri": "https://localhost:8080/",
          "height": 419
        },
        "outputId": "1c1a8210-b7fc-4c37-e36f-6631ab22016f"
      },
      "source": [
        "df3.loc[ df3['Summarized_Translated_Description'].apply(lambda x : len(x.split()) > 150) ][['Length of Translated_Description After Summarization', 'Summarized_Translated_Description']]"
      ],
      "execution_count": 20,
      "outputs": [
        {
          "output_type": "execute_result",
          "data": {
            "text/html": [
              "<div>\n",
              "<style scoped>\n",
              "    .dataframe tbody tr th:only-of-type {\n",
              "        vertical-align: middle;\n",
              "    }\n",
              "\n",
              "    .dataframe tbody tr th {\n",
              "        vertical-align: top;\n",
              "    }\n",
              "\n",
              "    .dataframe thead th {\n",
              "        text-align: right;\n",
              "    }\n",
              "</style>\n",
              "<table border=\"1\" class=\"dataframe\">\n",
              "  <thead>\n",
              "    <tr style=\"text-align: right;\">\n",
              "      <th></th>\n",
              "      <th>Length of Translated_Description After Summarization</th>\n",
              "      <th>Summarized_Translated_Description</th>\n",
              "    </tr>\n",
              "  </thead>\n",
              "  <tbody>\n",
              "    <tr>\n",
              "      <th>162</th>\n",
              "      <td>186</td>\n",
              "      <td>received from: emailaddress  hello,  till la...</td>\n",
              "    </tr>\n",
              "    <tr>\n",
              "      <th>238</th>\n",
              "      <td>197</td>\n",
              "      <td>hi all  we have a connectivity issue between e...</td>\n",
              "    </tr>\n",
              "    <tr>\n",
              "      <th>239</th>\n",
              "      <td>190</td>\n",
              "      <td>please complete all required questions below.\\...</td>\n",
              "    </tr>\n",
              "    <tr>\n",
              "      <th>379</th>\n",
              "      <td>161</td>\n",
              "      <td>received from: emailaddress  hi it experts, ...</td>\n",
              "    </tr>\n",
              "    <tr>\n",
              "      <th>410</th>\n",
              "      <td>196</td>\n",
              "      <td>Myhrt sthry retired as plant manager in usa. i...</td>\n",
              "    </tr>\n",
              "    <tr>\n",
              "      <th>...</th>\n",
              "      <td>...</td>\n",
              "      <td>...</td>\n",
              "    </tr>\n",
              "    <tr>\n",
              "      <th>8160</th>\n",
              "      <td>187</td>\n",
              "      <td>received from: emailaddress  please release th...</td>\n",
              "    </tr>\n",
              "    <tr>\n",
              "      <th>8232</th>\n",
              "      <td>168</td>\n",
              "      <td>habe noch kein ticket erhalten ...\\nmit freund...</td>\n",
              "    </tr>\n",
              "    <tr>\n",
              "      <th>8339</th>\n",
              "      <td>203</td>\n",
              "      <td>hello team,  could you please unlock account  ...</td>\n",
              "    </tr>\n",
              "    <tr>\n",
              "      <th>8371</th>\n",
              "      <td>152</td>\n",
              "      <td>from: microsoft on behalf of company inc. emai...</td>\n",
              "    </tr>\n",
              "    <tr>\n",
              "      <th>8378</th>\n",
              "      <td>194</td>\n",
              "      <td>just found out that the eccqa certificate is n...</td>\n",
              "    </tr>\n",
              "  </tbody>\n",
              "</table>\n",
              "<p>141 rows × 2 columns</p>\n",
              "</div>"
            ],
            "text/plain": [
              "      Length of Translated_Description After Summarization                  Summarized_Translated_Description\n",
              "162                                                 186       received from: emailaddress  hello,  till la...\n",
              "238                                                 197     hi all  we have a connectivity issue between e...\n",
              "239                                                 190     please complete all required questions below.\\...\n",
              "379                                                 161       received from: emailaddress  hi it experts, ...\n",
              "410                                                 196     Myhrt sthry retired as plant manager in usa. i...\n",
              "...                                                 ...                                                   ...\n",
              "8160                                                187     received from: emailaddress  please release th...\n",
              "8232                                                168     habe noch kein ticket erhalten ...\\nmit freund...\n",
              "8339                                                203     hello team,  could you please unlock account  ...\n",
              "8371                                                152     from: microsoft on behalf of company inc. emai...\n",
              "8378                                                194     just found out that the eccqa certificate is n...\n",
              "\n",
              "[141 rows x 2 columns]"
            ]
          },
          "metadata": {
            "tags": []
          },
          "execution_count": 20
        }
      ]
    },
    {
      "cell_type": "code",
      "metadata": {
        "id": "hB2kNiwzNtPB",
        "colab_type": "code",
        "colab": {}
      },
      "source": [
        "df3['Summarized_Translated_Short Description'] = df3['Translated_Short description'].apply(create_summarized_feature)"
      ],
      "execution_count": 21,
      "outputs": []
    },
    {
      "cell_type": "code",
      "metadata": {
        "id": "HaiPxkIHOM76",
        "colab_type": "code",
        "colab": {
          "base_uri": "https://localhost:8080/",
          "height": 617
        },
        "outputId": "990bb864-bbc4-40d5-acd5-5dcea80da706"
      },
      "source": [
        "# Concatenate Short description and Description\n",
        "df3['Complete_Description'] = df3['Summarized_Translated_Description'] + \" \" + df3['Summarized_Translated_Short Description']\n",
        "df3.head(10)"
      ],
      "execution_count": 22,
      "outputs": [
        {
          "output_type": "execute_result",
          "data": {
            "text/html": [
              "<div>\n",
              "<style scoped>\n",
              "    .dataframe tbody tr th:only-of-type {\n",
              "        vertical-align: middle;\n",
              "    }\n",
              "\n",
              "    .dataframe tbody tr th {\n",
              "        vertical-align: top;\n",
              "    }\n",
              "\n",
              "    .dataframe thead th {\n",
              "        text-align: right;\n",
              "    }\n",
              "</style>\n",
              "<table border=\"1\" class=\"dataframe\">\n",
              "  <thead>\n",
              "    <tr style=\"text-align: right;\">\n",
              "      <th></th>\n",
              "      <th>Translated_Description</th>\n",
              "      <th>Translated_Short description</th>\n",
              "      <th>Assignment group</th>\n",
              "      <th>Length of Translated_Description Before Summarization</th>\n",
              "      <th>Length of Translated_Short description Before Summarization</th>\n",
              "      <th>Summarized_Translated_Description</th>\n",
              "      <th>Length of Translated_Description After Summarization</th>\n",
              "      <th>Summarized_Translated_Short Description</th>\n",
              "      <th>Complete_Description</th>\n",
              "    </tr>\n",
              "  </thead>\n",
              "  <tbody>\n",
              "    <tr>\n",
              "      <th>0</th>\n",
              "      <td>-verified user details.(employee# &amp; manager na...</td>\n",
              "      <td>login issue</td>\n",
              "      <td>GRP_0</td>\n",
              "      <td>33</td>\n",
              "      <td>2</td>\n",
              "      <td>-verified user details.(employee# &amp; manager na...</td>\n",
              "      <td>33</td>\n",
              "      <td>login issue</td>\n",
              "      <td>-verified user details.(employee# &amp; manager na...</td>\n",
              "    </tr>\n",
              "    <tr>\n",
              "      <th>1</th>\n",
              "      <td>received from: emailaddress  hello team,  my...</td>\n",
              "      <td>outlook</td>\n",
              "      <td>GRP_0</td>\n",
              "      <td>25</td>\n",
              "      <td>1</td>\n",
              "      <td>received from: emailaddress  hello team,  my...</td>\n",
              "      <td>25</td>\n",
              "      <td>outlook</td>\n",
              "      <td>received from: emailaddress  hello team,  my...</td>\n",
              "    </tr>\n",
              "    <tr>\n",
              "      <th>2</th>\n",
              "      <td>received from: emailaddress  hi  i cannot lo...</td>\n",
              "      <td>cant log in to vpn</td>\n",
              "      <td>GRP_0</td>\n",
              "      <td>11</td>\n",
              "      <td>5</td>\n",
              "      <td>received from: emailaddress  hi  i cannot lo...</td>\n",
              "      <td>11</td>\n",
              "      <td>cant log in to vpn</td>\n",
              "      <td>received from: emailaddress  hi  i cannot lo...</td>\n",
              "    </tr>\n",
              "    <tr>\n",
              "      <th>3</th>\n",
              "      <td>unable to access hr_tool page</td>\n",
              "      <td>unable to access hr_tool page</td>\n",
              "      <td>GRP_0</td>\n",
              "      <td>5</td>\n",
              "      <td>5</td>\n",
              "      <td>unable to access hr_tool page</td>\n",
              "      <td>5</td>\n",
              "      <td>unable to access hr_tool page</td>\n",
              "      <td>unable to access hr_tool page unable to access...</td>\n",
              "    </tr>\n",
              "    <tr>\n",
              "      <th>4</th>\n",
              "      <td>skype error</td>\n",
              "      <td>skype error</td>\n",
              "      <td>GRP_0</td>\n",
              "      <td>2</td>\n",
              "      <td>2</td>\n",
              "      <td>skype error</td>\n",
              "      <td>2</td>\n",
              "      <td>skype error</td>\n",
              "      <td>skype error skype error</td>\n",
              "    </tr>\n",
              "    <tr>\n",
              "      <th>5</th>\n",
              "      <td>unable to log in to engineering tool and skype</td>\n",
              "      <td>unable to log in to engineering tool and skype</td>\n",
              "      <td>GRP_0</td>\n",
              "      <td>9</td>\n",
              "      <td>9</td>\n",
              "      <td>unable to log in to engineering tool and skype</td>\n",
              "      <td>9</td>\n",
              "      <td>unable to log in to engineering tool and skype</td>\n",
              "      <td>unable to log in to engineering tool and skype...</td>\n",
              "    </tr>\n",
              "    <tr>\n",
              "      <th>6</th>\n",
              "      <td>event: critical:HostName_221.company.com the v...</td>\n",
              "      <td>event: critical:HostName_221.company.com the v...</td>\n",
              "      <td>GRP_1</td>\n",
              "      <td>11</td>\n",
              "      <td>9</td>\n",
              "      <td>event: critical:HostName_221.company.com the v...</td>\n",
              "      <td>11</td>\n",
              "      <td>event: critical:HostName_221.company.com the v...</td>\n",
              "      <td>event: critical:HostName_221.company.com the v...</td>\n",
              "    </tr>\n",
              "    <tr>\n",
              "      <th>7</th>\n",
              "      <td>ticket_no1550391- employment status - new non-...</td>\n",
              "      <td>ticket_no1550391- employment status - new non-...</td>\n",
              "      <td>GRP_0</td>\n",
              "      <td>9</td>\n",
              "      <td>9</td>\n",
              "      <td>ticket_no1550391- employment status - new non-...</td>\n",
              "      <td>9</td>\n",
              "      <td>ticket_no1550391- employment status - new non-...</td>\n",
              "      <td>ticket_no1550391- employment status - new non-...</td>\n",
              "    </tr>\n",
              "    <tr>\n",
              "      <th>8</th>\n",
              "      <td>unable to disable add ins on outlook</td>\n",
              "      <td>unable to disable add ins on outlook</td>\n",
              "      <td>GRP_0</td>\n",
              "      <td>7</td>\n",
              "      <td>7</td>\n",
              "      <td>unable to disable add ins on outlook</td>\n",
              "      <td>7</td>\n",
              "      <td>unable to disable add ins on outlook</td>\n",
              "      <td>unable to disable add ins on outlook unable to...</td>\n",
              "    </tr>\n",
              "    <tr>\n",
              "      <th>9</th>\n",
              "      <td>ticket update on inplant_874773</td>\n",
              "      <td>ticket update on inplant_874773</td>\n",
              "      <td>GRP_0</td>\n",
              "      <td>4</td>\n",
              "      <td>4</td>\n",
              "      <td>ticket update on inplant_874773</td>\n",
              "      <td>4</td>\n",
              "      <td>ticket update on inplant_874773</td>\n",
              "      <td>ticket update on inplant_874773 ticket update ...</td>\n",
              "    </tr>\n",
              "  </tbody>\n",
              "</table>\n",
              "</div>"
            ],
            "text/plain": [
              "                              Translated_Description  ...                               Complete_Description\n",
              "0  -verified user details.(employee# & manager na...  ...  -verified user details.(employee# & manager na...\n",
              "1    received from: emailaddress  hello team,  my...  ...    received from: emailaddress  hello team,  my...\n",
              "2    received from: emailaddress  hi  i cannot lo...  ...    received from: emailaddress  hi  i cannot lo...\n",
              "3                      unable to access hr_tool page  ...  unable to access hr_tool page unable to access...\n",
              "4                                        skype error  ...                            skype error skype error\n",
              "5     unable to log in to engineering tool and skype  ...  unable to log in to engineering tool and skype...\n",
              "6  event: critical:HostName_221.company.com the v...  ...  event: critical:HostName_221.company.com the v...\n",
              "7  ticket_no1550391- employment status - new non-...  ...  ticket_no1550391- employment status - new non-...\n",
              "8               unable to disable add ins on outlook  ...  unable to disable add ins on outlook unable to...\n",
              "9                    ticket update on inplant_874773  ...  ticket update on inplant_874773 ticket update ...\n",
              "\n",
              "[10 rows x 9 columns]"
            ]
          },
          "metadata": {
            "tags": []
          },
          "execution_count": 22
        }
      ]
    },
    {
      "cell_type": "code",
      "metadata": {
        "id": "Am7-e871Ocrz",
        "colab_type": "code",
        "colab": {}
      },
      "source": [
        "# We will use applymap() as it works element-wise on a DataFrame, whereas apply() works on a row / column basis of a DataFrame\n",
        "df3 = df3.applymap(str)"
      ],
      "execution_count": 23,
      "outputs": []
    },
    {
      "cell_type": "code",
      "metadata": {
        "id": "LJGtBizQOgTx",
        "colab_type": "code",
        "colab": {}
      },
      "source": [
        "df4 = df3.copy()"
      ],
      "execution_count": 24,
      "outputs": []
    },
    {
      "cell_type": "code",
      "metadata": {
        "id": "Uj4-u7AXOg0j",
        "colab_type": "code",
        "colab": {}
      },
      "source": [
        "# Adding Word count and Description Length\n",
        "df4['clean_review_len'] = df4['Complete_Description'].astype(str).apply(len)\n",
        "df4['clean_word_count'] = df4['Complete_Description'].apply(lambda x: len(str(x).split()))"
      ],
      "execution_count": 25,
      "outputs": []
    },
    {
      "cell_type": "code",
      "metadata": {
        "id": "n5xSLOegOlwn",
        "colab_type": "code",
        "colab": {
          "base_uri": "https://localhost:8080/",
          "height": 411
        },
        "outputId": "9c6bb976-5dd5-44c2-f7e6-458381c132a2"
      },
      "source": [
        "df4.head()"
      ],
      "execution_count": 26,
      "outputs": [
        {
          "output_type": "execute_result",
          "data": {
            "text/html": [
              "<div>\n",
              "<style scoped>\n",
              "    .dataframe tbody tr th:only-of-type {\n",
              "        vertical-align: middle;\n",
              "    }\n",
              "\n",
              "    .dataframe tbody tr th {\n",
              "        vertical-align: top;\n",
              "    }\n",
              "\n",
              "    .dataframe thead th {\n",
              "        text-align: right;\n",
              "    }\n",
              "</style>\n",
              "<table border=\"1\" class=\"dataframe\">\n",
              "  <thead>\n",
              "    <tr style=\"text-align: right;\">\n",
              "      <th></th>\n",
              "      <th>Translated_Description</th>\n",
              "      <th>Translated_Short description</th>\n",
              "      <th>Assignment group</th>\n",
              "      <th>Length of Translated_Description Before Summarization</th>\n",
              "      <th>Length of Translated_Short description Before Summarization</th>\n",
              "      <th>Summarized_Translated_Description</th>\n",
              "      <th>Length of Translated_Description After Summarization</th>\n",
              "      <th>Summarized_Translated_Short Description</th>\n",
              "      <th>Complete_Description</th>\n",
              "      <th>clean_review_len</th>\n",
              "      <th>clean_word_count</th>\n",
              "    </tr>\n",
              "  </thead>\n",
              "  <tbody>\n",
              "    <tr>\n",
              "      <th>0</th>\n",
              "      <td>-verified user details.(employee# &amp; manager na...</td>\n",
              "      <td>login issue</td>\n",
              "      <td>GRP_0</td>\n",
              "      <td>33</td>\n",
              "      <td>2</td>\n",
              "      <td>-verified user details.(employee# &amp; manager na...</td>\n",
              "      <td>33</td>\n",
              "      <td>login issue</td>\n",
              "      <td>-verified user details.(employee# &amp; manager na...</td>\n",
              "      <td>214</td>\n",
              "      <td>35</td>\n",
              "    </tr>\n",
              "    <tr>\n",
              "      <th>1</th>\n",
              "      <td>received from: emailaddress  hello team,  my...</td>\n",
              "      <td>outlook</td>\n",
              "      <td>GRP_0</td>\n",
              "      <td>25</td>\n",
              "      <td>1</td>\n",
              "      <td>received from: emailaddress  hello team,  my...</td>\n",
              "      <td>25</td>\n",
              "      <td>outlook</td>\n",
              "      <td>received from: emailaddress  hello team,  my...</td>\n",
              "      <td>179</td>\n",
              "      <td>26</td>\n",
              "    </tr>\n",
              "    <tr>\n",
              "      <th>2</th>\n",
              "      <td>received from: emailaddress  hi  i cannot lo...</td>\n",
              "      <td>cant log in to vpn</td>\n",
              "      <td>GRP_0</td>\n",
              "      <td>11</td>\n",
              "      <td>5</td>\n",
              "      <td>received from: emailaddress  hi  i cannot lo...</td>\n",
              "      <td>11</td>\n",
              "      <td>cant log in to vpn</td>\n",
              "      <td>received from: emailaddress  hi  i cannot lo...</td>\n",
              "      <td>83</td>\n",
              "      <td>16</td>\n",
              "    </tr>\n",
              "    <tr>\n",
              "      <th>3</th>\n",
              "      <td>unable to access hr_tool page</td>\n",
              "      <td>unable to access hr_tool page</td>\n",
              "      <td>GRP_0</td>\n",
              "      <td>5</td>\n",
              "      <td>5</td>\n",
              "      <td>unable to access hr_tool page</td>\n",
              "      <td>5</td>\n",
              "      <td>unable to access hr_tool page</td>\n",
              "      <td>unable to access hr_tool page unable to access...</td>\n",
              "      <td>59</td>\n",
              "      <td>10</td>\n",
              "    </tr>\n",
              "    <tr>\n",
              "      <th>4</th>\n",
              "      <td>skype error</td>\n",
              "      <td>skype error</td>\n",
              "      <td>GRP_0</td>\n",
              "      <td>2</td>\n",
              "      <td>2</td>\n",
              "      <td>skype error</td>\n",
              "      <td>2</td>\n",
              "      <td>skype error</td>\n",
              "      <td>skype error skype error</td>\n",
              "      <td>23</td>\n",
              "      <td>4</td>\n",
              "    </tr>\n",
              "  </tbody>\n",
              "</table>\n",
              "</div>"
            ],
            "text/plain": [
              "                              Translated_Description  ... clean_word_count\n",
              "0  -verified user details.(employee# & manager na...  ...               35\n",
              "1    received from: emailaddress  hello team,  my...  ...               26\n",
              "2    received from: emailaddress  hi  i cannot lo...  ...               16\n",
              "3                      unable to access hr_tool page  ...               10\n",
              "4                                        skype error  ...                4\n",
              "\n",
              "[5 rows x 11 columns]"
            ]
          },
          "metadata": {
            "tags": []
          },
          "execution_count": 26
        }
      ]
    },
    {
      "cell_type": "code",
      "metadata": {
        "id": "dvqW17N-OpJY",
        "colab_type": "code",
        "colab": {
          "base_uri": "https://localhost:8080/",
          "height": 282
        },
        "outputId": "71b4fe05-cb9f-4e85-da2c-1243bf10305e"
      },
      "source": [
        "# Word Count Distribution for Description\n",
        "df4['clean_word_count'].plot(\n",
        "    x='word_count',\n",
        "    y='count')"
      ],
      "execution_count": 27,
      "outputs": [
        {
          "output_type": "execute_result",
          "data": {
            "text/plain": [
              "<matplotlib.axes._subplots.AxesSubplot at 0x7f4c8975cdd8>"
            ]
          },
          "metadata": {
            "tags": []
          },
          "execution_count": 27
        },
        {
          "output_type": "display_data",
          "data": {
            "image/png": "[encoded data removed]",
            "text/plain": [
              "<Figure size 432x288 with 1 Axes>"
            ]
          },
          "metadata": {
            "tags": [],
            "needs_background": "light"
          }
        }
      ]
    },
    {
      "cell_type": "code",
      "metadata": {
        "id": "2SSBVeLCOruT",
        "colab_type": "code",
        "colab": {
          "base_uri": "https://localhost:8080/",
          "height": 282
        },
        "outputId": "40dcee79-6e56-4017-8134-2d00e8448f5d"
      },
      "source": [
        "# Description Length Distribution\n",
        "df4['clean_review_len'].plot(\n",
        "    x='review length',\n",
        "    y='count')"
      ],
      "execution_count": 28,
      "outputs": [
        {
          "output_type": "execute_result",
          "data": {
            "text/plain": [
              "<matplotlib.axes._subplots.AxesSubplot at 0x7f4c89741fd0>"
            ]
          },
          "metadata": {
            "tags": []
          },
          "execution_count": 28
        },
        {
          "output_type": "display_data",
          "data": {
            "image/png": "[encoded data removed]",
            "text/plain": [
              "<Figure size 432x288 with 1 Axes>"
            ]
          },
          "metadata": {
            "tags": [],
            "needs_background": "light"
          }
        }
      ]
    },
    {
      "cell_type": "code",
      "metadata": {
        "id": "clht-vm1OuQ1",
        "colab_type": "code",
        "colab": {
          "base_uri": "https://localhost:8080/",
          "height": 482
        },
        "outputId": "dcb81038-63e4-4569-b8da-4e506a123b2f"
      },
      "source": [
        "# Assignment group distribution\n",
        "df4['Assignment group'].value_counts().plot(kind='bar', figsize=(30,10), title='Class Label Distribution')"
      ],
      "execution_count": 29,
      "outputs": [
        {
          "output_type": "execute_result",
          "data": {
            "text/plain": [
              "<matplotlib.axes._subplots.AxesSubplot at 0x7f4c8fb0ad68>"
            ]
          },
          "metadata": {
            "tags": []
          },
          "execution_count": 29
        },
        {
          "output_type": "display_data",
          "data": {
            "image/png": "[encoded data removed]",
            "text/plain": [
              "<Figure size 2160x720 with 1 Axes>"
            ]
          },
          "metadata": {
            "tags": [],
            "needs_background": "light"
          }
        }
      ]
    },
    {
      "cell_type": "code",
      "metadata": {
        "id": "S2CaEnvFOw-g",
        "colab_type": "code",
        "colab": {
          "base_uri": "https://localhost:8080/",
          "height": 357
        },
        "outputId": "27893de2-75f1-4833-8779-f8ea5f75fc11"
      },
      "source": [
        "# The distribution of top unigrams before removing stop words for Complete_Description\n",
        "\n",
        "def get_top_n_words(corpus, n=None):\n",
        "    vec = CountVectorizer().fit(corpus)\n",
        "    bag_of_words = vec.transform(corpus)\n",
        "    sum_words = bag_of_words.sum(axis=0) \n",
        "    words_freq = [(word, sum_words[0, idx]) for word, idx in vec.vocabulary_.items()]\n",
        "    words_freq =sorted(words_freq, key = lambda x: x[1], reverse=True)\n",
        "    return words_freq[:n]\n",
        "\n",
        "\n",
        "\n",
        "common_words = get_top_n_words(df4['Complete_Description'], 20)\n",
        "for word, freq in common_words:\n",
        "    print(word, freq)"
      ],
      "execution_count": 30,
      "outputs": [
        {
          "output_type": "stream",
          "text": [
            "to 8470\n",
            "the 7096\n",
            "in 5121\n",
            "emailaddress 3830\n",
            "is 3613\n",
            "from 3521\n",
            "not 3213\n",
            "on 2916\n",
            "and 2754\n",
            "for 2632\n",
            "at 2471\n",
            "no 2410\n",
            "received 2387\n",
            "please 2279\n",
            "2016 2153\n",
            "00 2007\n",
            "job 1979\n",
            "password 1967\n",
            "job_scheduler 1928\n",
            "of 1853\n"
          ],
          "name": "stdout"
        }
      ]
    },
    {
      "cell_type": "code",
      "metadata": {
        "id": "rMhIP-dTPEAn",
        "colab_type": "code",
        "colab": {
          "base_uri": "https://localhost:8080/",
          "height": 357
        },
        "outputId": "de2f045b-395b-4ea7-9c18-fab2a6bb8d8c"
      },
      "source": [
        "# The distribution of top unigrams after removing stop words for Complete_Description\n",
        "\n",
        "def get_top_n_words(corpus, range=(1,1), n=None):\n",
        "    vec = CountVectorizer(ngram_range=range, stop_words = 'english').fit(corpus)\n",
        "    bag_of_words = vec.transform(corpus)\n",
        "    sum_words = bag_of_words.sum(axis=0) \n",
        "    words_freq = [(word, sum_words[0, idx]) for word, idx in vec.vocabulary_.items()]\n",
        "    words_freq =sorted(words_freq, key = lambda x: x[1], reverse=True)\n",
        "    return words_freq[:n]\n",
        "\n",
        "\n",
        "common_words = get_top_n_words(df4['Complete_Description'], (1,1),20)\n",
        "for word, freq in common_words:\n",
        "    print(word, freq)"
      ],
      "execution_count": 31,
      "outputs": [
        {
          "output_type": "stream",
          "text": [
            "emailaddress 3830\n",
            "received 2387\n",
            "2016 2153\n",
            "00 2007\n",
            "job 1979\n",
            "password 1967\n",
            "job_scheduler 1928\n",
            "erp 1852\n",
            "yes 1774\n",
            "failed 1738\n",
            "na 1635\n",
            "unable 1482\n",
            "company 1461\n",
            "10 1367\n",
            "reset 1336\n",
            "user 1330\n",
            "issue 1228\n",
            "access 1210\n",
            "error 1073\n",
            "account 1051\n"
          ],
          "name": "stdout"
        }
      ]
    },
    {
      "cell_type": "code",
      "metadata": {
        "id": "Lz0on7SBPVhE",
        "colab_type": "code",
        "colab": {
          "base_uri": "https://localhost:8080/",
          "height": 357
        },
        "outputId": "0941532e-b8a6-422a-b6f1-b19924f66b69"
      },
      "source": [
        "# The distribution of top bigrams after removing stop words for Complete_Description\n",
        "\n",
        "common_words = get_top_n_words(df4['Complete_Description'], (2,2),20)\n",
        "for word, freq in common_words:\n",
        "    print(word, freq)"
      ],
      "execution_count": 32,
      "outputs": [
        {
          "output_type": "stream",
          "text": [
            "received emailaddress 2239\n",
            "failed job_scheduler 1614\n",
            "yes na 1570\n",
            "00 job 806\n",
            "emailaddress job 787\n",
            "password reset 650\n",
            "job_scheduler 09 623\n",
            "job_scheduler 10 576\n",
            "emailaddress hello 444\n",
            "backup circuit 441\n",
            "job_scheduler 08 372\n",
            "erp sid_34 337\n",
            "job job_scheduler 300\n",
            "abended job 298\n",
            "reset password 297\n",
            "ticket update 295\n",
            "type outage 286\n",
            "scheduled maintenance 286\n",
            "na company 286\n",
            "power _________ 283\n"
          ],
          "name": "stdout"
        }
      ]
    },
    {
      "cell_type": "code",
      "metadata": {
        "id": "blBXjEL4PeuW",
        "colab_type": "code",
        "colab": {
          "base_uri": "https://localhost:8080/",
          "height": 357
        },
        "outputId": "a5ab6683-eb1e-4695-a142-1544d4897db7"
      },
      "source": [
        "# The distribution of top trigrams after removing stop words for Complete_Description\n",
        "\n",
        "common_words = get_top_n_words(df4['Complete_Description'], (3,3) ,20)\n",
        "for word, freq in common_words:\n",
        "    print(word, freq)"
      ],
      "execution_count": 33,
      "outputs": [
        {
          "output_type": "stream",
          "text": [
            "received emailaddress job 786\n",
            "failed job_scheduler 09 623\n",
            "failed job_scheduler 10 576\n",
            "received emailaddress hello 443\n",
            "failed job_scheduler 08 372\n",
            "abended job job_scheduler 298\n",
            "yes na company 285\n",
            "________ yes na 267\n",
            "received emailaddress hi 223\n",
            "emailaddress mailto emailaddress 173\n",
            "browser microsoft internet 168\n",
            "microsoft internet explorer 168\n",
            "emailaddress customer number 168\n",
            "language browser microsoft 165\n",
            "internet explorer emailaddress 165\n",
            "explorer emailaddress customer 165\n",
            "received emailaddress dear 161\n",
            "customer number telephone 160\n",
            "received emailaddress abended 151\n",
            "emailaddress abended job 151\n"
          ],
          "name": "stdout"
        }
      ]
    },
    {
      "cell_type": "code",
      "metadata": {
        "id": "Oe-sIAL_Pk2G",
        "colab_type": "code",
        "colab": {
          "base_uri": "https://localhost:8080/",
          "height": 221
        },
        "outputId": "c0d08268-12dc-4eea-c9ac-03e490b6f5ac"
      },
      "source": [
        "df4['Assignment group'].value_counts()"
      ],
      "execution_count": 34,
      "outputs": [
        {
          "output_type": "execute_result",
          "data": {
            "text/plain": [
              "GRP_0     3834\n",
              "GRP_8      657\n",
              "GRP_24     287\n",
              "GRP_9      252\n",
              "GRP_12     245\n",
              "          ... \n",
              "GRP_56       3\n",
              "GRP_72       2\n",
              "GRP_57       2\n",
              "GRP_55       1\n",
              "GRP_68       1\n",
              "Name: Assignment group, Length: 62, dtype: int64"
            ]
          },
          "metadata": {
            "tags": []
          },
          "execution_count": 34
        }
      ]
    },
    {
      "cell_type": "code",
      "metadata": {
        "id": "3s34eNgLPloW",
        "colab_type": "code",
        "colab": {
          "base_uri": "https://localhost:8080/",
          "height": 204
        },
        "outputId": "a59d80a2-8294-4400-cb00-e790a0a3c0d2"
      },
      "source": [
        "df4['Assignment group'].unique()"
      ],
      "execution_count": 35,
      "outputs": [
        {
          "output_type": "execute_result",
          "data": {
            "text/plain": [
              "array(['GRP_0', 'GRP_1', 'GRP_3', 'GRP_4', 'GRP_5', 'GRP_6', 'GRP_7',\n",
              "       'GRP_8', 'GRP_9', 'GRP_10', 'GRP_11', 'GRP_12', 'GRP_13', 'GRP_14',\n",
              "       'GRP_15', 'GRP_16', 'GRP_17', 'GRP_18', 'GRP_19', 'GRP_2',\n",
              "       'GRP_20', 'GRP_21', 'GRP_22', 'GRP_23', 'GRP_24', 'GRP_26',\n",
              "       'GRP_27', 'GRP_28', 'GRP_29', 'GRP_30', 'GRP_31', 'GRP_33',\n",
              "       'GRP_25', 'GRP_34', 'GRP_36', 'GRP_37', 'GRP_39', 'GRP_40',\n",
              "       'GRP_41', 'GRP_42', 'GRP_43', 'GRP_44', 'GRP_45', 'GRP_46',\n",
              "       'GRP_47', 'GRP_48', 'GRP_49', 'GRP_50', 'GRP_51', 'GRP_52',\n",
              "       'GRP_53', 'GRP_56', 'GRP_57', 'GRP_59', 'GRP_60', 'GRP_32',\n",
              "       'GRP_62', 'GRP_65', 'GRP_66', 'GRP_68', 'GRP_55', 'GRP_72'],\n",
              "      dtype=object)"
            ]
          },
          "metadata": {
            "tags": []
          },
          "execution_count": 35
        }
      ]
    },
    {
      "cell_type": "code",
      "metadata": {
        "id": "LPiicrLaPqRr",
        "colab_type": "code",
        "colab": {}
      },
      "source": [
        "# # label_encoder object knows how to understand word labels. \n",
        "# label_encoder = preprocessing.LabelEncoder() \n",
        "  \n",
        "# # Encode labels in column 'species'. \n",
        "# df4['Assignment group LabelEncode']= label_encoder.fit_transform(df4['Assignment group']) \n",
        "  \n",
        "# df4['Assignment group LabelEncode'].unique() "
      ],
      "execution_count": 36,
      "outputs": []
    },
    {
      "cell_type": "code",
      "metadata": {
        "id": "DNrhnTFJPv9L",
        "colab_type": "code",
        "colab": {}
      },
      "source": [
        "df5 = df4.groupby('Assignment group').filter(lambda x: len(x) < 7)"
      ],
      "execution_count": 37,
      "outputs": []
    },
    {
      "cell_type": "code",
      "metadata": {
        "id": "C0hMS6RiQeCC",
        "colab_type": "code",
        "colab": {
          "base_uri": "https://localhost:8080/",
          "height": 479
        },
        "outputId": "8a771be1-9aed-4990-f6c6-b7c565387722"
      },
      "source": [
        "df5.head()"
      ],
      "execution_count": 38,
      "outputs": [
        {
          "output_type": "execute_result",
          "data": {
            "text/html": [
              "<div>\n",
              "<style scoped>\n",
              "    .dataframe tbody tr th:only-of-type {\n",
              "        vertical-align: middle;\n",
              "    }\n",
              "\n",
              "    .dataframe tbody tr th {\n",
              "        vertical-align: top;\n",
              "    }\n",
              "\n",
              "    .dataframe thead th {\n",
              "        text-align: right;\n",
              "    }\n",
              "</style>\n",
              "<table border=\"1\" class=\"dataframe\">\n",
              "  <thead>\n",
              "    <tr style=\"text-align: right;\">\n",
              "      <th></th>\n",
              "      <th>Translated_Description</th>\n",
              "      <th>Translated_Short description</th>\n",
              "      <th>Assignment group</th>\n",
              "      <th>Length of Translated_Description Before Summarization</th>\n",
              "      <th>Length of Translated_Short description Before Summarization</th>\n",
              "      <th>Summarized_Translated_Description</th>\n",
              "      <th>Length of Translated_Description After Summarization</th>\n",
              "      <th>Summarized_Translated_Short Description</th>\n",
              "      <th>Complete_Description</th>\n",
              "      <th>clean_review_len</th>\n",
              "      <th>clean_word_count</th>\n",
              "    </tr>\n",
              "  </thead>\n",
              "  <tbody>\n",
              "    <tr>\n",
              "      <th>626</th>\n",
              "      <td>received from: emailaddress  gso,  currently...</td>\n",
              "      <td>production order number issue</td>\n",
              "      <td>GRP_43</td>\n",
              "      <td>47</td>\n",
              "      <td>4</td>\n",
              "      <td>received from: emailaddress  gso,  currently...</td>\n",
              "      <td>47</td>\n",
              "      <td>production order number issue</td>\n",
              "      <td>received from: emailaddress  gso,  currently...</td>\n",
              "      <td>346</td>\n",
              "      <td>51</td>\n",
              "    </tr>\n",
              "    <tr>\n",
              "      <th>841</th>\n",
              "      <td>hi team,   i need your help with two error the...</td>\n",
              "      <td>error with customization (engineering tool) - ...</td>\n",
              "      <td>GRP_46</td>\n",
              "      <td>39</td>\n",
              "      <td>11</td>\n",
              "      <td>hi team,   i need your help with two error the...</td>\n",
              "      <td>39</td>\n",
              "      <td>error with customization (engineering tool) - ...</td>\n",
              "      <td>hi team,   i need your help with two error the...</td>\n",
              "      <td>328</td>\n",
              "      <td>50</td>\n",
              "    </tr>\n",
              "    <tr>\n",
              "      <th>1143</th>\n",
              "      <td>the following word-document can not be edited:...</td>\n",
              "      <td>please redirect to local it: word document 134...</td>\n",
              "      <td>GRP_49</td>\n",
              "      <td>25</td>\n",
              "      <td>9</td>\n",
              "      <td>the following word-document can not be edited:...</td>\n",
              "      <td>25</td>\n",
              "      <td>please redirect to local it: word document 134...</td>\n",
              "      <td>the following word-document can not be edited:...</td>\n",
              "      <td>208</td>\n",
              "      <td>34</td>\n",
              "    </tr>\n",
              "    <tr>\n",
              "      <th>1757</th>\n",
              "      <td>发件人: white, ben emailaddress 发送时间: 2016年10月11日...</td>\n",
              "      <td>please provide ip for our 5 users</td>\n",
              "      <td>GRP_56</td>\n",
              "      <td>83</td>\n",
              "      <td>7</td>\n",
              "      <td>发件人: white, ben emailaddress 发送时间: 2016年10月11日...</td>\n",
              "      <td>83</td>\n",
              "      <td>please provide ip for our 5 users</td>\n",
              "      <td>发件人: white, ben emailaddress 发送时间: 2016年10月11日...</td>\n",
              "      <td>544</td>\n",
              "      <td>90</td>\n",
              "    </tr>\n",
              "    <tr>\n",
              "      <th>1886</th>\n",
              "      <td>i cannot access the dob report.  i was able to...</td>\n",
              "      <td>i cannot access the dob report.  i was able to...</td>\n",
              "      <td>GRP_57</td>\n",
              "      <td>21</td>\n",
              "      <td>21</td>\n",
              "      <td>i cannot access the dob report.  i was able to...</td>\n",
              "      <td>21</td>\n",
              "      <td>i cannot access the dob report.  i was able to...</td>\n",
              "      <td>i cannot access the dob report.  i was able to...</td>\n",
              "      <td>222</td>\n",
              "      <td>42</td>\n",
              "    </tr>\n",
              "  </tbody>\n",
              "</table>\n",
              "</div>"
            ],
            "text/plain": [
              "                                 Translated_Description  ... clean_word_count\n",
              "626     received from: emailaddress  gso,  currently...  ...               51\n",
              "841   hi team,   i need your help with two error the...  ...               50\n",
              "1143  the following word-document can not be edited:...  ...               34\n",
              "1757  发件人: white, ben emailaddress 发送时间: 2016年10月11日...  ...               90\n",
              "1886  i cannot access the dob report.  i was able to...  ...               42\n",
              "\n",
              "[5 rows x 11 columns]"
            ]
          },
          "metadata": {
            "tags": []
          },
          "execution_count": 38
        }
      ]
    },
    {
      "cell_type": "code",
      "metadata": {
        "id": "vvsQjEolQhx8",
        "colab_type": "code",
        "colab": {
          "base_uri": "https://localhost:8080/",
          "height": 34
        },
        "outputId": "aa176451-6c2f-4b9a-e5c8-cb83604c8bda"
      },
      "source": [
        "df5.shape"
      ],
      "execution_count": 39,
      "outputs": [
        {
          "output_type": "execute_result",
          "data": {
            "text/plain": [
              "(39, 11)"
            ]
          },
          "metadata": {
            "tags": []
          },
          "execution_count": 39
        }
      ]
    },
    {
      "cell_type": "code",
      "metadata": {
        "id": "DK44RqJKQzjl",
        "colab_type": "code",
        "colab": {
          "base_uri": "https://localhost:8080/",
          "height": 34
        },
        "outputId": "d7c6acf5-c859-46a2-b6f7-ff26d10f329b"
      },
      "source": [
        "df4.shape"
      ],
      "execution_count": 40,
      "outputs": [
        {
          "output_type": "execute_result",
          "data": {
            "text/plain": [
              "(8184, 11)"
            ]
          },
          "metadata": {
            "tags": []
          },
          "execution_count": 40
        }
      ]
    },
    {
      "cell_type": "code",
      "metadata": {
        "id": "J0hb8mEvQkrE",
        "colab_type": "code",
        "colab": {}
      },
      "source": [
        "frames = [df4, df5]\n",
        "\n",
        "#concatenate dataframes\n",
        "df4 = pd.concat(frames, sort=False)\n",
        "######\n",
        "frames = [df4, df5]\n",
        "\n",
        "#concatenate dataframes\n",
        "df4 = pd.concat(frames, sort=False)\n",
        "######\n",
        "frames = [df4, df5]\n",
        "\n",
        "#concatenate dataframes\n",
        "df4 = pd.concat(frames, sort=False)\n",
        "######\n",
        "frames = [df4, df5]\n",
        "\n",
        "#concatenate dataframes\n",
        "df4 = pd.concat(frames, sort=False)\n",
        "######\n",
        "frames = [df4, df5]\n",
        "\n",
        "#concatenate dataframes\n",
        "df4 = pd.concat(frames, sort=False)\n",
        "\n",
        "\n",
        "frames = [df4, df5]\n",
        "\n",
        "#concatenate dataframes\n",
        "df4 = pd.concat(frames, sort=False)\n",
        "######\n",
        "frames = [df4, df5]\n",
        "\n",
        "#concatenate dataframes\n",
        "df4 = pd.concat(frames, sort=False)\n",
        "######\n",
        "frames = [df4, df5]\n",
        "\n",
        "#concatenate dataframes\n",
        "df4 = pd.concat(frames, sort=False)\n",
        "######\n",
        "frames = [df4, df5]\n",
        "\n",
        "#concatenate dataframes\n",
        "df4 = pd.concat(frames, sort=False)\n",
        "######\n",
        "frames = [df4, df5]\n",
        "\n",
        "#concatenate dataframes\n",
        "df4 = pd.concat(frames, sort=False)"
      ],
      "execution_count": 41,
      "outputs": []
    },
    {
      "cell_type": "code",
      "metadata": {
        "id": "Je8WiEPURE86",
        "colab_type": "code",
        "colab": {
          "base_uri": "https://localhost:8080/",
          "height": 34
        },
        "outputId": "08b7888e-2c26-42f2-b6ad-8dead9670e97"
      },
      "source": [
        "df4.shape"
      ],
      "execution_count": 42,
      "outputs": [
        {
          "output_type": "execute_result",
          "data": {
            "text/plain": [
              "(8574, 11)"
            ]
          },
          "metadata": {
            "tags": []
          },
          "execution_count": 42
        }
      ]
    },
    {
      "cell_type": "code",
      "metadata": {
        "id": "WRV0box6RHKV",
        "colab_type": "code",
        "colab": {
          "base_uri": "https://localhost:8080/",
          "height": 137
        },
        "outputId": "20fae318-d111-4793-cab9-4b0f0d5ef2fe"
      },
      "source": [
        "df6 = df4.groupby('Assignment group').filter(lambda x: len(x) < 7)\n",
        "df6"
      ],
      "execution_count": 43,
      "outputs": [
        {
          "output_type": "execute_result",
          "data": {
            "text/html": [
              "<div>\n",
              "<style scoped>\n",
              "    .dataframe tbody tr th:only-of-type {\n",
              "        vertical-align: middle;\n",
              "    }\n",
              "\n",
              "    .dataframe tbody tr th {\n",
              "        vertical-align: top;\n",
              "    }\n",
              "\n",
              "    .dataframe thead th {\n",
              "        text-align: right;\n",
              "    }\n",
              "</style>\n",
              "<table border=\"1\" class=\"dataframe\">\n",
              "  <thead>\n",
              "    <tr style=\"text-align: right;\">\n",
              "      <th></th>\n",
              "      <th>Translated_Description</th>\n",
              "      <th>Translated_Short description</th>\n",
              "      <th>Assignment group</th>\n",
              "      <th>Length of Translated_Description Before Summarization</th>\n",
              "      <th>Length of Translated_Short description Before Summarization</th>\n",
              "      <th>Summarized_Translated_Description</th>\n",
              "      <th>Length of Translated_Description After Summarization</th>\n",
              "      <th>Summarized_Translated_Short Description</th>\n",
              "      <th>Complete_Description</th>\n",
              "      <th>clean_review_len</th>\n",
              "      <th>clean_word_count</th>\n",
              "    </tr>\n",
              "  </thead>\n",
              "  <tbody>\n",
              "  </tbody>\n",
              "</table>\n",
              "</div>"
            ],
            "text/plain": [
              "Empty DataFrame\n",
              "Columns: [Translated_Description, Translated_Short description, Assignment group, Length of Translated_Description Before Summarization, Length of Translated_Short description Before Summarization, Summarized_Translated_Description, Length of Translated_Description After Summarization, Summarized_Translated_Short Description, Complete_Description, clean_review_len, clean_word_count]\n",
              "Index: []"
            ]
          },
          "metadata": {
            "tags": []
          },
          "execution_count": 43
        }
      ]
    },
    {
      "cell_type": "code",
      "metadata": {
        "id": "LBIrBLYeRWkl",
        "colab_type": "code",
        "colab": {
          "base_uri": "https://localhost:8080/",
          "height": 411
        },
        "outputId": "ffdd95fd-6ad1-4c7e-c468-b700568f9489"
      },
      "source": [
        "df4.head()"
      ],
      "execution_count": 44,
      "outputs": [
        {
          "output_type": "execute_result",
          "data": {
            "text/html": [
              "<div>\n",
              "<style scoped>\n",
              "    .dataframe tbody tr th:only-of-type {\n",
              "        vertical-align: middle;\n",
              "    }\n",
              "\n",
              "    .dataframe tbody tr th {\n",
              "        vertical-align: top;\n",
              "    }\n",
              "\n",
              "    .dataframe thead th {\n",
              "        text-align: right;\n",
              "    }\n",
              "</style>\n",
              "<table border=\"1\" class=\"dataframe\">\n",
              "  <thead>\n",
              "    <tr style=\"text-align: right;\">\n",
              "      <th></th>\n",
              "      <th>Translated_Description</th>\n",
              "      <th>Translated_Short description</th>\n",
              "      <th>Assignment group</th>\n",
              "      <th>Length of Translated_Description Before Summarization</th>\n",
              "      <th>Length of Translated_Short description Before Summarization</th>\n",
              "      <th>Summarized_Translated_Description</th>\n",
              "      <th>Length of Translated_Description After Summarization</th>\n",
              "      <th>Summarized_Translated_Short Description</th>\n",
              "      <th>Complete_Description</th>\n",
              "      <th>clean_review_len</th>\n",
              "      <th>clean_word_count</th>\n",
              "    </tr>\n",
              "  </thead>\n",
              "  <tbody>\n",
              "    <tr>\n",
              "      <th>0</th>\n",
              "      <td>-verified user details.(employee# &amp; manager na...</td>\n",
              "      <td>login issue</td>\n",
              "      <td>GRP_0</td>\n",
              "      <td>33</td>\n",
              "      <td>2</td>\n",
              "      <td>-verified user details.(employee# &amp; manager na...</td>\n",
              "      <td>33</td>\n",
              "      <td>login issue</td>\n",
              "      <td>-verified user details.(employee# &amp; manager na...</td>\n",
              "      <td>214</td>\n",
              "      <td>35</td>\n",
              "    </tr>\n",
              "    <tr>\n",
              "      <th>1</th>\n",
              "      <td>received from: emailaddress  hello team,  my...</td>\n",
              "      <td>outlook</td>\n",
              "      <td>GRP_0</td>\n",
              "      <td>25</td>\n",
              "      <td>1</td>\n",
              "      <td>received from: emailaddress  hello team,  my...</td>\n",
              "      <td>25</td>\n",
              "      <td>outlook</td>\n",
              "      <td>received from: emailaddress  hello team,  my...</td>\n",
              "      <td>179</td>\n",
              "      <td>26</td>\n",
              "    </tr>\n",
              "    <tr>\n",
              "      <th>2</th>\n",
              "      <td>received from: emailaddress  hi  i cannot lo...</td>\n",
              "      <td>cant log in to vpn</td>\n",
              "      <td>GRP_0</td>\n",
              "      <td>11</td>\n",
              "      <td>5</td>\n",
              "      <td>received from: emailaddress  hi  i cannot lo...</td>\n",
              "      <td>11</td>\n",
              "      <td>cant log in to vpn</td>\n",
              "      <td>received from: emailaddress  hi  i cannot lo...</td>\n",
              "      <td>83</td>\n",
              "      <td>16</td>\n",
              "    </tr>\n",
              "    <tr>\n",
              "      <th>3</th>\n",
              "      <td>unable to access hr_tool page</td>\n",
              "      <td>unable to access hr_tool page</td>\n",
              "      <td>GRP_0</td>\n",
              "      <td>5</td>\n",
              "      <td>5</td>\n",
              "      <td>unable to access hr_tool page</td>\n",
              "      <td>5</td>\n",
              "      <td>unable to access hr_tool page</td>\n",
              "      <td>unable to access hr_tool page unable to access...</td>\n",
              "      <td>59</td>\n",
              "      <td>10</td>\n",
              "    </tr>\n",
              "    <tr>\n",
              "      <th>4</th>\n",
              "      <td>skype error</td>\n",
              "      <td>skype error</td>\n",
              "      <td>GRP_0</td>\n",
              "      <td>2</td>\n",
              "      <td>2</td>\n",
              "      <td>skype error</td>\n",
              "      <td>2</td>\n",
              "      <td>skype error</td>\n",
              "      <td>skype error skype error</td>\n",
              "      <td>23</td>\n",
              "      <td>4</td>\n",
              "    </tr>\n",
              "  </tbody>\n",
              "</table>\n",
              "</div>"
            ],
            "text/plain": [
              "                              Translated_Description  ... clean_word_count\n",
              "0  -verified user details.(employee# & manager na...  ...               35\n",
              "1    received from: emailaddress  hello team,  my...  ...               26\n",
              "2    received from: emailaddress  hi  i cannot lo...  ...               16\n",
              "3                      unable to access hr_tool page  ...               10\n",
              "4                                        skype error  ...                4\n",
              "\n",
              "[5 rows x 11 columns]"
            ]
          },
          "metadata": {
            "tags": []
          },
          "execution_count": 44
        }
      ]
    },
    {
      "cell_type": "code",
      "metadata": {
        "id": "aI7ksjvTRn5j",
        "colab_type": "code",
        "colab": {
          "base_uri": "https://localhost:8080/",
          "height": 204
        },
        "outputId": "ef479ba9-421e-4036-ded1-0de301ee51ec"
      },
      "source": [
        "df7 = df4.drop(['Translated_Description','Translated_Short description','Length of Translated_Description Before Summarization','Length of Translated_Short description Before Summarization','Summarized_Translated_Description','Length of Translated_Description After Summarization','clean_review_len','clean_word_count','Summarized_Translated_Short Description'],axis=1)\n",
        "df7.head()"
      ],
      "execution_count": 45,
      "outputs": [
        {
          "output_type": "execute_result",
          "data": {
            "text/html": [
              "<div>\n",
              "<style scoped>\n",
              "    .dataframe tbody tr th:only-of-type {\n",
              "        vertical-align: middle;\n",
              "    }\n",
              "\n",
              "    .dataframe tbody tr th {\n",
              "        vertical-align: top;\n",
              "    }\n",
              "\n",
              "    .dataframe thead th {\n",
              "        text-align: right;\n",
              "    }\n",
              "</style>\n",
              "<table border=\"1\" class=\"dataframe\">\n",
              "  <thead>\n",
              "    <tr style=\"text-align: right;\">\n",
              "      <th></th>\n",
              "      <th>Assignment group</th>\n",
              "      <th>Complete_Description</th>\n",
              "    </tr>\n",
              "  </thead>\n",
              "  <tbody>\n",
              "    <tr>\n",
              "      <th>0</th>\n",
              "      <td>GRP_0</td>\n",
              "      <td>-verified user details.(employee# &amp; manager na...</td>\n",
              "    </tr>\n",
              "    <tr>\n",
              "      <th>1</th>\n",
              "      <td>GRP_0</td>\n",
              "      <td>received from: emailaddress  hello team,  my...</td>\n",
              "    </tr>\n",
              "    <tr>\n",
              "      <th>2</th>\n",
              "      <td>GRP_0</td>\n",
              "      <td>received from: emailaddress  hi  i cannot lo...</td>\n",
              "    </tr>\n",
              "    <tr>\n",
              "      <th>3</th>\n",
              "      <td>GRP_0</td>\n",
              "      <td>unable to access hr_tool page unable to access...</td>\n",
              "    </tr>\n",
              "    <tr>\n",
              "      <th>4</th>\n",
              "      <td>GRP_0</td>\n",
              "      <td>skype error skype error</td>\n",
              "    </tr>\n",
              "  </tbody>\n",
              "</table>\n",
              "</div>"
            ],
            "text/plain": [
              "  Assignment group                               Complete_Description\n",
              "0            GRP_0  -verified user details.(employee# & manager na...\n",
              "1            GRP_0    received from: emailaddress  hello team,  my...\n",
              "2            GRP_0    received from: emailaddress  hi  i cannot lo...\n",
              "3            GRP_0  unable to access hr_tool page unable to access...\n",
              "4            GRP_0                            skype error skype error"
            ]
          },
          "metadata": {
            "tags": []
          },
          "execution_count": 45
        }
      ]
    },
    {
      "cell_type": "code",
      "metadata": {
        "id": "mefb5KfgR1AJ",
        "colab_type": "code",
        "colab": {
          "base_uri": "https://localhost:8080/",
          "height": 204
        },
        "outputId": "e378164f-9bec-48c2-d9d6-1a8fd67bec5e"
      },
      "source": [
        "df7['data'] = df7['Complete_Description']\n",
        "df7['target'] = df7['Assignment group']\n",
        "df7.drop(['Assignment group','Complete_Description'],axis=1,inplace=True)\n",
        "df7 = df7[df7['target'] != 'GRP_0']\n",
        "df7.head()"
      ],
      "execution_count": 46,
      "outputs": [
        {
          "output_type": "execute_result",
          "data": {
            "text/html": [
              "<div>\n",
              "<style scoped>\n",
              "    .dataframe tbody tr th:only-of-type {\n",
              "        vertical-align: middle;\n",
              "    }\n",
              "\n",
              "    .dataframe tbody tr th {\n",
              "        vertical-align: top;\n",
              "    }\n",
              "\n",
              "    .dataframe thead th {\n",
              "        text-align: right;\n",
              "    }\n",
              "</style>\n",
              "<table border=\"1\" class=\"dataframe\">\n",
              "  <thead>\n",
              "    <tr style=\"text-align: right;\">\n",
              "      <th></th>\n",
              "      <th>data</th>\n",
              "      <th>target</th>\n",
              "    </tr>\n",
              "  </thead>\n",
              "  <tbody>\n",
              "    <tr>\n",
              "      <th>6</th>\n",
              "      <td>event: critical:HostName_221.company.com the v...</td>\n",
              "      <td>GRP_1</td>\n",
              "    </tr>\n",
              "    <tr>\n",
              "      <th>17</th>\n",
              "      <td>when undocking pc , screen will not come back ...</td>\n",
              "      <td>GRP_3</td>\n",
              "    </tr>\n",
              "    <tr>\n",
              "      <th>32</th>\n",
              "      <td>received from: emailaddress  gentles,  i hav...</td>\n",
              "      <td>GRP_4</td>\n",
              "    </tr>\n",
              "    <tr>\n",
              "      <th>43</th>\n",
              "      <td>received from: emailaddress  hi -  the print...</td>\n",
              "      <td>GRP_5</td>\n",
              "    </tr>\n",
              "    <tr>\n",
              "      <th>47</th>\n",
              "      <td>received from: emailaddress  job Job_1424 fail...</td>\n",
              "      <td>GRP_6</td>\n",
              "    </tr>\n",
              "  </tbody>\n",
              "</table>\n",
              "</div>"
            ],
            "text/plain": [
              "                                                 data target\n",
              "6   event: critical:HostName_221.company.com the v...  GRP_1\n",
              "17  when undocking pc , screen will not come back ...  GRP_3\n",
              "32    received from: emailaddress  gentles,  i hav...  GRP_4\n",
              "43    received from: emailaddress  hi -  the print...  GRP_5\n",
              "47  received from: emailaddress  job Job_1424 fail...  GRP_6"
            ]
          },
          "metadata": {
            "tags": []
          },
          "execution_count": 46
        }
      ]
    },
    {
      "cell_type": "code",
      "metadata": {
        "id": "u26PsU8MSdzq",
        "colab_type": "code",
        "colab": {
          "base_uri": "https://localhost:8080/",
          "height": 34
        },
        "outputId": "d462b20d-27f4-4d9d-ee20-60c9459afb43"
      },
      "source": [
        "df7.shape"
      ],
      "execution_count": 47,
      "outputs": [
        {
          "output_type": "execute_result",
          "data": {
            "text/plain": [
              "(4740, 2)"
            ]
          },
          "metadata": {
            "tags": []
          },
          "execution_count": 47
        }
      ]
    },
    {
      "cell_type": "code",
      "metadata": {
        "id": "PqrUy-i5Su6n",
        "colab_type": "code",
        "colab": {
          "base_uri": "https://localhost:8080/",
          "height": 71
        },
        "outputId": "1f8bbe4f-8e72-4a65-89ad-717d7f92215c"
      },
      "source": [
        "#RandomOverSampler\n",
        "\n",
        "upsampler = RandomOverSampler(sampling_strategy='auto',random_state=0)\n",
        "X,y = upsampler.fit_sample(df7.drop(['target'],axis=1),df7['target'])"
      ],
      "execution_count": 48,
      "outputs": [
        {
          "output_type": "stream",
          "text": [
            "/usr/local/lib/python3.6/dist-packages/sklearn/utils/deprecation.py:87: FutureWarning: Function safe_indexing is deprecated; safe_indexing is deprecated in version 0.22 and will be removed in version 0.24.\n",
            "  warnings.warn(msg, category=FutureWarning)\n"
          ],
          "name": "stderr"
        }
      ]
    },
    {
      "cell_type": "code",
      "metadata": {
        "id": "XbJ9Ux1iTCXd",
        "colab_type": "code",
        "colab": {}
      },
      "source": [
        "df8 = pd.DataFrame(X)\n",
        "df9 = pd.DataFrame(y)"
      ],
      "execution_count": 49,
      "outputs": []
    },
    {
      "cell_type": "code",
      "metadata": {
        "id": "Np0isCszTSLk",
        "colab_type": "code",
        "colab": {
          "base_uri": "https://localhost:8080/",
          "height": 204
        },
        "outputId": "d043b1a1-5943-4470-ea28-da7dd7d10671"
      },
      "source": [
        "df10 = pd.concat([df8, df9],axis=1)\n",
        "df10.columns = ['data','target']\n",
        "df10.head()"
      ],
      "execution_count": 50,
      "outputs": [
        {
          "output_type": "execute_result",
          "data": {
            "text/html": [
              "<div>\n",
              "<style scoped>\n",
              "    .dataframe tbody tr th:only-of-type {\n",
              "        vertical-align: middle;\n",
              "    }\n",
              "\n",
              "    .dataframe tbody tr th {\n",
              "        vertical-align: top;\n",
              "    }\n",
              "\n",
              "    .dataframe thead th {\n",
              "        text-align: right;\n",
              "    }\n",
              "</style>\n",
              "<table border=\"1\" class=\"dataframe\">\n",
              "  <thead>\n",
              "    <tr style=\"text-align: right;\">\n",
              "      <th></th>\n",
              "      <th>data</th>\n",
              "      <th>target</th>\n",
              "    </tr>\n",
              "  </thead>\n",
              "  <tbody>\n",
              "    <tr>\n",
              "      <th>0</th>\n",
              "      <td>event: critical:HostName_221.company.com the v...</td>\n",
              "      <td>GRP_1</td>\n",
              "    </tr>\n",
              "    <tr>\n",
              "      <th>1</th>\n",
              "      <td>when undocking pc , screen will not come back ...</td>\n",
              "      <td>GRP_3</td>\n",
              "    </tr>\n",
              "    <tr>\n",
              "      <th>2</th>\n",
              "      <td>received from: emailaddress  gentles,  i hav...</td>\n",
              "      <td>GRP_4</td>\n",
              "    </tr>\n",
              "    <tr>\n",
              "      <th>3</th>\n",
              "      <td>received from: emailaddress  hi -  the print...</td>\n",
              "      <td>GRP_5</td>\n",
              "    </tr>\n",
              "    <tr>\n",
              "      <th>4</th>\n",
              "      <td>received from: emailaddress  job Job_1424 fail...</td>\n",
              "      <td>GRP_6</td>\n",
              "    </tr>\n",
              "  </tbody>\n",
              "</table>\n",
              "</div>"
            ],
            "text/plain": [
              "                                                data target\n",
              "0  event: critical:HostName_221.company.com the v...  GRP_1\n",
              "1  when undocking pc , screen will not come back ...  GRP_3\n",
              "2    received from: emailaddress  gentles,  i hav...  GRP_4\n",
              "3    received from: emailaddress  hi -  the print...  GRP_5\n",
              "4  received from: emailaddress  job Job_1424 fail...  GRP_6"
            ]
          },
          "metadata": {
            "tags": []
          },
          "execution_count": 50
        }
      ]
    },
    {
      "cell_type": "code",
      "metadata": {
        "id": "r6OEzNkHV9tv",
        "colab_type": "code",
        "colab": {
          "base_uri": "https://localhost:8080/",
          "height": 238
        },
        "outputId": "d0243bbb-2f14-415d-c9e3-4f3196fbac56"
      },
      "source": [
        "print(df10.shape)\n",
        "df10.target.value_counts()"
      ],
      "execution_count": 51,
      "outputs": [
        {
          "output_type": "stream",
          "text": [
            "(40077, 2)\n"
          ],
          "name": "stdout"
        },
        {
          "output_type": "execute_result",
          "data": {
            "text/plain": [
              "GRP_6     657\n",
              "GRP_36    657\n",
              "GRP_50    657\n",
              "GRP_52    657\n",
              "GRP_46    657\n",
              "         ... \n",
              "GRP_3     657\n",
              "GRP_32    657\n",
              "GRP_2     657\n",
              "GRP_34    657\n",
              "GRP_65    657\n",
              "Name: target, Length: 61, dtype: int64"
            ]
          },
          "metadata": {
            "tags": []
          },
          "execution_count": 51
        }
      ]
    },
    {
      "cell_type": "code",
      "metadata": {
        "id": "EfcCEA-6V-du",
        "colab_type": "code",
        "colab": {
          "base_uri": "https://localhost:8080/",
          "height": 513
        },
        "outputId": "ce9cb627-6df8-444b-86f7-36239652bb08"
      },
      "source": [
        "df_grp0 = pd.read_csv('/content/drive/My Drive/MyColabProjects/Capstone/NLP2/nlp_project/dataset/Updated_translated_df_Grp_Segregation.csv')\n",
        "df_grp0.head()"
      ],
      "execution_count": 52,
      "outputs": [
        {
          "output_type": "execute_result",
          "data": {
            "text/html": [
              "<div>\n",
              "<style scoped>\n",
              "    .dataframe tbody tr th:only-of-type {\n",
              "        vertical-align: middle;\n",
              "    }\n",
              "\n",
              "    .dataframe tbody tr th {\n",
              "        vertical-align: top;\n",
              "    }\n",
              "\n",
              "    .dataframe thead th {\n",
              "        text-align: right;\n",
              "    }\n",
              "</style>\n",
              "<table border=\"1\" class=\"dataframe\">\n",
              "  <thead>\n",
              "    <tr style=\"text-align: right;\">\n",
              "      <th></th>\n",
              "      <th>Short description</th>\n",
              "      <th>Description</th>\n",
              "      <th>Caller</th>\n",
              "      <th>Assignment group</th>\n",
              "      <th>Raked Short description</th>\n",
              "      <th>Raked Description</th>\n",
              "      <th>Iso_Description</th>\n",
              "      <th>Language_Description</th>\n",
              "      <th>Translated_Description</th>\n",
              "      <th>Iso_Short description</th>\n",
              "      <th>Language_Short description</th>\n",
              "      <th>Translated_Short description</th>\n",
              "      <th>Length of Translated_Description Before Summarization</th>\n",
              "      <th>Length of Translated_Short description Before Summarization</th>\n",
              "      <th>Summarized_Translated_Description</th>\n",
              "      <th>Length of Translated_Description After Summarization</th>\n",
              "      <th>Complete_Description</th>\n",
              "      <th>index</th>\n",
              "    </tr>\n",
              "  </thead>\n",
              "  <tbody>\n",
              "    <tr>\n",
              "      <th>0</th>\n",
              "      <td>login issue</td>\n",
              "      <td>-verified user details.(employee# &amp; manager na...</td>\n",
              "      <td>spxjnwir pjlcoqds</td>\n",
              "      <td>GRP_0_2</td>\n",
              "      <td>['login issue']</td>\n",
              "      <td>['verified user details', 'user name', 'manage...</td>\n",
              "      <td>en</td>\n",
              "      <td>English</td>\n",
              "      <td>-verified user details.(employee# &amp; manager na...</td>\n",
              "      <td>en</td>\n",
              "      <td>English</td>\n",
              "      <td>login issue</td>\n",
              "      <td>33</td>\n",
              "      <td>2</td>\n",
              "      <td>-verified user details.(employee# &amp; manager na...</td>\n",
              "      <td>33</td>\n",
              "      <td>-verified user details.(employee# &amp; manager na...</td>\n",
              "      <td>0</td>\n",
              "    </tr>\n",
              "    <tr>\n",
              "      <th>1</th>\n",
              "      <td>outlook</td>\n",
              "      <td>\\n\\nreceived from: hmjdrvpb.komuaywn@gmail.com...</td>\n",
              "      <td>hmjdrvpb komuaywn</td>\n",
              "      <td>GRP_0_2</td>\n",
              "      <td>['outlook']</td>\n",
              "      <td>['somebody please advise', 'com hello team', '...</td>\n",
              "      <td>en</td>\n",
              "      <td>English</td>\n",
              "      <td>received from: hmjdrvpb.komuaywn@gmail.com  ...</td>\n",
              "      <td>en</td>\n",
              "      <td>English</td>\n",
              "      <td>outlook</td>\n",
              "      <td>25</td>\n",
              "      <td>1</td>\n",
              "      <td>received from: hmjdrvpb.komuaywn@gmail.com  ...</td>\n",
              "      <td>25</td>\n",
              "      <td>received from: hmjdrvpb.komuaywn@gmail.com  ...</td>\n",
              "      <td>1</td>\n",
              "    </tr>\n",
              "    <tr>\n",
              "      <th>2</th>\n",
              "      <td>cant log in to vpn</td>\n",
              "      <td>\\n\\nreceived from: eylqgodm.ybqkwiam@gmail.com...</td>\n",
              "      <td>eylqgodm ybqkwiam</td>\n",
              "      <td>GRP_0_2</td>\n",
              "      <td>['cant log', 'vpn']</td>\n",
              "      <td>['vpn best', 'com hi', 'cannot log', 'ybqkwiam...</td>\n",
              "      <td>en</td>\n",
              "      <td>English</td>\n",
              "      <td>received from: eylqgodm.ybqkwiam@gmail.com  ...</td>\n",
              "      <td>en</td>\n",
              "      <td>English</td>\n",
              "      <td>cant log in to vpn</td>\n",
              "      <td>11</td>\n",
              "      <td>5</td>\n",
              "      <td>received from: eylqgodm.ybqkwiam@gmail.com  ...</td>\n",
              "      <td>11</td>\n",
              "      <td>received from: eylqgodm.ybqkwiam@gmail.com  ...</td>\n",
              "      <td>2</td>\n",
              "    </tr>\n",
              "    <tr>\n",
              "      <th>3</th>\n",
              "      <td>unable to access hr_tool page</td>\n",
              "      <td>unable to access hr_tool page</td>\n",
              "      <td>xbkucsvz gcpydteq</td>\n",
              "      <td>GRP_0_1</td>\n",
              "      <td>['access hr_tool page', 'unable']</td>\n",
              "      <td>['access hr_tool page', 'unable']</td>\n",
              "      <td>en</td>\n",
              "      <td>English</td>\n",
              "      <td>unable to access hr_tool page</td>\n",
              "      <td>en</td>\n",
              "      <td>English</td>\n",
              "      <td>unable to access hr_tool page</td>\n",
              "      <td>5</td>\n",
              "      <td>5</td>\n",
              "      <td>unable to access hr_tool page</td>\n",
              "      <td>5</td>\n",
              "      <td>unable to access hr_tool page unable to access...</td>\n",
              "      <td>3</td>\n",
              "    </tr>\n",
              "    <tr>\n",
              "      <th>4</th>\n",
              "      <td>skype error</td>\n",
              "      <td>skype error</td>\n",
              "      <td>owlgqjme qhcozdfx</td>\n",
              "      <td>GRP_0_2</td>\n",
              "      <td>['skype error']</td>\n",
              "      <td>['skype error']</td>\n",
              "      <td>ja</td>\n",
              "      <td>Japanese</td>\n",
              "      <td>skype error</td>\n",
              "      <td>ja</td>\n",
              "      <td>Japanese</td>\n",
              "      <td>skype error</td>\n",
              "      <td>2</td>\n",
              "      <td>2</td>\n",
              "      <td>skype error</td>\n",
              "      <td>2</td>\n",
              "      <td>skype error skype error</td>\n",
              "      <td>4</td>\n",
              "    </tr>\n",
              "  </tbody>\n",
              "</table>\n",
              "</div>"
            ],
            "text/plain": [
              "               Short description  ... index\n",
              "0                    login issue  ...     0\n",
              "1                        outlook  ...     1\n",
              "2             cant log in to vpn  ...     2\n",
              "3  unable to access hr_tool page  ...     3\n",
              "4                   skype error   ...     4\n",
              "\n",
              "[5 rows x 18 columns]"
            ]
          },
          "metadata": {
            "tags": []
          },
          "execution_count": 52
        }
      ]
    },
    {
      "cell_type": "code",
      "metadata": {
        "id": "Rmkz18BcX0jg",
        "colab_type": "code",
        "colab": {}
      },
      "source": [
        "df_g0 = df_grp0.drop(['Short description', 'Description', 'Caller', \n",
        "       'Raked Short description', 'Raked Description', 'Iso_Description',\n",
        "       'Language_Description', 'Translated_Description',\n",
        "       'Iso_Short description', 'Language_Short description',\n",
        "       'Translated_Short description',\n",
        "       'Length of Translated_Description Before Summarization',\n",
        "       'Length of Translated_Short description Before Summarization',\n",
        "       'Summarized_Translated_Description',\n",
        "       'Length of Translated_Description After Summarization','index',\n",
        "       ],axis=1)"
      ],
      "execution_count": 53,
      "outputs": []
    },
    {
      "cell_type": "code",
      "metadata": {
        "id": "EylFcpWBX5kf",
        "colab_type": "code",
        "colab": {
          "base_uri": "https://localhost:8080/",
          "height": 204
        },
        "outputId": "bcd17776-2065-4849-80a6-f87e3968132e"
      },
      "source": [
        "df_g0.head()"
      ],
      "execution_count": 54,
      "outputs": [
        {
          "output_type": "execute_result",
          "data": {
            "text/html": [
              "<div>\n",
              "<style scoped>\n",
              "    .dataframe tbody tr th:only-of-type {\n",
              "        vertical-align: middle;\n",
              "    }\n",
              "\n",
              "    .dataframe tbody tr th {\n",
              "        vertical-align: top;\n",
              "    }\n",
              "\n",
              "    .dataframe thead th {\n",
              "        text-align: right;\n",
              "    }\n",
              "</style>\n",
              "<table border=\"1\" class=\"dataframe\">\n",
              "  <thead>\n",
              "    <tr style=\"text-align: right;\">\n",
              "      <th></th>\n",
              "      <th>Assignment group</th>\n",
              "      <th>Complete_Description</th>\n",
              "    </tr>\n",
              "  </thead>\n",
              "  <tbody>\n",
              "    <tr>\n",
              "      <th>0</th>\n",
              "      <td>GRP_0_2</td>\n",
              "      <td>-verified user details.(employee# &amp; manager na...</td>\n",
              "    </tr>\n",
              "    <tr>\n",
              "      <th>1</th>\n",
              "      <td>GRP_0_2</td>\n",
              "      <td>received from: hmjdrvpb.komuaywn@gmail.com  ...</td>\n",
              "    </tr>\n",
              "    <tr>\n",
              "      <th>2</th>\n",
              "      <td>GRP_0_2</td>\n",
              "      <td>received from: eylqgodm.ybqkwiam@gmail.com  ...</td>\n",
              "    </tr>\n",
              "    <tr>\n",
              "      <th>3</th>\n",
              "      <td>GRP_0_1</td>\n",
              "      <td>unable to access hr_tool page unable to access...</td>\n",
              "    </tr>\n",
              "    <tr>\n",
              "      <th>4</th>\n",
              "      <td>GRP_0_2</td>\n",
              "      <td>skype error skype error</td>\n",
              "    </tr>\n",
              "  </tbody>\n",
              "</table>\n",
              "</div>"
            ],
            "text/plain": [
              "  Assignment group                               Complete_Description\n",
              "0          GRP_0_2  -verified user details.(employee# & manager na...\n",
              "1          GRP_0_2    received from: hmjdrvpb.komuaywn@gmail.com  ...\n",
              "2          GRP_0_2    received from: eylqgodm.ybqkwiam@gmail.com  ...\n",
              "3          GRP_0_1  unable to access hr_tool page unable to access...\n",
              "4          GRP_0_2                            skype error skype error"
            ]
          },
          "metadata": {
            "tags": []
          },
          "execution_count": 54
        }
      ]
    },
    {
      "cell_type": "code",
      "metadata": {
        "id": "-FMVgr6pX8N0",
        "colab_type": "code",
        "colab": {
          "base_uri": "https://localhost:8080/",
          "height": 34
        },
        "outputId": "bc6b80ed-6692-4cf7-82ac-950dbe706c98"
      },
      "source": [
        "df_g0.shape"
      ],
      "execution_count": 55,
      "outputs": [
        {
          "output_type": "execute_result",
          "data": {
            "text/plain": [
              "(8500, 2)"
            ]
          },
          "metadata": {
            "tags": []
          },
          "execution_count": 55
        }
      ]
    },
    {
      "cell_type": "code",
      "metadata": {
        "id": "Z4fgJADzX_-J",
        "colab_type": "code",
        "colab": {}
      },
      "source": [
        "df11 = df_g0[df_g0['Assignment group'].str.contains(\"GRP_0_\")]"
      ],
      "execution_count": 56,
      "outputs": []
    },
    {
      "cell_type": "code",
      "metadata": {
        "id": "RNsY6vMxYSHb",
        "colab_type": "code",
        "colab": {
          "base_uri": "https://localhost:8080/",
          "height": 204
        },
        "outputId": "774cec12-c909-4612-b647-399c9a4dea66"
      },
      "source": [
        "df11.head()"
      ],
      "execution_count": 57,
      "outputs": [
        {
          "output_type": "execute_result",
          "data": {
            "text/html": [
              "<div>\n",
              "<style scoped>\n",
              "    .dataframe tbody tr th:only-of-type {\n",
              "        vertical-align: middle;\n",
              "    }\n",
              "\n",
              "    .dataframe tbody tr th {\n",
              "        vertical-align: top;\n",
              "    }\n",
              "\n",
              "    .dataframe thead th {\n",
              "        text-align: right;\n",
              "    }\n",
              "</style>\n",
              "<table border=\"1\" class=\"dataframe\">\n",
              "  <thead>\n",
              "    <tr style=\"text-align: right;\">\n",
              "      <th></th>\n",
              "      <th>Assignment group</th>\n",
              "      <th>Complete_Description</th>\n",
              "    </tr>\n",
              "  </thead>\n",
              "  <tbody>\n",
              "    <tr>\n",
              "      <th>0</th>\n",
              "      <td>GRP_0_2</td>\n",
              "      <td>-verified user details.(employee# &amp; manager na...</td>\n",
              "    </tr>\n",
              "    <tr>\n",
              "      <th>1</th>\n",
              "      <td>GRP_0_2</td>\n",
              "      <td>received from: hmjdrvpb.komuaywn@gmail.com  ...</td>\n",
              "    </tr>\n",
              "    <tr>\n",
              "      <th>2</th>\n",
              "      <td>GRP_0_2</td>\n",
              "      <td>received from: eylqgodm.ybqkwiam@gmail.com  ...</td>\n",
              "    </tr>\n",
              "    <tr>\n",
              "      <th>3</th>\n",
              "      <td>GRP_0_1</td>\n",
              "      <td>unable to access hr_tool page unable to access...</td>\n",
              "    </tr>\n",
              "    <tr>\n",
              "      <th>4</th>\n",
              "      <td>GRP_0_2</td>\n",
              "      <td>skype error skype error</td>\n",
              "    </tr>\n",
              "  </tbody>\n",
              "</table>\n",
              "</div>"
            ],
            "text/plain": [
              "  Assignment group                               Complete_Description\n",
              "0          GRP_0_2  -verified user details.(employee# & manager na...\n",
              "1          GRP_0_2    received from: hmjdrvpb.komuaywn@gmail.com  ...\n",
              "2          GRP_0_2    received from: eylqgodm.ybqkwiam@gmail.com  ...\n",
              "3          GRP_0_1  unable to access hr_tool page unable to access...\n",
              "4          GRP_0_2                            skype error skype error"
            ]
          },
          "metadata": {
            "tags": []
          },
          "execution_count": 57
        }
      ]
    },
    {
      "cell_type": "code",
      "metadata": {
        "id": "5pCCwY-fYVQb",
        "colab_type": "code",
        "colab": {
          "base_uri": "https://localhost:8080/",
          "height": 221
        },
        "outputId": "0bf0c933-cc0c-401d-b6a7-831c25dec9ca"
      },
      "source": [
        "df11['data'] = df11['Complete_Description']\n",
        "df11['target'] = df11['Assignment group']\n",
        "df11 = df11.drop(['Complete_Description','Assignment group'],axis=1)"
      ],
      "execution_count": 58,
      "outputs": [
        {
          "output_type": "stream",
          "text": [
            "/usr/local/lib/python3.6/dist-packages/ipykernel_launcher.py:1: SettingWithCopyWarning: \n",
            "A value is trying to be set on a copy of a slice from a DataFrame.\n",
            "Try using .loc[row_indexer,col_indexer] = value instead\n",
            "\n",
            "See the caveats in the documentation: https://pandas.pydata.org/pandas-docs/stable/user_guide/indexing.html#returning-a-view-versus-a-copy\n",
            "  \"\"\"Entry point for launching an IPython kernel.\n",
            "/usr/local/lib/python3.6/dist-packages/ipykernel_launcher.py:2: SettingWithCopyWarning: \n",
            "A value is trying to be set on a copy of a slice from a DataFrame.\n",
            "Try using .loc[row_indexer,col_indexer] = value instead\n",
            "\n",
            "See the caveats in the documentation: https://pandas.pydata.org/pandas-docs/stable/user_guide/indexing.html#returning-a-view-versus-a-copy\n",
            "  \n"
          ],
          "name": "stderr"
        }
      ]
    },
    {
      "cell_type": "code",
      "metadata": {
        "id": "dS_g9GHBYmhn",
        "colab_type": "code",
        "colab": {
          "base_uri": "https://localhost:8080/",
          "height": 204
        },
        "outputId": "3486c3b9-6f2d-459e-b005-d8d3d17e515b"
      },
      "source": [
        "df11.head()"
      ],
      "execution_count": 59,
      "outputs": [
        {
          "output_type": "execute_result",
          "data": {
            "text/html": [
              "<div>\n",
              "<style scoped>\n",
              "    .dataframe tbody tr th:only-of-type {\n",
              "        vertical-align: middle;\n",
              "    }\n",
              "\n",
              "    .dataframe tbody tr th {\n",
              "        vertical-align: top;\n",
              "    }\n",
              "\n",
              "    .dataframe thead th {\n",
              "        text-align: right;\n",
              "    }\n",
              "</style>\n",
              "<table border=\"1\" class=\"dataframe\">\n",
              "  <thead>\n",
              "    <tr style=\"text-align: right;\">\n",
              "      <th></th>\n",
              "      <th>data</th>\n",
              "      <th>target</th>\n",
              "    </tr>\n",
              "  </thead>\n",
              "  <tbody>\n",
              "    <tr>\n",
              "      <th>0</th>\n",
              "      <td>-verified user details.(employee# &amp; manager na...</td>\n",
              "      <td>GRP_0_2</td>\n",
              "    </tr>\n",
              "    <tr>\n",
              "      <th>1</th>\n",
              "      <td>received from: hmjdrvpb.komuaywn@gmail.com  ...</td>\n",
              "      <td>GRP_0_2</td>\n",
              "    </tr>\n",
              "    <tr>\n",
              "      <th>2</th>\n",
              "      <td>received from: eylqgodm.ybqkwiam@gmail.com  ...</td>\n",
              "      <td>GRP_0_2</td>\n",
              "    </tr>\n",
              "    <tr>\n",
              "      <th>3</th>\n",
              "      <td>unable to access hr_tool page unable to access...</td>\n",
              "      <td>GRP_0_1</td>\n",
              "    </tr>\n",
              "    <tr>\n",
              "      <th>4</th>\n",
              "      <td>skype error skype error</td>\n",
              "      <td>GRP_0_2</td>\n",
              "    </tr>\n",
              "  </tbody>\n",
              "</table>\n",
              "</div>"
            ],
            "text/plain": [
              "                                                data   target\n",
              "0  -verified user details.(employee# & manager na...  GRP_0_2\n",
              "1    received from: hmjdrvpb.komuaywn@gmail.com  ...  GRP_0_2\n",
              "2    received from: eylqgodm.ybqkwiam@gmail.com  ...  GRP_0_2\n",
              "3  unable to access hr_tool page unable to access...  GRP_0_1\n",
              "4                            skype error skype error  GRP_0_2"
            ]
          },
          "metadata": {
            "tags": []
          },
          "execution_count": 59
        }
      ]
    },
    {
      "cell_type": "code",
      "metadata": {
        "id": "MMBOpvCcYcq-",
        "colab_type": "code",
        "colab": {
          "base_uri": "https://localhost:8080/",
          "height": 170
        },
        "outputId": "e098a023-4138-4fd2-db02-1af0e272ebd7"
      },
      "source": [
        "df11['target'].value_counts()"
      ],
      "execution_count": 60,
      "outputs": [
        {
          "output_type": "execute_result",
          "data": {
            "text/plain": [
              "GRP_0_2    1274\n",
              "GRP_0_4     650\n",
              "GRP_0_1     553\n",
              "GRP_0_0     494\n",
              "GRP_0_3     332\n",
              "GRP_0_7     261\n",
              "GRP_0_6     211\n",
              "GRP_0_5     201\n",
              "Name: target, dtype: int64"
            ]
          },
          "metadata": {
            "tags": []
          },
          "execution_count": 60
        }
      ]
    },
    {
      "cell_type": "code",
      "metadata": {
        "id": "Oty1rWunYzXt",
        "colab_type": "code",
        "colab": {
          "base_uri": "https://localhost:8080/",
          "height": 34
        },
        "outputId": "b00ebae8-2a2e-4ec9-e2be-481cbfd43391"
      },
      "source": [
        "df10.shape"
      ],
      "execution_count": 61,
      "outputs": [
        {
          "output_type": "execute_result",
          "data": {
            "text/plain": [
              "(40077, 2)"
            ]
          },
          "metadata": {
            "tags": []
          },
          "execution_count": 61
        }
      ]
    },
    {
      "cell_type": "code",
      "metadata": {
        "id": "jEqpre28Y3iB",
        "colab_type": "code",
        "colab": {
          "base_uri": "https://localhost:8080/",
          "height": 34
        },
        "outputId": "72421c3c-df32-4cd5-d273-b55e923686e6"
      },
      "source": [
        "df11.shape"
      ],
      "execution_count": 62,
      "outputs": [
        {
          "output_type": "execute_result",
          "data": {
            "text/plain": [
              "(3976, 2)"
            ]
          },
          "metadata": {
            "tags": []
          },
          "execution_count": 62
        }
      ]
    },
    {
      "cell_type": "code",
      "metadata": {
        "id": "NYIY8UZLYpSK",
        "colab_type": "code",
        "colab": {}
      },
      "source": [
        "df12 = pd.concat([df10,df11])"
      ],
      "execution_count": 63,
      "outputs": []
    },
    {
      "cell_type": "code",
      "metadata": {
        "id": "YF2feBfOY-W5",
        "colab_type": "code",
        "colab": {
          "base_uri": "https://localhost:8080/",
          "height": 34
        },
        "outputId": "11df5d89-066e-415e-9ae3-dabd924e8260"
      },
      "source": [
        "df12.shape"
      ],
      "execution_count": 64,
      "outputs": [
        {
          "output_type": "execute_result",
          "data": {
            "text/plain": [
              "(44053, 2)"
            ]
          },
          "metadata": {
            "tags": []
          },
          "execution_count": 64
        }
      ]
    },
    {
      "cell_type": "code",
      "metadata": {
        "id": "V-d3OZlyY_tM",
        "colab_type": "code",
        "colab": {
          "base_uri": "https://localhost:8080/",
          "height": 204
        },
        "outputId": "42171d4f-b2f6-48f8-b5e9-f1372c02662b"
      },
      "source": [
        "df12.head()"
      ],
      "execution_count": 65,
      "outputs": [
        {
          "output_type": "execute_result",
          "data": {
            "text/html": [
              "<div>\n",
              "<style scoped>\n",
              "    .dataframe tbody tr th:only-of-type {\n",
              "        vertical-align: middle;\n",
              "    }\n",
              "\n",
              "    .dataframe tbody tr th {\n",
              "        vertical-align: top;\n",
              "    }\n",
              "\n",
              "    .dataframe thead th {\n",
              "        text-align: right;\n",
              "    }\n",
              "</style>\n",
              "<table border=\"1\" class=\"dataframe\">\n",
              "  <thead>\n",
              "    <tr style=\"text-align: right;\">\n",
              "      <th></th>\n",
              "      <th>data</th>\n",
              "      <th>target</th>\n",
              "    </tr>\n",
              "  </thead>\n",
              "  <tbody>\n",
              "    <tr>\n",
              "      <th>0</th>\n",
              "      <td>event: critical:HostName_221.company.com the v...</td>\n",
              "      <td>GRP_1</td>\n",
              "    </tr>\n",
              "    <tr>\n",
              "      <th>1</th>\n",
              "      <td>when undocking pc , screen will not come back ...</td>\n",
              "      <td>GRP_3</td>\n",
              "    </tr>\n",
              "    <tr>\n",
              "      <th>2</th>\n",
              "      <td>received from: emailaddress  gentles,  i hav...</td>\n",
              "      <td>GRP_4</td>\n",
              "    </tr>\n",
              "    <tr>\n",
              "      <th>3</th>\n",
              "      <td>received from: emailaddress  hi -  the print...</td>\n",
              "      <td>GRP_5</td>\n",
              "    </tr>\n",
              "    <tr>\n",
              "      <th>4</th>\n",
              "      <td>received from: emailaddress  job Job_1424 fail...</td>\n",
              "      <td>GRP_6</td>\n",
              "    </tr>\n",
              "  </tbody>\n",
              "</table>\n",
              "</div>"
            ],
            "text/plain": [
              "                                                data target\n",
              "0  event: critical:HostName_221.company.com the v...  GRP_1\n",
              "1  when undocking pc , screen will not come back ...  GRP_3\n",
              "2    received from: emailaddress  gentles,  i hav...  GRP_4\n",
              "3    received from: emailaddress  hi -  the print...  GRP_5\n",
              "4  received from: emailaddress  job Job_1424 fail...  GRP_6"
            ]
          },
          "metadata": {
            "tags": []
          },
          "execution_count": 65
        }
      ]
    },
    {
      "cell_type": "code",
      "metadata": {
        "id": "KCEsrSaZbeA4",
        "colab_type": "code",
        "colab": {
          "base_uri": "https://localhost:8080/",
          "height": 102
        },
        "outputId": "30b990b0-e78c-450a-c2d8-84191df77584"
      },
      "source": [
        "# label_encoder object knows how to understand word labels. \n",
        "label_encoder = preprocessing.LabelEncoder() \n",
        "  \n",
        "# Encode labels in column 'species'. \n",
        "df12['target'] = label_encoder.fit_transform(df12['target']) \n",
        "  \n",
        "df12['target'].unique() "
      ],
      "execution_count": 66,
      "outputs": [
        {
          "output_type": "execute_result",
          "data": {
            "text/plain": [
              "array([ 8, 30, 39, 50, 59, 65, 67, 68,  9, 10, 11, 12, 13, 14, 15, 16, 17,\n",
              "       18, 19, 20, 21, 22, 23, 24, 26, 27, 28, 29, 31, 32, 34, 25, 35, 36,\n",
              "       37, 38, 40, 41, 42, 43, 44, 45, 46, 47, 48, 49, 51, 52, 53, 54, 56,\n",
              "       57, 58, 60, 33, 61, 62, 63, 64, 55, 66,  2,  1,  0,  4,  3,  7,  6,\n",
              "        5])"
            ]
          },
          "metadata": {
            "tags": []
          },
          "execution_count": 66
        }
      ]
    },
    {
      "cell_type": "code",
      "metadata": {
        "id": "8qD-HWLlZXXH",
        "colab_type": "code",
        "colab": {}
      },
      "source": [
        "y = df12['target']"
      ],
      "execution_count": 67,
      "outputs": []
    },
    {
      "cell_type": "code",
      "metadata": {
        "id": "vqmU-9DoZcaf",
        "colab_type": "code",
        "colab": {
          "base_uri": "https://localhost:8080/",
          "height": 34
        },
        "outputId": "8590b959-93f8-4748-a7d5-9b9639f37e5b"
      },
      "source": [
        "y.shape"
      ],
      "execution_count": 68,
      "outputs": [
        {
          "output_type": "execute_result",
          "data": {
            "text/plain": [
              "(44053,)"
            ]
          },
          "metadata": {
            "tags": []
          },
          "execution_count": 68
        }
      ]
    },
    {
      "cell_type": "code",
      "metadata": {
        "id": "Xwcgb3ckZe66",
        "colab_type": "code",
        "colab": {
          "base_uri": "https://localhost:8080/",
          "height": 54
        },
        "outputId": "1f92083b-7182-4803-df92-324097bb2036"
      },
      "source": [
        "counter = Counter(y)\n",
        "print(counter)"
      ],
      "execution_count": 69,
      "outputs": [
        {
          "output_type": "stream",
          "text": [
            "Counter({2: 1274, 8: 657, 30: 657, 39: 657, 50: 657, 59: 657, 65: 657, 67: 657, 68: 657, 9: 657, 10: 657, 11: 657, 12: 657, 13: 657, 14: 657, 15: 657, 16: 657, 17: 657, 18: 657, 19: 657, 20: 657, 21: 657, 22: 657, 23: 657, 24: 657, 26: 657, 27: 657, 28: 657, 29: 657, 31: 657, 32: 657, 34: 657, 25: 657, 35: 657, 36: 657, 37: 657, 38: 657, 40: 657, 41: 657, 42: 657, 43: 657, 44: 657, 45: 657, 46: 657, 47: 657, 48: 657, 49: 657, 51: 657, 52: 657, 53: 657, 54: 657, 56: 657, 57: 657, 58: 657, 60: 657, 33: 657, 61: 657, 62: 657, 63: 657, 64: 657, 55: 657, 66: 657, 4: 650, 1: 553, 0: 494, 3: 332, 7: 261, 6: 211, 5: 201})\n"
          ],
          "name": "stdout"
        }
      ]
    },
    {
      "cell_type": "code",
      "metadata": {
        "id": "hVpHGBY_dqC_",
        "colab_type": "code",
        "colab": {}
      },
      "source": [
        "MAX_LENGTH = 300\n",
        "tokenizer = Tokenizer()\n",
        "tokenizer.fit_on_texts(df12.data.values)\n",
        "post_seq = tokenizer.texts_to_sequences(df12.data.values)\n",
        "post_seq_padded = pad_sequences(post_seq, maxlen=MAX_LENGTH)"
      ],
      "execution_count": 70,
      "outputs": []
    },
    {
      "cell_type": "code",
      "metadata": {
        "id": "GispBHnsZj_W",
        "colab_type": "code",
        "colab": {}
      },
      "source": [
        "X_train, X_test, y_train, y_test = train_test_split(post_seq_padded, y, test_size=0.3, random_state=1)"
      ],
      "execution_count": 71,
      "outputs": []
    },
    {
      "cell_type": "code",
      "metadata": {
        "id": "FnfpkROsaHAd",
        "colab_type": "code",
        "colab": {
          "base_uri": "https://localhost:8080/",
          "height": 34
        },
        "outputId": "b38720cd-a4c7-474f-a5c2-8866b89831df"
      },
      "source": [
        "X_train.shape,X_test.shape"
      ],
      "execution_count": 72,
      "outputs": [
        {
          "output_type": "execute_result",
          "data": {
            "text/plain": [
              "((30837, 300), (13216, 300))"
            ]
          },
          "metadata": {
            "tags": []
          },
          "execution_count": 72
        }
      ]
    },
    {
      "cell_type": "code",
      "metadata": {
        "id": "7o4KKK-_eLNy",
        "colab_type": "code",
        "colab": {
          "base_uri": "https://localhost:8080/",
          "height": 34
        },
        "outputId": "eb281741-874e-4d83-831d-72b53881b216"
      },
      "source": [
        "y_train.shape, y_test.shape"
      ],
      "execution_count": 73,
      "outputs": [
        {
          "output_type": "execute_result",
          "data": {
            "text/plain": [
              "((30837,), (13216,))"
            ]
          },
          "metadata": {
            "tags": []
          },
          "execution_count": 73
        }
      ]
    },
    {
      "cell_type": "code",
      "metadata": {
        "id": "-_jtvSIRaKoZ",
        "colab_type": "code",
        "colab": {}
      },
      "source": [
        "vocab_size = len(tokenizer.word_index) + 1"
      ],
      "execution_count": 74,
      "outputs": []
    },
    {
      "cell_type": "code",
      "metadata": {
        "id": "Exj7tcCQhNAf",
        "colab_type": "code",
        "colab": {
          "base_uri": "https://localhost:8080/",
          "height": 34
        },
        "outputId": "2db791bd-7c2e-461b-b228-9a5ec67fd21c"
      },
      "source": [
        "vocab_size"
      ],
      "execution_count": 75,
      "outputs": [
        {
          "output_type": "execute_result",
          "data": {
            "text/plain": [
              "17477"
            ]
          },
          "metadata": {
            "tags": []
          },
          "execution_count": 75
        }
      ]
    },
    {
      "cell_type": "markdown",
      "metadata": {
        "id": "Bg7Rw9LVe5iJ",
        "colab_type": "text"
      },
      "source": [
        "Deeplearning : RNN\n",
        "A recurrent neural network (RNN) is a class of artificial neural network where connections between units form a directed graph along a sequence. This allows it to exhibit dynamic temporal behavior for a time sequence."
      ]
    },
    {
      "cell_type": "code",
      "metadata": {
        "id": "mqdwkOWsebYd",
        "colab_type": "code",
        "colab": {}
      },
      "source": [
        "# inputs = Input(shape=(MAX_LENGTH, ))\n",
        "# embedding_layer = Embedding(vocab_size,\n",
        "#                             128,\n",
        "#                             input_length=MAX_LENGTH)(inputs)\n",
        "\n",
        "# x = LSTM(64)(embedding_layer)\n",
        "# x = Dense(32, activation='relu')(x)\n",
        "# predictions = Dense(num_class, activation='softmax')(x)\n",
        "# model = Model(inputs=[inputs], outputs=predictions)\n",
        "# model.compile(optimizer='adam',\n",
        "#               loss='categorical_crossentropy',\n",
        "#               metrics=['acc'])\n",
        "\n",
        "# model.summary()\n",
        "# filepath =\"weights.hdf5\"\n",
        "# checkpointer = ModelCheckpoint(filepath, monitor='val_acc', verbose=1, save_best_only=True, mode='max')\n",
        "# history = model.fit([X_train], batch_size=64, y=to_categorical(y_train), verbose=1, validation_split=0.3, \n",
        "#           shuffle=True, epochs=6, callbacks=[checkpointer])"
      ],
      "execution_count": 76,
      "outputs": []
    },
    {
      "cell_type": "code",
      "metadata": {
        "id": "MPPhKXwdfSLU",
        "colab_type": "code",
        "colab": {}
      },
      "source": [
        "# predicted = model.predict(X_test)\n",
        "# predicted = np.argmax(predicted, axis=1)\n",
        "# accuracy_score(y_test, predicted)"
      ],
      "execution_count": 77,
      "outputs": []
    },
    {
      "cell_type": "code",
      "metadata": {
        "id": "jmtCzESWfyhY",
        "colab_type": "code",
        "colab": {}
      },
      "source": [
        "inputs = Input(shape=(MAX_LENGTH, ))\n",
        "embedding_layer = Embedding(vocab_size,\n",
        "                            128,\n",
        "                            input_length=MAX_LENGTH)(inputs)\n",
        "num_class = len(np.unique(df12['target'].values))"
      ],
      "execution_count": 78,
      "outputs": []
    },
    {
      "cell_type": "code",
      "metadata": {
        "id": "V9i6ZXP8eYrv",
        "colab_type": "code",
        "colab": {}
      },
      "source": [
        "max_features = vocab_size  \n",
        "maxlen = 200\n",
        "seq_output_size = 128\n",
        "filters = 64\n",
        "kernel_size = 5\n",
        "pool_size = 4\n",
        "activation_func = 'sigmoid'"
      ],
      "execution_count": 100,
      "outputs": []
    },
    {
      "cell_type": "code",
      "metadata": {
        "id": "1uxrM3-Yehtf",
        "colab_type": "code",
        "colab": {}
      },
      "source": [
        "# Bi directional LSTM\n",
        "# Input for variable-length sequences of integers\n",
        "inputs = keras.Input(shape=(None,), dtype=\"int32\")\n",
        "# Embed each integer in a 128-dimensional vector\n",
        "x = layers.Embedding(max_features, 128)(inputs)\n",
        "x = layers.Dropout(0.2)(x)\n",
        "# Add 2 bidirectional LSTMs\n",
        "x = layers.Bidirectional(layers.LSTM(64, return_sequences=True))(x)\n",
        "x = layers.Bidirectional(layers.LSTM(64))(x)\n",
        "x = layers.Dropout(0.2)(x)\n",
        "x = layers.Dense(32, activation='relu')(x)\n",
        "outputs = layers.Dense(num_class, activation='softmax')(x)\n",
        "# Add a classifier\n",
        "model = keras.Model(inputs, outputs)\n",
        "model.summary()"
      ],
      "execution_count": 80,
      "outputs": []
    },
    {
      "cell_type": "code",
      "metadata": {
        "id": "Hfcwe9VvfD0o",
        "colab_type": "code",
        "colab": {}
      },
      "source": [
        "print(len(X_train), \"Training sequences\")\n",
        "print(len(X_test), \"Validation sequences\")"
      ],
      "execution_count": 81,
      "outputs": []
    },
    {
      "cell_type": "code",
      "metadata": {
        "id": "1Q917DsefEPH",
        "colab_type": "code",
        "colab": {}
      },
      "source": [
        "#model.compile(\"adam\", \"binary_crossentropy\", metrics=[\"accuracy\"])\n",
        "model.compile(optimizer='adam',\n",
        "              loss='sparse_categorical_crossentropy',\n",
        "              metrics=['acc'])\n",
        "model.fit(X_train, y_train, batch_size=20, epochs=7, validation_data=(X_test, y_test))"
      ],
      "execution_count": 82,
      "outputs": []
    },
    {
      "cell_type": "code",
      "metadata": {
        "id": "X1_zvWjIZOQc",
        "colab_type": "code",
        "colab": {}
      },
      "source": [
        "predicted = model.predict(X_test)\n",
        "predicted = np.argmax(predicted, axis=1)\n",
        "accuracy_score(y_test, predicted)"
      ],
      "execution_count": 83,
      "outputs": []
    },
    {
      "cell_type": "code",
      "metadata": {
        "id": "gqbtSi3baHfl",
        "colab_type": "code",
        "colab": {
          "base_uri": "https://localhost:8080/",
          "height": 425
        },
        "outputId": "ff9cbdf7-0960-4b81-d7d6-9540df274759"
      },
      "source": [
        "# GRU \n",
        "# Input for variable-length sequences of integers\n",
        "inputs = keras.Input(shape=(None,), dtype=\"int32\")\n",
        "# Embed each integer in a 128-dimensional vector\n",
        "# x = layers.Add(Sequential())(inputs)\n",
        "x = layers.Embedding(max_features, 128)(inputs)\n",
        "x = layers.Dropout(0.2)(x)\n",
        "x = layers.Conv1D(filters,\n",
        "                 kernel_size,\n",
        "                 padding='valid',\n",
        "                 activation='relu',\n",
        "                 strides=1)(x)\n",
        "x = layers.MaxPooling1D(pool_size=pool_size)(x)\n",
        "# Add GRU\n",
        "x = layers.GRU(seq_output_size, dropout=0.2, recurrent_dropout=0.2)(x)\n",
        "x = layers.Dense(1)(x)\n",
        "# outputs = layers.Activation('sigmoid')(x)\n",
        "outputs = layers.Dense(num_class, activation='softmax')(x)\n",
        "# Add a classifier\n",
        "gru_model = keras.Model(inputs, outputs)\n",
        "gru_model.summary()"
      ],
      "execution_count": 107,
      "outputs": [
        {
          "output_type": "stream",
          "text": [
            "Model: \"model_6\"\n",
            "_________________________________________________________________\n",
            "Layer (type)                 Output Shape              Param #   \n",
            "=================================================================\n",
            "input_13 (InputLayer)        (None, None)              0         \n",
            "_________________________________________________________________\n",
            "embedding_11 (Embedding)     (None, None, 128)         2237056   \n",
            "_________________________________________________________________\n",
            "dropout_11 (Dropout)         (None, None, 128)         0         \n",
            "_________________________________________________________________\n",
            "conv1d_5 (Conv1D)            (None, None, 64)          41024     \n",
            "_________________________________________________________________\n",
            "max_pooling1d_4 (MaxPooling1 (None, None, 64)          0         \n",
            "_________________________________________________________________\n",
            "gru_6 (GRU)                  (None, 128)               74112     \n",
            "_________________________________________________________________\n",
            "dense_8 (Dense)              (None, 1)                 129       \n",
            "_________________________________________________________________\n",
            "dense_9 (Dense)              (None, 69)                138       \n",
            "=================================================================\n",
            "Total params: 2,352,459\n",
            "Trainable params: 2,352,459\n",
            "Non-trainable params: 0\n",
            "_________________________________________________________________\n"
          ],
          "name": "stdout"
        }
      ]
    },
    {
      "cell_type": "code",
      "metadata": {
        "id": "814BgZLQcoYd",
        "colab_type": "code",
        "colab": {
          "base_uri": "https://localhost:8080/",
          "height": 343
        },
        "outputId": "601bf5b9-318f-40e1-e5c1-4eb6a46741b2"
      },
      "source": [
        "gru_model.compile(optimizer='adam',\n",
        "              loss='sparse_categorical_crossentropy',\n",
        "              metrics=['acc'])\n",
        "gru_model.fit(X_train, y_train, batch_size=20, epochs=7, validation_data=(X_test, y_test))"
      ],
      "execution_count": 108,
      "outputs": [
        {
          "output_type": "stream",
          "text": [
            "/usr/local/lib/python3.6/dist-packages/tensorflow/python/framework/indexed_slices.py:434: UserWarning: Converting sparse IndexedSlices to a dense Tensor of unknown shape. This may consume a large amount of memory.\n",
            "  \"Converting sparse IndexedSlices to a dense Tensor of unknown shape. \"\n"
          ],
          "name": "stderr"
        },
        {
          "output_type": "stream",
          "text": [
            "Train on 30837 samples, validate on 13216 samples\n",
            "Epoch 1/7\n",
            "30837/30837 [==============================] - 160s 5ms/step - loss: 3.7682 - acc: 0.0404 - val_loss: 3.4362 - val_acc: 0.0465\n",
            "Epoch 2/7\n",
            "30837/30837 [==============================] - 163s 5ms/step - loss: 3.3380 - acc: 0.0658 - val_loss: 3.2529 - val_acc: 0.0656\n",
            "Epoch 3/7\n",
            "30837/30837 [==============================] - 161s 5ms/step - loss: 3.1589 - acc: 0.0899 - val_loss: 3.1389 - val_acc: 0.1088\n",
            "Epoch 4/7\n",
            "30837/30837 [==============================] - 163s 5ms/step - loss: 3.1033 - acc: 0.1025 - val_loss: 3.0641 - val_acc: 0.0932\n",
            "Epoch 5/7\n",
            "30837/30837 [==============================] - 161s 5ms/step - loss: 86.6629 - acc: 0.1107 - val_loss: 3.1609 - val_acc: 0.0982\n",
            "Epoch 6/7\n",
            "30837/30837 [==============================] - 161s 5ms/step - loss: 3.0372 - acc: 0.1073 - val_loss: 2.9866 - val_acc: 0.1348\n",
            "Epoch 7/7\n",
            "30837/30837 [==============================] - 161s 5ms/step - loss: 2.9408 - acc: 0.1209 - val_loss: 2.9378 - val_acc: 0.1396\n"
          ],
          "name": "stdout"
        },
        {
          "output_type": "execute_result",
          "data": {
            "text/plain": [
              "<keras.callbacks.callbacks.History at 0x7f4c3102b198>"
            ]
          },
          "metadata": {
            "tags": []
          },
          "execution_count": 108
        }
      ]
    },
    {
      "cell_type": "code",
      "metadata": {
        "id": "9QzsrQFwnLuY",
        "colab_type": "code",
        "colab": {
          "base_uri": "https://localhost:8080/",
          "height": 34
        },
        "outputId": "99cb6697-67ed-4c63-9dd1-b1e5d45f27c0"
      },
      "source": [
        "predicted = gru_model.predict(X_test)\n",
        "predicted = np.argmax(predicted, axis=1)\n",
        "accuracy_score(y_test, predicted)"
      ],
      "execution_count": 110,
      "outputs": [
        {
          "output_type": "execute_result",
          "data": {
            "text/plain": [
              "0.13960351089588377"
            ]
          },
          "metadata": {
            "tags": []
          },
          "execution_count": 110
        }
      ]
    },
    {
      "cell_type": "code",
      "metadata": {
        "id": "cwPZpkXPnP67",
        "colab_type": "code",
        "colab": {}
      },
      "source": [
        ""
      ],
      "execution_count": null,
      "outputs": []
    }
  ]
}