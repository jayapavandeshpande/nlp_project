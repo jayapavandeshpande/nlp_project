{
 "cells": [
  {
   "cell_type": "code",
   "execution_count": 110,
   "metadata": {},
   "outputs": [],
   "source": [
    "import pandas as pd\n",
    "import re \n",
    "import numpy as np"
   ]
  },
  {
   "cell_type": "code",
   "execution_count": 111,
   "metadata": {},
   "outputs": [],
   "source": [
    "df = pd.DataFrame()\n",
    "df2 = pd.read_csv(\"Soum_data.csv\", encoding='ISO-8859-1')"
   ]
  },
  {
   "cell_type": "code",
   "execution_count": 112,
   "metadata": {},
   "outputs": [
    {
     "data": {
      "text/html": [
       "<div>\n",
       "<style scoped>\n",
       "    .dataframe tbody tr th:only-of-type {\n",
       "        vertical-align: middle;\n",
       "    }\n",
       "\n",
       "    .dataframe tbody tr th {\n",
       "        vertical-align: top;\n",
       "    }\n",
       "\n",
       "    .dataframe thead th {\n",
       "        text-align: right;\n",
       "    }\n",
       "</style>\n",
       "<table border=\"1\" class=\"dataframe\">\n",
       "  <thead>\n",
       "    <tr style=\"text-align: right;\">\n",
       "      <th></th>\n",
       "      <th>Caller</th>\n",
       "      <th>Assignment group</th>\n",
       "      <th>Short description</th>\n",
       "      <th>Description</th>\n",
       "    </tr>\n",
       "  </thead>\n",
       "  <tbody>\n",
       "    <tr>\n",
       "      <th>0</th>\n",
       "      <td>spxjnwir pjlcoqds</td>\n",
       "      <td>GRP_0</td>\n",
       "      <td>login issue</td>\n",
       "      <td>-verified user details.(employee# &amp; manager na...</td>\n",
       "    </tr>\n",
       "    <tr>\n",
       "      <th>1</th>\n",
       "      <td>hmjdrvpb komuaywn</td>\n",
       "      <td>GRP_0</td>\n",
       "      <td>outlook</td>\n",
       "      <td>received from: hmjdrvpb.komuaywn@gmail.com  ...</td>\n",
       "    </tr>\n",
       "    <tr>\n",
       "      <th>2</th>\n",
       "      <td>eylqgodm ybqkwiam</td>\n",
       "      <td>GRP_0</td>\n",
       "      <td>cant log in to vpn</td>\n",
       "      <td>received from: eylqgodm.ybqkwiam@gmail.com  ...</td>\n",
       "    </tr>\n",
       "    <tr>\n",
       "      <th>3</th>\n",
       "      <td>xbkucsvz gcpydteq</td>\n",
       "      <td>GRP_0</td>\n",
       "      <td>unable to access hr_tool page</td>\n",
       "      <td>unable to access hr_tool page</td>\n",
       "    </tr>\n",
       "    <tr>\n",
       "      <th>4</th>\n",
       "      <td>owlgqjme qhcozdfx</td>\n",
       "      <td>GRP_0</td>\n",
       "      <td>skype error</td>\n",
       "      <td>skype error</td>\n",
       "    </tr>\n",
       "  </tbody>\n",
       "</table>\n",
       "</div>"
      ],
      "text/plain": [
       "              Caller Assignment group              Short description  \\\n",
       "0  spxjnwir pjlcoqds            GRP_0                    login issue   \n",
       "1  hmjdrvpb komuaywn            GRP_0                        outlook   \n",
       "2  eylqgodm ybqkwiam            GRP_0             cant log in to vpn   \n",
       "3  xbkucsvz gcpydteq            GRP_0  unable to access hr_tool page   \n",
       "4  owlgqjme qhcozdfx            GRP_0                    skype error   \n",
       "\n",
       "                                         Description  \n",
       "0  -verified user details.(employee# & manager na...  \n",
       "1    received from: hmjdrvpb.komuaywn@gmail.com  ...  \n",
       "2    received from: eylqgodm.ybqkwiam@gmail.com  ...  \n",
       "3                      unable to access hr_tool page  \n",
       "4                                        skype error  "
      ]
     },
     "execution_count": 112,
     "metadata": {},
     "output_type": "execute_result"
    }
   ],
   "source": [
    "df2.head()"
   ]
  },
  {
   "cell_type": "code",
   "execution_count": 113,
   "metadata": {},
   "outputs": [],
   "source": [
    "df['ShortDescription'] = df2['Short description']\n",
    "df['Description'] = df2['Description']\n",
    "df['Assignment_group'] = df2['Assignment group']\n",
    "df['Caller'] = df2['Caller']"
   ]
  },
  {
   "cell_type": "code",
   "execution_count": 114,
   "metadata": {},
   "outputs": [
    {
     "data": {
      "text/html": [
       "<div>\n",
       "<style scoped>\n",
       "    .dataframe tbody tr th:only-of-type {\n",
       "        vertical-align: middle;\n",
       "    }\n",
       "\n",
       "    .dataframe tbody tr th {\n",
       "        vertical-align: top;\n",
       "    }\n",
       "\n",
       "    .dataframe thead th {\n",
       "        text-align: right;\n",
       "    }\n",
       "</style>\n",
       "<table border=\"1\" class=\"dataframe\">\n",
       "  <thead>\n",
       "    <tr style=\"text-align: right;\">\n",
       "      <th></th>\n",
       "      <th>ShortDescription</th>\n",
       "      <th>Description</th>\n",
       "      <th>Assignment_group</th>\n",
       "      <th>Caller</th>\n",
       "    </tr>\n",
       "  </thead>\n",
       "  <tbody>\n",
       "    <tr>\n",
       "      <th>0</th>\n",
       "      <td>login issue</td>\n",
       "      <td>-verified user details.(employee# &amp; manager na...</td>\n",
       "      <td>GRP_0</td>\n",
       "      <td>spxjnwir pjlcoqds</td>\n",
       "    </tr>\n",
       "    <tr>\n",
       "      <th>1</th>\n",
       "      <td>outlook</td>\n",
       "      <td>received from: hmjdrvpb.komuaywn@gmail.com  ...</td>\n",
       "      <td>GRP_0</td>\n",
       "      <td>hmjdrvpb komuaywn</td>\n",
       "    </tr>\n",
       "    <tr>\n",
       "      <th>2</th>\n",
       "      <td>cant log in to vpn</td>\n",
       "      <td>received from: eylqgodm.ybqkwiam@gmail.com  ...</td>\n",
       "      <td>GRP_0</td>\n",
       "      <td>eylqgodm ybqkwiam</td>\n",
       "    </tr>\n",
       "    <tr>\n",
       "      <th>3</th>\n",
       "      <td>unable to access hr_tool page</td>\n",
       "      <td>unable to access hr_tool page</td>\n",
       "      <td>GRP_0</td>\n",
       "      <td>xbkucsvz gcpydteq</td>\n",
       "    </tr>\n",
       "    <tr>\n",
       "      <th>4</th>\n",
       "      <td>skype error</td>\n",
       "      <td>skype error</td>\n",
       "      <td>GRP_0</td>\n",
       "      <td>owlgqjme qhcozdfx</td>\n",
       "    </tr>\n",
       "  </tbody>\n",
       "</table>\n",
       "</div>"
      ],
      "text/plain": [
       "                ShortDescription  \\\n",
       "0                    login issue   \n",
       "1                        outlook   \n",
       "2             cant log in to vpn   \n",
       "3  unable to access hr_tool page   \n",
       "4                    skype error   \n",
       "\n",
       "                                         Description Assignment_group  \\\n",
       "0  -verified user details.(employee# & manager na...            GRP_0   \n",
       "1    received from: hmjdrvpb.komuaywn@gmail.com  ...            GRP_0   \n",
       "2    received from: eylqgodm.ybqkwiam@gmail.com  ...            GRP_0   \n",
       "3                      unable to access hr_tool page            GRP_0   \n",
       "4                                        skype error            GRP_0   \n",
       "\n",
       "              Caller  \n",
       "0  spxjnwir pjlcoqds  \n",
       "1  hmjdrvpb komuaywn  \n",
       "2  eylqgodm ybqkwiam  \n",
       "3  xbkucsvz gcpydteq  \n",
       "4  owlgqjme qhcozdfx  "
      ]
     },
     "execution_count": 114,
     "metadata": {},
     "output_type": "execute_result"
    }
   ],
   "source": [
    "df.head()"
   ]
  },
  {
   "cell_type": "code",
   "execution_count": 115,
   "metadata": {},
   "outputs": [],
   "source": [
    "def replaceEmailIds(dfColumn):\n",
    "    newDF = pd.DataFrame()\n",
    "    newDF['datacolumn'] = dfColumn\n",
    "    for i, row in newDF.iterrows():\n",
    "        #print(i)\n",
    "        if pd.notna(newDF.at[i,'datacolumn']):\n",
    "            if not re.findall('^[0-9]*$',str(newDF.at[i,'datacolumn'])):\n",
    "                lstEmails = re.findall('\\S+@\\S+', newDF.at[i,'datacolumn'])\n",
    "                #print(lstEmails)\n",
    "                if lstEmails:\n",
    "                    for email in lstEmails: \n",
    "                        newDF['datacolumn'][i] = newDF['datacolumn'][i].replace(email, \"emailaddress\")\n",
    "                        #print(newDF['datacolumn'][i])\n",
    "    return newDF['datacolumn']"
   ]
  },
  {
   "cell_type": "code",
   "execution_count": 116,
   "metadata": {},
   "outputs": [],
   "source": [
    "# from utils.visualization import *\n",
    "# from utils.datapreprocessing import *"
   ]
  },
  {
   "cell_type": "code",
   "execution_count": 117,
   "metadata": {},
   "outputs": [],
   "source": [
    "df['ShortDescription'] = replaceEmailIds(df['ShortDescription'])\n",
    "df['Description'] = replaceEmailIds(df['Description'])"
   ]
  },
  {
   "cell_type": "code",
   "execution_count": 118,
   "metadata": {},
   "outputs": [
    {
     "data": {
      "text/html": [
       "<div>\n",
       "<style scoped>\n",
       "    .dataframe tbody tr th:only-of-type {\n",
       "        vertical-align: middle;\n",
       "    }\n",
       "\n",
       "    .dataframe tbody tr th {\n",
       "        vertical-align: top;\n",
       "    }\n",
       "\n",
       "    .dataframe thead th {\n",
       "        text-align: right;\n",
       "    }\n",
       "</style>\n",
       "<table border=\"1\" class=\"dataframe\">\n",
       "  <thead>\n",
       "    <tr style=\"text-align: right;\">\n",
       "      <th></th>\n",
       "      <th>ShortDescription</th>\n",
       "      <th>Description</th>\n",
       "      <th>Assignment_group</th>\n",
       "      <th>Caller</th>\n",
       "    </tr>\n",
       "  </thead>\n",
       "  <tbody>\n",
       "    <tr>\n",
       "      <th>0</th>\n",
       "      <td>login issue</td>\n",
       "      <td>-verified user details.(employee# &amp; manager na...</td>\n",
       "      <td>GRP_0</td>\n",
       "      <td>spxjnwir pjlcoqds</td>\n",
       "    </tr>\n",
       "    <tr>\n",
       "      <th>1</th>\n",
       "      <td>outlook</td>\n",
       "      <td>received from: emailaddress  hello team   my...</td>\n",
       "      <td>GRP_0</td>\n",
       "      <td>hmjdrvpb komuaywn</td>\n",
       "    </tr>\n",
       "    <tr>\n",
       "      <th>2</th>\n",
       "      <td>cant log in to vpn</td>\n",
       "      <td>received from: emailaddress  hi  i cannot lo...</td>\n",
       "      <td>GRP_0</td>\n",
       "      <td>eylqgodm ybqkwiam</td>\n",
       "    </tr>\n",
       "    <tr>\n",
       "      <th>3</th>\n",
       "      <td>unable to access hr_tool page</td>\n",
       "      <td>unable to access hr_tool page</td>\n",
       "      <td>GRP_0</td>\n",
       "      <td>xbkucsvz gcpydteq</td>\n",
       "    </tr>\n",
       "    <tr>\n",
       "      <th>4</th>\n",
       "      <td>skype error</td>\n",
       "      <td>skype error</td>\n",
       "      <td>GRP_0</td>\n",
       "      <td>owlgqjme qhcozdfx</td>\n",
       "    </tr>\n",
       "  </tbody>\n",
       "</table>\n",
       "</div>"
      ],
      "text/plain": [
       "                ShortDescription  \\\n",
       "0                    login issue   \n",
       "1                        outlook   \n",
       "2             cant log in to vpn   \n",
       "3  unable to access hr_tool page   \n",
       "4                    skype error   \n",
       "\n",
       "                                         Description Assignment_group  \\\n",
       "0  -verified user details.(employee# & manager na...            GRP_0   \n",
       "1    received from: emailaddress  hello team   my...            GRP_0   \n",
       "2    received from: emailaddress  hi  i cannot lo...            GRP_0   \n",
       "3                      unable to access hr_tool page            GRP_0   \n",
       "4                                        skype error            GRP_0   \n",
       "\n",
       "              Caller  \n",
       "0  spxjnwir pjlcoqds  \n",
       "1  hmjdrvpb komuaywn  \n",
       "2  eylqgodm ybqkwiam  \n",
       "3  xbkucsvz gcpydteq  \n",
       "4  owlgqjme qhcozdfx  "
      ]
     },
     "execution_count": 118,
     "metadata": {},
     "output_type": "execute_result"
    }
   ],
   "source": [
    "df.head()"
   ]
  },
  {
   "cell_type": "code",
   "execution_count": 119,
   "metadata": {},
   "outputs": [],
   "source": [
    "df_rules = pd.read_csv(\"Rule_matrix.csv\")"
   ]
  },
  {
   "cell_type": "code",
   "execution_count": 120,
   "metadata": {},
   "outputs": [
    {
     "data": {
      "text/plain": [
       "(36, 7)"
      ]
     },
     "execution_count": 120,
     "metadata": {},
     "output_type": "execute_result"
    }
   ],
   "source": [
    "df_rules.shape"
   ]
  },
  {
   "cell_type": "code",
   "execution_count": 121,
   "metadata": {},
   "outputs": [
    {
     "data": {
      "text/html": [
       "<div>\n",
       "<style scoped>\n",
       "    .dataframe tbody tr th:only-of-type {\n",
       "        vertical-align: middle;\n",
       "    }\n",
       "\n",
       "    .dataframe tbody tr th {\n",
       "        vertical-align: top;\n",
       "    }\n",
       "\n",
       "    .dataframe thead th {\n",
       "        text-align: right;\n",
       "    }\n",
       "</style>\n",
       "<table border=\"1\" class=\"dataframe\">\n",
       "  <thead>\n",
       "    <tr style=\"text-align: right;\">\n",
       "      <th></th>\n",
       "      <th>S no</th>\n",
       "      <th>Short Desc Rule</th>\n",
       "      <th>Short Dec Keyword</th>\n",
       "      <th>Desc Rule</th>\n",
       "      <th>Dec keyword</th>\n",
       "      <th>User</th>\n",
       "      <th>Group</th>\n",
       "    </tr>\n",
       "  </thead>\n",
       "  <tbody>\n",
       "    <tr>\n",
       "      <th>0</th>\n",
       "      <td>2</td>\n",
       "      <td>begins with</td>\n",
       "      <td>erp access issue</td>\n",
       "      <td>begins with</td>\n",
       "      <td>system (SID_</td>\n",
       "      <td>NaN</td>\n",
       "      <td>GRP_2</td>\n",
       "    </tr>\n",
       "    <tr>\n",
       "      <th>1</th>\n",
       "      <td>3</td>\n",
       "      <td>NaN</td>\n",
       "      <td>NaN</td>\n",
       "      <td>contains</td>\n",
       "      <td>vsphere</td>\n",
       "      <td>NaN</td>\n",
       "      <td>GRP_12</td>\n",
       "    </tr>\n",
       "    <tr>\n",
       "      <th>2</th>\n",
       "      <td>4</td>\n",
       "      <td>NaN</td>\n",
       "      <td>NaN</td>\n",
       "      <td>contains</td>\n",
       "      <td>esxi</td>\n",
       "      <td>NaN</td>\n",
       "      <td>GRP_12</td>\n",
       "    </tr>\n",
       "    <tr>\n",
       "      <th>3</th>\n",
       "      <td>5</td>\n",
       "      <td>NaN</td>\n",
       "      <td>NaN</td>\n",
       "      <td>contains</td>\n",
       "      <td>a termination for</td>\n",
       "      <td>NaN</td>\n",
       "      <td>GRP_2</td>\n",
       "    </tr>\n",
       "    <tr>\n",
       "      <th>4</th>\n",
       "      <td>7</td>\n",
       "      <td>NaN</td>\n",
       "      <td>NaN</td>\n",
       "      <td>contains</td>\n",
       "      <td>windows account</td>\n",
       "      <td>NaN</td>\n",
       "      <td>GRP_0</td>\n",
       "    </tr>\n",
       "    <tr>\n",
       "      <th>5</th>\n",
       "      <td>8</td>\n",
       "      <td>NaN</td>\n",
       "      <td>NaN</td>\n",
       "      <td>contains</td>\n",
       "      <td>erp SID_34 account locked</td>\n",
       "      <td>NaN</td>\n",
       "      <td>GRP_0</td>\n",
       "    </tr>\n",
       "    <tr>\n",
       "      <th>6</th>\n",
       "      <td>9</td>\n",
       "      <td>NaN</td>\n",
       "      <td>NaN</td>\n",
       "      <td>contains</td>\n",
       "      <td>erp SID_34 password reset</td>\n",
       "      <td>NaN</td>\n",
       "      <td>GRP_0</td>\n",
       "    </tr>\n",
       "    <tr>\n",
       "      <th>7</th>\n",
       "      <td>10</td>\n",
       "      <td>NaN</td>\n",
       "      <td>NaN</td>\n",
       "      <td>begins with</td>\n",
       "      <td>EU_tool</td>\n",
       "      <td>jionmpsf wnkpzcmv</td>\n",
       "      <td>GRP_24</td>\n",
       "    </tr>\n",
       "    <tr>\n",
       "      <th>8</th>\n",
       "      <td>11</td>\n",
       "      <td>NaN</td>\n",
       "      <td>NaN</td>\n",
       "      <td>begins with</td>\n",
       "      <td>EU_tool</td>\n",
       "      <td>cwrikael oanmsecr</td>\n",
       "      <td>GRP_0</td>\n",
       "    </tr>\n",
       "    <tr>\n",
       "      <th>9</th>\n",
       "      <td>13</td>\n",
       "      <td>NaN</td>\n",
       "      <td>NaN</td>\n",
       "      <td>contains</td>\n",
       "      <td>sso portal</td>\n",
       "      <td>NaN</td>\n",
       "      <td>GRP_73</td>\n",
       "    </tr>\n",
       "    <tr>\n",
       "      <th>10</th>\n",
       "      <td>14</td>\n",
       "      <td>NaN</td>\n",
       "      <td>NaN</td>\n",
       "      <td>contains</td>\n",
       "      <td>unable to complete forecast</td>\n",
       "      <td>NaN</td>\n",
       "      <td>GRP_67</td>\n",
       "    </tr>\n",
       "    <tr>\n",
       "      <th>11</th>\n",
       "      <td>15</td>\n",
       "      <td>NaN</td>\n",
       "      <td>NaN</td>\n",
       "      <td>contains</td>\n",
       "      <td>srvlavpwdrprd01</td>\n",
       "      <td>NaN</td>\n",
       "      <td>GRP_61</td>\n",
       "    </tr>\n",
       "    <tr>\n",
       "      <th>12</th>\n",
       "      <td>16</td>\n",
       "      <td>NaN</td>\n",
       "      <td>NaN</td>\n",
       "      <td>contains</td>\n",
       "      <td>company formatheywting standard</td>\n",
       "      <td>NaN</td>\n",
       "      <td>GRP_70</td>\n",
       "    </tr>\n",
       "    <tr>\n",
       "      <th>13</th>\n",
       "      <td>17</td>\n",
       "      <td>contains</td>\n",
       "      <td>files not processed</td>\n",
       "      <td>NaN</td>\n",
       "      <td>NaN</td>\n",
       "      <td>NaN</td>\n",
       "      <td>GRP_71</td>\n",
       "    </tr>\n",
       "    <tr>\n",
       "      <th>14</th>\n",
       "      <td>18</td>\n",
       "      <td>contains</td>\n",
       "      <td>erp kp06789</td>\n",
       "      <td>NaN</td>\n",
       "      <td>NaN</td>\n",
       "      <td>NaN</td>\n",
       "      <td>GRP_64</td>\n",
       "    </tr>\n",
       "  </tbody>\n",
       "</table>\n",
       "</div>"
      ],
      "text/plain": [
       "    S no Short Desc Rule    Short Dec Keyword    Desc Rule  \\\n",
       "0      2     begins with     erp access issue  begins with   \n",
       "1      3             NaN                  NaN     contains   \n",
       "2      4             NaN                  NaN     contains   \n",
       "3      5             NaN                  NaN     contains   \n",
       "4      7             NaN                  NaN     contains   \n",
       "5      8             NaN                  NaN     contains   \n",
       "6      9             NaN                  NaN     contains   \n",
       "7     10             NaN                  NaN  begins with   \n",
       "8     11             NaN                  NaN  begins with   \n",
       "9     13             NaN                  NaN     contains   \n",
       "10    14             NaN                  NaN     contains   \n",
       "11    15             NaN                  NaN     contains   \n",
       "12    16             NaN                  NaN     contains   \n",
       "13    17        contains  files not processed          NaN   \n",
       "14    18        contains          erp kp06789          NaN   \n",
       "\n",
       "                        Dec keyword               User   Group  \n",
       "0                      system (SID_                NaN   GRP_2  \n",
       "1                           vsphere                NaN  GRP_12  \n",
       "2                              esxi                NaN  GRP_12  \n",
       "3                 a termination for                NaN   GRP_2  \n",
       "4                   windows account                NaN   GRP_0  \n",
       "5         erp SID_34 account locked                NaN   GRP_0  \n",
       "6         erp SID_34 password reset                NaN   GRP_0  \n",
       "7                           EU_tool  jionmpsf wnkpzcmv  GRP_24  \n",
       "8                           EU_tool  cwrikael oanmsecr   GRP_0  \n",
       "9                        sso portal                NaN  GRP_73  \n",
       "10      unable to complete forecast                NaN  GRP_67  \n",
       "11                  srvlavpwdrprd01                NaN  GRP_61  \n",
       "12  company formatheywting standard                NaN  GRP_70  \n",
       "13                              NaN                NaN  GRP_71  \n",
       "14                              NaN                NaN  GRP_64  "
      ]
     },
     "execution_count": 121,
     "metadata": {},
     "output_type": "execute_result"
    }
   ],
   "source": [
    "df_rules.head(15)"
   ]
  },
  {
   "cell_type": "code",
   "execution_count": 122,
   "metadata": {},
   "outputs": [
    {
     "data": {
      "text/plain": [
       "'-verified user details.(employee# & manager name) -checked the user name in ad and reset the password. -advised the user to login and check. -caller confirmed that he was able to login. -issue resolved.'"
      ]
     },
     "execution_count": 122,
     "metadata": {},
     "output_type": "execute_result"
    }
   ],
   "source": [
    "d = 'Description'\n",
    "df[d][0]"
   ]
  },
  {
   "cell_type": "code",
   "execution_count": 123,
   "metadata": {},
   "outputs": [],
   "source": [
    "# def applyDetRules(datadf,rulesdf):\n",
    "#     #newDF = pd.DataFrame()\n",
    "#     datadf['pred_group'] = np.nan\n",
    "#     for i, row in rulesdf.iterrows():\n",
    "#         if rulesdf['Short Desc Rule'][i] == 'begins with' and rulesdf['Desc Rule'][i] == 'begins with' and pd.isna(rulesdf['User'][i]):\n",
    "#             print('rule10')\n",
    "#             for j, row in datadf.iterrows():\n",
    "#                 #print(j)\n",
    "#                 if pd.notna(datadf[ShortDescription][j]) and pd.notna(datadf['D_e'][j]):\n",
    "#                     if ((datadf[ShortDescription][j].startswith(rulesdf['Short Dec Keyword'][i])) and (datadf['D_e'][j].startswith(rulesdf['Dec keyword'][i]))):\n",
    "#                         print ('Rule 10 identified at' + str(j) + 'predgrp '  + rulesdf['Group'][i])\n",
    "#                         datadf['pred_group'][j] = rulesdf['Group'][i]\n",
    "#         if pd.isna(rulesdf['Short Desc Rule'][i]) and rulesdf['Desc Rule'][i] == 'begins with' and pd.notna(rulesdf['User'][i]):\n",
    "#             print('rule 25')\n",
    "#             for j, row in datadf.iterrows():\n",
    "#                 #print(j)\n",
    "#                 if pd.notna(datadf['D_e'][j]) and pd.notna(datadf['Caller'][j]):\n",
    "#                     if ((datadf['D_e'][j].startswith(rulesdf['Desc Rule'][i]) and (rulesdf['User'][i] == datadf['Caller'][j]))):\n",
    "#                         print ('Rule 25 dentified at' + str(j) + 'predgrp ' + rulesdf['Group'][i])\n",
    "#                         datadf['pred_group'][j] = rulesdf['Group'][i]\n",
    "#         if rulesdf['Short Desc Rule'][i] == 'contains' and pd.notna(rulesdf['User'][i]):\n",
    "#             print('rule 29')\n",
    "#             for j, row in datadf.iterrows():\n",
    "#                  #print(j)\n",
    "#                 if (pd.notna(datadf['SD_e'][j]) and pd.notna(datadf['Caller'][j])):\n",
    "#                      if ((rulesdf['Short Dec Keyword'][i] in datadf['SD_e'][j]) and (rulesdf['User'][i] == datadf['Caller'][j])):\n",
    "#                         print ('Rule 29 dentified at' + str(j)  + 'predgrp ' + rulesdf['Group'][i])\n",
    "#                         datadf['pred_group'][j] = rulesdf['Group'][i]\n",
    "#         if rulesdf['Short Desc Rule'][i] == 'contains' and pd.isna(rulesdf['Desc Rule'][i]) and pd.isna(rulesdf['User'][i]):\n",
    "#             print('rule20')\n",
    "#             for j, row in datadf.iterrows():\n",
    "#                 #print(j)\n",
    "#                 if pd.notna(datadf['SD_e'][j]):\n",
    "#                     if (rulesdf['Short Dec Keyword'][i] in datadf['SD_e'][j]):\n",
    "#                         print ('Rule 20 dentified at' + str(j)  + 'predgrp '  + rulesdf['Group'][i])\n",
    "#                         datadf['pred_group'][j] = rulesdf['Group'][i]\n",
    "                        \n",
    "                        \n",
    "#         if pd.isna(rulesdf['Short Desc Rule'][i]) and rulesdf['Desc Rule'][i] == 'begins with' and pd.isna(rulesdf['User'][i]):\n",
    "#             print('rule22')\n",
    "#             for j, row in datadf.iterrows():\n",
    "#                 #print(j)\n",
    "#                 if pd.notna(datadf['D_e'][j]):\n",
    "#                     if (datadf['D_e'][j].startswith(rulesdf['Dec keyword'][i])):\n",
    "#                         print ('Rule 22 dentified at' + str(j) + 'predgrp '  + rulesdf['Group'][i])\n",
    "#                         datadf['pred_group'][j] = rulesdf['Group'][i]\n",
    "                        \n",
    "#         if pd.isna(rulesdf['Short Desc Rule'][i]) and rulesdf['Desc Rule'][i] == 'contains' and pd.isna(rulesdf['User'][i]):\n",
    "#             print('rule23')\n",
    "#             for j, row in datadf.iterrows():\n",
    "#                 #print(j)\n",
    "#                 #print('i' + str(i))\n",
    "#                 if pd.notna(datadf['D_e'][j]):\n",
    "#                     if (rulesdf['Dec keyword'][i] in datadf['D_e'][j]):\n",
    "#                         print ('Rule 23 dentified at' + str(j) + 'predgrp '  + rulesdf['Group'][i])\n",
    "#                         datadf['pred_group'][j] = rulesdf['Group'][i]\n",
    "                        \n",
    "#     return datadf"
   ]
  },
  {
   "cell_type": "code",
   "execution_count": 126,
   "metadata": {},
   "outputs": [],
   "source": [
    "def applyDetRules(datadf,rulesdf,Description,ShortDescription):\n",
    "    datadf['pred_group'] = np.nan\n",
    "    for i, row in rulesdf.iterrows():\n",
    "        if rulesdf['Short Desc Rule'][i] == 'begins with' and rulesdf['Desc Rule'][i] == 'begins with' and pd.isna(rulesdf['User'][i]):\n",
    "            for j, row in datadf.iterrows():\n",
    "                if pd.notna(datadf[ShortDescription][j]) and pd.notna(datadf[Description][j]):\n",
    "                    if ((datadf[ShortDescription][j].startswith(rulesdf['Short Dec Keyword'][i])) and (datadf[Description][j].startswith(rulesdf['Dec keyword'][i]))):\n",
    "                        datadf['pred_group'][j] = rulesdf['Group'][i]\n",
    "        if pd.isna(rulesdf['Short Desc Rule'][i]) and rulesdf['Desc Rule'][i] == 'begins with' and pd.notna(rulesdf['User'][i]):\n",
    "            for j, row in datadf.iterrows():\n",
    "                if pd.notna(datadf[Description][j]) and pd.notna(datadf['Caller'][j]):\n",
    "                    if ((datadf[Description][j].startswith(rulesdf['Desc Rule'][i]) and (rulesdf['User'][i] == datadf['Caller'][j]))):\n",
    "                        datadf['pred_group'][j] = rulesdf['Group'][i]\n",
    "        if rulesdf['Short Desc Rule'][i] == 'contains' and pd.notna(rulesdf['User'][i]):\n",
    "            for j, row in datadf.iterrows():\n",
    "                if (pd.notna(datadf[ShortDescription][j]) and pd.notna(datadf['Caller'][j])):\n",
    "                     if ((rulesdf['Short Dec Keyword'][i] in datadf[ShortDescription][j]) and (rulesdf['User'][i] == datadf['Caller'][j])):\n",
    "                        datadf['pred_group'][j] = rulesdf['Group'][i]\n",
    "        if rulesdf['Short Desc Rule'][i] == 'contains' and pd.isna(rulesdf['Desc Rule'][i]) and pd.isna(rulesdf['User'][i]):\n",
    "            for j, row in datadf.iterrows():\n",
    "                #print(j)\n",
    "                if pd.notna(datadf[ShortDescription][j]):\n",
    "                    if (rulesdf['Short Dec Keyword'][i] in datadf[ShortDescription][j]):\n",
    "                        datadf['pred_group'][j] = rulesdf['Group'][i]\n",
    "        if pd.isna(rulesdf['Short Desc Rule'][i]) and rulesdf['Desc Rule'][i] == 'begins with' and pd.isna(rulesdf['User'][i]):\n",
    "            for j, row in datadf.iterrows():\n",
    "                if pd.notna(datadf[Description][j]):\n",
    "                    if (datadf[Description][j].startswith(rulesdf['Dec keyword'][i])):\n",
    "                        datadf['pred_group'][j] = rulesdf['Group'][i]\n",
    "        if pd.isna(rulesdf['Short Desc Rule'][i]) and rulesdf['Desc Rule'][i] == 'contains' and pd.isna(rulesdf['User'][i]):\n",
    "            for j, row in datadf.iterrows():\n",
    "                if pd.notna(datadf[Description][j]):\n",
    "                    if (rulesdf['Dec keyword'][i] in datadf[Description][j]):\n",
    "                        datadf['pred_group'][j] = rulesdf['Group'][i]\n",
    "        #hardcoding GRP25\n",
    "        for j, row in datadf.iterrows():\n",
    "            if pd.notna(datadf[ShortDescription][j]):\n",
    "                if (('erp' in datadf[ShortDescription][j]) and (('EU_tool' in datadf[ShortDescription][j]))):\n",
    "                        datadf['pred_group'][j] = 'GRP_25'\n",
    "\n",
    "        #Hardcoding GRP17\n",
    "        for j, row in datadf.iterrows():\n",
    "            if pd.notna(datadf[Description][j]):\n",
    "                if (datadf[Description][j] == 'the'):\n",
    "                        datadf['pred_group'][j] = 'GRP_17' \n",
    "                if (('finance_app' in datadf[ShortDescription][j]) and ('HostName_1132' not in datadf[ShortDescription][j])):\n",
    "                    datadf['pred_group'][j] = 'GRP_55'\n",
    "                if (('processor' in datadf[Description][j]) and ('engg' in datadf[Description][j])):\n",
    "                    datadf['pred_group'][j] = 'GRP_58'\n",
    "\n",
    "    return datadf"
   ]
  },
  {
   "cell_type": "code",
   "execution_count": 127,
   "metadata": {},
   "outputs": [],
   "source": [
    "df = applyDetRules(df,df_rules,'Description','ShortDescription')"
   ]
  },
  {
   "cell_type": "code",
   "execution_count": 128,
   "metadata": {},
   "outputs": [
    {
     "data": {
      "text/html": [
       "<div>\n",
       "<style scoped>\n",
       "    .dataframe tbody tr th:only-of-type {\n",
       "        vertical-align: middle;\n",
       "    }\n",
       "\n",
       "    .dataframe tbody tr th {\n",
       "        vertical-align: top;\n",
       "    }\n",
       "\n",
       "    .dataframe thead th {\n",
       "        text-align: right;\n",
       "    }\n",
       "</style>\n",
       "<table border=\"1\" class=\"dataframe\">\n",
       "  <thead>\n",
       "    <tr style=\"text-align: right;\">\n",
       "      <th></th>\n",
       "      <th>ShortDescription</th>\n",
       "      <th>Description</th>\n",
       "      <th>Assignment_group</th>\n",
       "      <th>Caller</th>\n",
       "      <th>pred_group</th>\n",
       "    </tr>\n",
       "  </thead>\n",
       "  <tbody>\n",
       "    <tr>\n",
       "      <th>0</th>\n",
       "      <td>login issue</td>\n",
       "      <td>-verified user details.(employee# &amp; manager na...</td>\n",
       "      <td>GRP_0</td>\n",
       "      <td>spxjnwir pjlcoqds</td>\n",
       "      <td>NaN</td>\n",
       "    </tr>\n",
       "    <tr>\n",
       "      <th>1</th>\n",
       "      <td>outlook</td>\n",
       "      <td>received from: emailaddress  hello team   my...</td>\n",
       "      <td>GRP_0</td>\n",
       "      <td>hmjdrvpb komuaywn</td>\n",
       "      <td>NaN</td>\n",
       "    </tr>\n",
       "    <tr>\n",
       "      <th>2</th>\n",
       "      <td>cant log in to vpn</td>\n",
       "      <td>received from: emailaddress  hi  i cannot lo...</td>\n",
       "      <td>GRP_0</td>\n",
       "      <td>eylqgodm ybqkwiam</td>\n",
       "      <td>NaN</td>\n",
       "    </tr>\n",
       "    <tr>\n",
       "      <th>3</th>\n",
       "      <td>unable to access hr_tool page</td>\n",
       "      <td>unable to access hr_tool page</td>\n",
       "      <td>GRP_0</td>\n",
       "      <td>xbkucsvz gcpydteq</td>\n",
       "      <td>NaN</td>\n",
       "    </tr>\n",
       "    <tr>\n",
       "      <th>4</th>\n",
       "      <td>skype error</td>\n",
       "      <td>skype error</td>\n",
       "      <td>GRP_0</td>\n",
       "      <td>owlgqjme qhcozdfx</td>\n",
       "      <td>NaN</td>\n",
       "    </tr>\n",
       "  </tbody>\n",
       "</table>\n",
       "</div>"
      ],
      "text/plain": [
       "                ShortDescription  \\\n",
       "0                    login issue   \n",
       "1                        outlook   \n",
       "2             cant log in to vpn   \n",
       "3  unable to access hr_tool page   \n",
       "4                    skype error   \n",
       "\n",
       "                                         Description Assignment_group  \\\n",
       "0  -verified user details.(employee# & manager na...            GRP_0   \n",
       "1    received from: emailaddress  hello team   my...            GRP_0   \n",
       "2    received from: emailaddress  hi  i cannot lo...            GRP_0   \n",
       "3                      unable to access hr_tool page            GRP_0   \n",
       "4                                        skype error            GRP_0   \n",
       "\n",
       "              Caller pred_group  \n",
       "0  spxjnwir pjlcoqds        NaN  \n",
       "1  hmjdrvpb komuaywn        NaN  \n",
       "2  eylqgodm ybqkwiam        NaN  \n",
       "3  xbkucsvz gcpydteq        NaN  \n",
       "4  owlgqjme qhcozdfx        NaN  "
      ]
     },
     "execution_count": 128,
     "metadata": {},
     "output_type": "execute_result"
    }
   ],
   "source": [
    "df.head()"
   ]
  },
  {
   "cell_type": "code",
   "execution_count": 83,
   "metadata": {},
   "outputs": [],
   "source": [
    "#df.apply(lambda x: pd.notna(x['pred_group']))"
   ]
  },
  {
   "cell_type": "code",
   "execution_count": 84,
   "metadata": {},
   "outputs": [],
   "source": [
    "#df[~df['pred_group'].isnull()]\n",
    "\n",
    "#for i, row in df.iterrows():\n",
    "#    if \n",
    "#for i in df[~df['pred_group'].isnull()]['pred_group']:\n",
    "#    print(i)\n",
    "        "
   ]
  },
  {
   "cell_type": "code",
   "execution_count": 85,
   "metadata": {},
   "outputs": [],
   "source": [
    "#df_rules['Short Dec Keyword'][2]"
   ]
  },
  {
   "cell_type": "code",
   "execution_count": 86,
   "metadata": {},
   "outputs": [],
   "source": [
    "#df.iloc[1049]"
   ]
  },
  {
   "cell_type": "code",
   "execution_count": 129,
   "metadata": {},
   "outputs": [
    {
     "data": {
      "text/plain": [
       "GRP_0     140\n",
       "GRP_17     56\n",
       "GRP_2      41\n",
       "GRP_55      7\n",
       "GRP_39      7\n",
       "GRP_25      4\n",
       "GRP_12      4\n",
       "GRP_36      4\n",
       "GRP_63      3\n",
       "GRP_58      3\n",
       "GRP_71      2\n",
       "GRP_69      2\n",
       "GRP_68      2\n",
       "GRP_35      1\n",
       "GRP_38      1\n",
       "GRP_70      1\n",
       "GRP_61      1\n",
       "GRP_73      1\n",
       "GRP_46      1\n",
       "GRP_67      1\n",
       "GRP_64      1\n",
       "Name: pred_group, dtype: int64"
      ]
     },
     "execution_count": 129,
     "metadata": {},
     "output_type": "execute_result"
    }
   ],
   "source": [
    "df['pred_group'].value_counts()"
   ]
  },
  {
   "cell_type": "code",
   "execution_count": 130,
   "metadata": {},
   "outputs": [],
   "source": [
    "df['isDiff'] = np.where(df['pred_group'] != df['Assignment_group'] , 'diff', 'same')"
   ]
  },
  {
   "cell_type": "code",
   "execution_count": 89,
   "metadata": {},
   "outputs": [],
   "source": [
    "# def compareCols(datadf):\n",
    "#     datadf['isDiff'] = np.where(datadf['pred_group'] != datadf['Assignment_group'] , 'diff', 'same')\n",
    "# #datadf[~datadf['pred_group'].isnull()]\n",
    "#     for i, row in datadf[~datadf['pred_group'].isnull()].iterrows():\n",
    "#         np.where(datadf['pred_group'][i] != datadf['Assignment_group']):\n",
    "#             print('Actual : '+ str(datadf['Assignment_group']) +'  Predicted : '+ str(datadf['pred_group'][i]))\n",
    "\n",
    "            "
   ]
  },
  {
   "cell_type": "code",
   "execution_count": 131,
   "metadata": {},
   "outputs": [
    {
     "data": {
      "text/plain": [
       "diff    8219\n",
       "same     281\n",
       "Name: isDiff, dtype: int64"
      ]
     },
     "execution_count": 131,
     "metadata": {},
     "output_type": "execute_result"
    }
   ],
   "source": [
    "df['isDiff'].value_counts()"
   ]
  },
  {
   "cell_type": "code",
   "execution_count": 133,
   "metadata": {
    "tags": []
   },
   "outputs": [
    {
     "name": "stdout",
     "output_type": "stream",
     "text": [
      "Empty DataFrame\n",
      "Columns: [ShortDescription, Description, Assignment_group, Caller, pred_group, isDiff]\n",
      "Index: []\n"
     ]
    }
   ],
   "source": [
    "print(df[(df['pred_group'].isnull()) & df['isDiff'] == 'diff'])\n",
    "# df[df['isDiff'] == 'diff']"
   ]
  },
  {
   "cell_type": "code",
   "execution_count": 134,
   "metadata": {},
   "outputs": [],
   "source": [
    "df2 = df"
   ]
  },
  {
   "cell_type": "code",
   "execution_count": 136,
   "metadata": {},
   "outputs": [],
   "source": [
    "#write_xlsx(df,\"H:\\PGP_AIML\\11.Capstone\\CapstoneGIT\\Harsha\\\\exorted.xlsx\")\n",
    "df.to_csv(r'H:\\PGP_AIML\\11.Capstone\\CapstoneGIT\\Harsha\\exported.csv')"
   ]
  },
  {
   "cell_type": "code",
   "execution_count": 102,
   "metadata": {},
   "outputs": [
    {
     "ename": "TypeError",
     "evalue": "ufunc 'isnan' not supported for the input types, and the inputs could not be safely coerced to any supported types according to the casting rule ''safe''",
     "output_type": "error",
     "traceback": [
      "\u001b[1;31m---------------------------------------------------------------------------\u001b[0m",
      "\u001b[1;31mTypeError\u001b[0m                                 Traceback (most recent call last)",
      "\u001b[1;32m<ipython-input-102-64f91975918e>\u001b[0m in \u001b[0;36m<module>\u001b[1;34m\u001b[0m\n\u001b[0;32m      1\u001b[0m \u001b[1;31m#filter1 = pd.notnull(df['pred_group'])\u001b[0m\u001b[1;33m\u001b[0m\u001b[1;33m\u001b[0m\u001b[1;33m\u001b[0m\u001b[0m\n\u001b[1;32m----> 2\u001b[1;33m \u001b[0mfilter1\u001b[0m \u001b[1;33m=\u001b[0m \u001b[1;33m(\u001b[0m\u001b[1;33m~\u001b[0m\u001b[0mnp\u001b[0m\u001b[1;33m.\u001b[0m\u001b[0misnan\u001b[0m\u001b[1;33m(\u001b[0m\u001b[0mdf\u001b[0m\u001b[1;33m[\u001b[0m\u001b[1;34m'pred_group'\u001b[0m\u001b[1;33m]\u001b[0m\u001b[1;33m)\u001b[0m\u001b[1;33m)\u001b[0m\u001b[1;33m\u001b[0m\u001b[1;33m\u001b[0m\u001b[0m\n\u001b[0m\u001b[0;32m      3\u001b[0m \u001b[0mfilter2\u001b[0m \u001b[1;33m=\u001b[0m \u001b[0mdf\u001b[0m\u001b[1;33m[\u001b[0m\u001b[1;34m'isDiff'\u001b[0m\u001b[1;33m]\u001b[0m \u001b[1;33m==\u001b[0m \u001b[1;34m'diff'\u001b[0m\u001b[1;33m\u001b[0m\u001b[1;33m\u001b[0m\u001b[0m\n\u001b[0;32m      4\u001b[0m \u001b[1;33m\u001b[0m\u001b[0m\n\u001b[0;32m      5\u001b[0m \u001b[1;31m# filtering data\u001b[0m\u001b[1;33m\u001b[0m\u001b[1;33m\u001b[0m\u001b[1;33m\u001b[0m\u001b[0m\n",
      "\u001b[1;31mTypeError\u001b[0m: ufunc 'isnan' not supported for the input types, and the inputs could not be safely coerced to any supported types according to the casting rule ''safe''"
     ]
    }
   ],
   "source": [
    "#filter1 = pd.notnull(df['pred_group'])\n",
    "df[~df['pred_group'].isnull()]\n",
    "filter1 = (~np.isnan(df['pred_group']))\n",
    "filter2 = df['isDiff'] == 'diff'\n",
    "  \n",
    "# filtering data \n",
    "df.where(filter1)\n",
    "df"
   ]
  },
  {
   "cell_type": "code",
   "execution_count": 137,
   "metadata": {},
   "outputs": [
    {
     "data": {
      "text/plain": [
       "GRP_0     140\n",
       "GRP_17     56\n",
       "GRP_2      41\n",
       "GRP_55      7\n",
       "GRP_39      7\n",
       "GRP_25      4\n",
       "GRP_12      4\n",
       "GRP_36      4\n",
       "GRP_63      3\n",
       "GRP_58      3\n",
       "GRP_71      2\n",
       "GRP_69      2\n",
       "GRP_68      2\n",
       "GRP_35      1\n",
       "GRP_38      1\n",
       "GRP_70      1\n",
       "GRP_61      1\n",
       "GRP_73      1\n",
       "GRP_46      1\n",
       "GRP_67      1\n",
       "GRP_64      1\n",
       "Name: pred_group, dtype: int64"
      ]
     },
     "execution_count": 137,
     "metadata": {},
     "output_type": "execute_result"
    }
   ],
   "source": [
    "df['pred_group'].value_counts()"
   ]
  },
  {
   "cell_type": "code",
   "execution_count": null,
   "metadata": {},
   "outputs": [],
   "source": []
  }
 ],
 "metadata": {
  "kernelspec": {
   "display_name": "Python 3",
   "language": "python",
   "name": "python3"
  },
  "language_info": {
   "codemirror_mode": {
    "name": "ipython",
    "version": 3
   },
   "file_extension": ".py",
   "mimetype": "text/x-python",
   "name": "python",
   "nbconvert_exporter": "python",
   "pygments_lexer": "ipython3",
   "version": "3.7.3"
  }
 },
 "nbformat": 4,
 "nbformat_minor": 2
}
